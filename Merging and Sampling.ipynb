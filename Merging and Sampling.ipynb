{
 "cells": [
  {
   "cell_type": "code",
   "execution_count": 3,
   "metadata": {},
   "outputs": [],
   "source": [
    "import pandas as pd\n",
    "from tqdm import tqdm"
   ]
  },
  {
   "cell_type": "markdown",
   "metadata": {},
   "source": [
    "# Load data"
   ]
  },
  {
   "cell_type": "code",
   "execution_count": 4,
   "metadata": {},
   "outputs": [
    {
     "name": "stderr",
     "output_type": "stream",
     "text": [
      "b'Skipping line 85458: expected 15 fields, saw 22\\nSkipping line 91161: expected 15 fields, saw 22\\n'\n",
      "b'Skipping line 166123: expected 15 fields, saw 22\\n'\n",
      "b'Skipping line 225458: expected 15 fields, saw 22\\nSkipping line 229936: expected 15 fields, saw 22\\nSkipping line 259297: expected 15 fields, saw 22\\n'\n",
      "b'Skipping line 284728: expected 15 fields, saw 22\\nSkipping line 286334: expected 15 fields, saw 22\\nSkipping line 293400: expected 15 fields, saw 22\\nSkipping line 294415: expected 15 fields, saw 22\\nSkipping line 308150: expected 15 fields, saw 22\\nSkipping line 315022: expected 15 fields, saw 22\\nSkipping line 315730: expected 15 fields, saw 22\\nSkipping line 316071: expected 15 fields, saw 22\\nSkipping line 326729: expected 15 fields, saw 22\\n'\n",
      "b'Skipping line 329101: expected 15 fields, saw 22\\nSkipping line 333077: expected 15 fields, saw 22\\nSkipping line 377031: expected 15 fields, saw 22\\nSkipping line 389496: expected 15 fields, saw 22\\nSkipping line 390486: expected 15 fields, saw 22\\n'\n",
      "b'Skipping line 418308: expected 15 fields, saw 22\\nSkipping line 454332: expected 15 fields, saw 22\\nSkipping line 458342: expected 15 fields, saw 22\\n'\n",
      "b'Skipping line 460704: expected 15 fields, saw 22\\nSkipping line 466250: expected 15 fields, saw 22\\nSkipping line 486023: expected 15 fields, saw 22\\nSkipping line 492819: expected 15 fields, saw 22\\nSkipping line 517468: expected 15 fields, saw 22\\nSkipping line 520963: expected 15 fields, saw 22\\n'\n",
      "b'Skipping line 528810: expected 15 fields, saw 22\\nSkipping line 554419: expected 15 fields, saw 22\\nSkipping line 565266: expected 15 fields, saw 22\\n'\n",
      "b'Skipping line 613248: expected 15 fields, saw 22\\nSkipping line 613988: expected 15 fields, saw 22\\nSkipping line 620134: expected 15 fields, saw 22\\nSkipping line 642170: expected 15 fields, saw 22\\n'\n",
      "b'Skipping line 670152: expected 15 fields, saw 22\\nSkipping line 681751: expected 15 fields, saw 22\\n'\n",
      "b'Skipping line 811638: expected 15 fields, saw 22\\n'\n",
      "b'Skipping line 913254: expected 15 fields, saw 22\\n'\n",
      "b'Skipping line 1168305: expected 15 fields, saw 22\\n'\n"
     ]
    },
    {
     "data": {
      "text/html": [
       "<div>\n",
       "<style scoped>\n",
       "    .dataframe tbody tr th:only-of-type {\n",
       "        vertical-align: middle;\n",
       "    }\n",
       "\n",
       "    .dataframe tbody tr th {\n",
       "        vertical-align: top;\n",
       "    }\n",
       "\n",
       "    .dataframe thead th {\n",
       "        text-align: right;\n",
       "    }\n",
       "</style>\n",
       "<table border=\"1\" class=\"dataframe\">\n",
       "  <thead>\n",
       "    <tr style=\"text-align: right;\">\n",
       "      <th></th>\n",
       "      <th>marketplace</th>\n",
       "      <th>customer_id</th>\n",
       "      <th>review_id</th>\n",
       "      <th>product_id</th>\n",
       "      <th>product_parent</th>\n",
       "      <th>product_title</th>\n",
       "      <th>product_category</th>\n",
       "      <th>star_rating</th>\n",
       "      <th>helpful_votes</th>\n",
       "      <th>total_votes</th>\n",
       "      <th>vine</th>\n",
       "      <th>verified_purchase</th>\n",
       "      <th>review_headline</th>\n",
       "      <th>review_body</th>\n",
       "      <th>review_date</th>\n",
       "    </tr>\n",
       "  </thead>\n",
       "  <tbody>\n",
       "    <tr>\n",
       "      <th>0</th>\n",
       "      <td>US</td>\n",
       "      <td>2975964</td>\n",
       "      <td>R1NBG94582SJE2</td>\n",
       "      <td>B00I01JQJM</td>\n",
       "      <td>860486164</td>\n",
       "      <td>GoPro Rechargeable Battery 2.0 (HERO3/HERO3+ o...</td>\n",
       "      <td>Camera</td>\n",
       "      <td>5</td>\n",
       "      <td>0</td>\n",
       "      <td>0</td>\n",
       "      <td>N</td>\n",
       "      <td>Y</td>\n",
       "      <td>Five Stars</td>\n",
       "      <td>ok</td>\n",
       "      <td>2015-08-31</td>\n",
       "    </tr>\n",
       "    <tr>\n",
       "      <th>1</th>\n",
       "      <td>US</td>\n",
       "      <td>23526356</td>\n",
       "      <td>R273DCA6Y0H9V7</td>\n",
       "      <td>B00TCO0ZAA</td>\n",
       "      <td>292641483</td>\n",
       "      <td>Professional 58mm Center Pinch Lens Cap for CA...</td>\n",
       "      <td>Camera</td>\n",
       "      <td>5</td>\n",
       "      <td>0</td>\n",
       "      <td>0</td>\n",
       "      <td>N</td>\n",
       "      <td>Y</td>\n",
       "      <td>Love it!!!</td>\n",
       "      <td>Perfect, even sturdier than the original!</td>\n",
       "      <td>2015-08-31</td>\n",
       "    </tr>\n",
       "    <tr>\n",
       "      <th>2</th>\n",
       "      <td>US</td>\n",
       "      <td>52764145</td>\n",
       "      <td>RQVOXO7WUOFK6</td>\n",
       "      <td>B00B7733E0</td>\n",
       "      <td>75825744</td>\n",
       "      <td>Spy Tec Z12 Motion Activated Intelligent Secur...</td>\n",
       "      <td>Camera</td>\n",
       "      <td>2</td>\n",
       "      <td>1</td>\n",
       "      <td>1</td>\n",
       "      <td>N</td>\n",
       "      <td>Y</td>\n",
       "      <td>Another Motion Detect Fail</td>\n",
       "      <td>If the words, &amp;#34;Cheap Chinese Junk&amp;#34; com...</td>\n",
       "      <td>2015-08-31</td>\n",
       "    </tr>\n",
       "    <tr>\n",
       "      <th>3</th>\n",
       "      <td>US</td>\n",
       "      <td>47348933</td>\n",
       "      <td>R1KWKSF21PO6HO</td>\n",
       "      <td>B006ZN4U34</td>\n",
       "      <td>789352955</td>\n",
       "      <td>Celestron UpClose G2 10x25 Monocular, Black (7...</td>\n",
       "      <td>Camera</td>\n",
       "      <td>5</td>\n",
       "      <td>0</td>\n",
       "      <td>0</td>\n",
       "      <td>N</td>\n",
       "      <td>Y</td>\n",
       "      <td>Exactly what I wanted and expected.</td>\n",
       "      <td>Exactly what I wanted and expected. Perfect fo...</td>\n",
       "      <td>2015-08-31</td>\n",
       "    </tr>\n",
       "    <tr>\n",
       "      <th>4</th>\n",
       "      <td>US</td>\n",
       "      <td>33680700</td>\n",
       "      <td>R38H3UO1J190GI</td>\n",
       "      <td>B00HUEBGMU</td>\n",
       "      <td>19067902</td>\n",
       "      <td>Vidpro XM-L Wired Lavalier microphone - 20' Au...</td>\n",
       "      <td>Camera</td>\n",
       "      <td>5</td>\n",
       "      <td>1</td>\n",
       "      <td>1</td>\n",
       "      <td>N</td>\n",
       "      <td>Y</td>\n",
       "      <td>Good mic at a Good Price...Not Canon Though.</td>\n",
       "      <td>I will look past the fact that they tricked me...</td>\n",
       "      <td>2015-08-31</td>\n",
       "    </tr>\n",
       "  </tbody>\n",
       "</table>\n",
       "</div>"
      ],
      "text/plain": [
       "  marketplace  customer_id       review_id  product_id  product_parent  \\\n",
       "0          US      2975964  R1NBG94582SJE2  B00I01JQJM       860486164   \n",
       "1          US     23526356  R273DCA6Y0H9V7  B00TCO0ZAA       292641483   \n",
       "2          US     52764145   RQVOXO7WUOFK6  B00B7733E0        75825744   \n",
       "3          US     47348933  R1KWKSF21PO6HO  B006ZN4U34       789352955   \n",
       "4          US     33680700  R38H3UO1J190GI  B00HUEBGMU        19067902   \n",
       "\n",
       "                                       product_title product_category  \\\n",
       "0  GoPro Rechargeable Battery 2.0 (HERO3/HERO3+ o...           Camera   \n",
       "1  Professional 58mm Center Pinch Lens Cap for CA...           Camera   \n",
       "2  Spy Tec Z12 Motion Activated Intelligent Secur...           Camera   \n",
       "3  Celestron UpClose G2 10x25 Monocular, Black (7...           Camera   \n",
       "4  Vidpro XM-L Wired Lavalier microphone - 20' Au...           Camera   \n",
       "\n",
       "   star_rating  helpful_votes  total_votes vine verified_purchase  \\\n",
       "0            5              0            0    N                 Y   \n",
       "1            5              0            0    N                 Y   \n",
       "2            2              1            1    N                 Y   \n",
       "3            5              0            0    N                 Y   \n",
       "4            5              1            1    N                 Y   \n",
       "\n",
       "                                review_headline  \\\n",
       "0                                    Five Stars   \n",
       "1                                    Love it!!!   \n",
       "2                    Another Motion Detect Fail   \n",
       "3           Exactly what I wanted and expected.   \n",
       "4  Good mic at a Good Price...Not Canon Though.   \n",
       "\n",
       "                                         review_body review_date  \n",
       "0                                                 ok  2015-08-31  \n",
       "1          Perfect, even sturdier than the original!  2015-08-31  \n",
       "2  If the words, &#34;Cheap Chinese Junk&#34; com...  2015-08-31  \n",
       "3  Exactly what I wanted and expected. Perfect fo...  2015-08-31  \n",
       "4  I will look past the fact that they tricked me...  2015-08-31  "
      ]
     },
     "execution_count": 4,
     "metadata": {},
     "output_type": "execute_result"
    }
   ],
   "source": [
    "camera=pd.read_table('./amazon_reviews_us_Camera_v1_00.tsv', error_bad_lines=False)\n",
    "camera.head()"
   ]
  },
  {
   "cell_type": "code",
   "execution_count": 5,
   "metadata": {},
   "outputs": [
    {
     "name": "stderr",
     "output_type": "stream",
     "text": [
      "b'Skipping line 1925: expected 15 fields, saw 22\\nSkipping line 1977: expected 15 fields, saw 22\\nSkipping line 35265: expected 15 fields, saw 22\\nSkipping line 53357: expected 15 fields, saw 22\\n'\n",
      "b'Skipping line 68361: expected 15 fields, saw 22\\nSkipping line 70922: expected 15 fields, saw 22\\nSkipping line 73503: expected 15 fields, saw 22\\nSkipping line 85612: expected 15 fields, saw 22\\nSkipping line 102322: expected 15 fields, saw 22\\n'\n",
      "b'Skipping line 158341: expected 15 fields, saw 22\\nSkipping line 162872: expected 15 fields, saw 22\\nSkipping line 195697: expected 15 fields, saw 22\\n'\n",
      "b'Skipping line 202916: expected 15 fields, saw 22\\nSkipping line 203949: expected 15 fields, saw 22\\nSkipping line 250853: expected 15 fields, saw 22\\n'\n",
      "b'Skipping line 265820: expected 15 fields, saw 22\\nSkipping line 304569: expected 15 fields, saw 22\\nSkipping line 313136: expected 15 fields, saw 22\\nSkipping line 313160: expected 15 fields, saw 22\\nSkipping line 316345: expected 15 fields, saw 22\\nSkipping line 320940: expected 15 fields, saw 22\\nSkipping line 327593: expected 15 fields, saw 22\\n'\n",
      "b'Skipping line 333518: expected 15 fields, saw 22\\nSkipping line 345213: expected 15 fields, saw 22\\nSkipping line 346177: expected 15 fields, saw 22\\nSkipping line 362905: expected 15 fields, saw 22\\nSkipping line 378290: expected 15 fields, saw 22\\nSkipping line 389110: expected 15 fields, saw 22\\n'\n",
      "b'Skipping line 422928: expected 15 fields, saw 22\\nSkipping line 424436: expected 15 fields, saw 22\\nSkipping line 428873: expected 15 fields, saw 22\\nSkipping line 434163: expected 15 fields, saw 22\\nSkipping line 449737: expected 15 fields, saw 22\\nSkipping line 453302: expected 15 fields, saw 22\\n'\n",
      "b'Skipping line 459205: expected 15 fields, saw 22\\nSkipping line 464340: expected 15 fields, saw 22\\nSkipping line 514160: expected 15 fields, saw 22\\nSkipping line 523695: expected 15 fields, saw 22\\n'\n",
      "b'Skipping line 560739: expected 15 fields, saw 22\\nSkipping line 579800: expected 15 fields, saw 22\\n'\n",
      "b'Skipping line 596983: expected 15 fields, saw 22\\nSkipping line 599808: expected 15 fields, saw 22\\nSkipping line 622799: expected 15 fields, saw 22\\nSkipping line 639148: expected 15 fields, saw 22\\n'\n",
      "b'Skipping line 677643: expected 15 fields, saw 22\\nSkipping line 689626: expected 15 fields, saw 22\\n'\n",
      "b'Skipping line 748449: expected 15 fields, saw 22\\nSkipping line 764569: expected 15 fields, saw 22\\nSkipping line 772447: expected 15 fields, saw 22\\nSkipping line 773999: expected 15 fields, saw 22\\nSkipping line 774131: expected 15 fields, saw 22\\nSkipping line 786164: expected 15 fields, saw 22\\n'\n",
      "b'Skipping line 787274: expected 15 fields, saw 22\\nSkipping line 815676: expected 15 fields, saw 22\\n'\n",
      "b'Skipping line 874843: expected 15 fields, saw 22\\nSkipping line 904685: expected 15 fields, saw 22\\nSkipping line 915432: expected 15 fields, saw 22\\n'\n",
      "b'Skipping line 936339: expected 15 fields, saw 22\\nSkipping line 944830: expected 15 fields, saw 22\\nSkipping line 963551: expected 15 fields, saw 22\\nSkipping line 966835: expected 15 fields, saw 22\\nSkipping line 978466: expected 15 fields, saw 22\\n'\n",
      "b'Skipping line 1005807: expected 15 fields, saw 22\\nSkipping line 1005871: expected 15 fields, saw 22\\n'\n",
      "b'Skipping line 1086545: expected 15 fields, saw 22\\nSkipping line 1104208: expected 15 fields, saw 22\\n'\n",
      "b'Skipping line 1124945: expected 15 fields, saw 22\\nSkipping line 1151568: expected 15 fields, saw 22\\n'\n",
      "b'Skipping line 1266845: expected 15 fields, saw 22\\n'\n",
      "b'Skipping line 1334061: expected 15 fields, saw 22\\n'\n",
      "b'Skipping line 1379263: expected 15 fields, saw 22\\n'\n",
      "/anaconda3/lib/python3.7/site-packages/IPython/core/interactiveshell.py:2785: DtypeWarning: Columns (7) have mixed types. Specify dtype option on import or set low_memory=False.\n",
      "  interactivity=interactivity, compiler=compiler, result=result)\n",
      "b'Skipping line 20630: expected 15 fields, saw 22\\nSkipping line 28172: expected 15 fields, saw 22\\nSkipping line 54791: expected 15 fields, saw 22\\n'\n",
      "b'Skipping line 75419: expected 15 fields, saw 22\\nSkipping line 104832: expected 15 fields, saw 22\\n'\n",
      "b'Skipping line 138464: expected 15 fields, saw 22\\nSkipping line 194849: expected 15 fields, saw 22\\n'\n",
      "b'Skipping line 201568: expected 15 fields, saw 22\\nSkipping line 242567: expected 15 fields, saw 22\\n'\n",
      "b'Skipping line 493585: expected 15 fields, saw 22\\nSkipping line 502478: expected 15 fields, saw 22\\n'\n",
      "b'Skipping line 660750: expected 15 fields, saw 22\\n'\n",
      "b'Skipping line 8704: expected 15 fields, saw 22\\nSkipping line 16933: expected 15 fields, saw 22\\nSkipping line 23726: expected 15 fields, saw 22\\n'\n",
      "b'Skipping line 85637: expected 15 fields, saw 22\\n'\n",
      "b'Skipping line 132136: expected 15 fields, saw 22\\nSkipping line 158070: expected 15 fields, saw 22\\nSkipping line 166007: expected 15 fields, saw 22\\nSkipping line 171877: expected 15 fields, saw 22\\nSkipping line 177756: expected 15 fields, saw 22\\nSkipping line 181773: expected 15 fields, saw 22\\nSkipping line 191085: expected 15 fields, saw 22\\nSkipping line 196273: expected 15 fields, saw 22\\nSkipping line 196331: expected 15 fields, saw 22\\n'\n",
      "b'Skipping line 197000: expected 15 fields, saw 22\\nSkipping line 197011: expected 15 fields, saw 22\\nSkipping line 197432: expected 15 fields, saw 22\\nSkipping line 208016: expected 15 fields, saw 22\\nSkipping line 214110: expected 15 fields, saw 22\\nSkipping line 244328: expected 15 fields, saw 22\\nSkipping line 248519: expected 15 fields, saw 22\\nSkipping line 254936: expected 15 fields, saw 22\\n'\n",
      "b'Skipping line 272057: expected 15 fields, saw 22\\nSkipping line 293214: expected 15 fields, saw 22\\nSkipping line 310507: expected 15 fields, saw 22\\nSkipping line 312306: expected 15 fields, saw 22\\nSkipping line 316296: expected 15 fields, saw 22\\n'\n",
      "b'Skipping line 336028: expected 15 fields, saw 22\\nSkipping line 344885: expected 15 fields, saw 22\\nSkipping line 352551: expected 15 fields, saw 22\\n'\n",
      "b'Skipping line 408773: expected 15 fields, saw 22\\nSkipping line 434535: expected 15 fields, saw 22\\n'\n",
      "b'Skipping line 581593: expected 15 fields, saw 22\\n'\n",
      "b'Skipping line 652409: expected 15 fields, saw 22\\n'\n"
     ]
    }
   ],
   "source": [
    "grocery=pd.read_table('./amazon_reviews_us_Grocery_v1_00.tsv', error_bad_lines=False)\n",
    "videogames=pd.read_table('./amazon_reviews_us_Video_Games_v1_00.tsv', error_bad_lines=False)\n",
    "watches=pd.read_table('./amazon_reviews_us_Watches_v1_00.tsv', error_bad_lines=False)"
   ]
  },
  {
   "cell_type": "markdown",
   "metadata": {},
   "source": [
    "# Remove neutral class"
   ]
  },
  {
   "cell_type": "code",
   "execution_count": 6,
   "metadata": {},
   "outputs": [],
   "source": [
    "camera_binary = camera.loc[camera['star_rating'] != 3]\n"
   ]
  },
  {
   "cell_type": "code",
   "execution_count": 7,
   "metadata": {},
   "outputs": [
    {
     "data": {
      "text/html": [
       "<div>\n",
       "<style scoped>\n",
       "    .dataframe tbody tr th:only-of-type {\n",
       "        vertical-align: middle;\n",
       "    }\n",
       "\n",
       "    .dataframe tbody tr th {\n",
       "        vertical-align: top;\n",
       "    }\n",
       "\n",
       "    .dataframe thead th {\n",
       "        text-align: right;\n",
       "    }\n",
       "</style>\n",
       "<table border=\"1\" class=\"dataframe\">\n",
       "  <thead>\n",
       "    <tr style=\"text-align: right;\">\n",
       "      <th></th>\n",
       "      <th>marketplace</th>\n",
       "      <th>customer_id</th>\n",
       "      <th>review_id</th>\n",
       "      <th>product_id</th>\n",
       "      <th>product_parent</th>\n",
       "      <th>product_title</th>\n",
       "      <th>product_category</th>\n",
       "      <th>star_rating</th>\n",
       "      <th>helpful_votes</th>\n",
       "      <th>total_votes</th>\n",
       "      <th>vine</th>\n",
       "      <th>verified_purchase</th>\n",
       "      <th>review_headline</th>\n",
       "      <th>review_body</th>\n",
       "      <th>review_date</th>\n",
       "    </tr>\n",
       "  </thead>\n",
       "  <tbody>\n",
       "    <tr>\n",
       "      <th>0</th>\n",
       "      <td>US</td>\n",
       "      <td>2975964</td>\n",
       "      <td>R1NBG94582SJE2</td>\n",
       "      <td>B00I01JQJM</td>\n",
       "      <td>860486164</td>\n",
       "      <td>GoPro Rechargeable Battery 2.0 (HERO3/HERO3+ o...</td>\n",
       "      <td>Camera</td>\n",
       "      <td>5</td>\n",
       "      <td>0</td>\n",
       "      <td>0</td>\n",
       "      <td>N</td>\n",
       "      <td>Y</td>\n",
       "      <td>Five Stars</td>\n",
       "      <td>ok</td>\n",
       "      <td>2015-08-31</td>\n",
       "    </tr>\n",
       "    <tr>\n",
       "      <th>1</th>\n",
       "      <td>US</td>\n",
       "      <td>23526356</td>\n",
       "      <td>R273DCA6Y0H9V7</td>\n",
       "      <td>B00TCO0ZAA</td>\n",
       "      <td>292641483</td>\n",
       "      <td>Professional 58mm Center Pinch Lens Cap for CA...</td>\n",
       "      <td>Camera</td>\n",
       "      <td>5</td>\n",
       "      <td>0</td>\n",
       "      <td>0</td>\n",
       "      <td>N</td>\n",
       "      <td>Y</td>\n",
       "      <td>Love it!!!</td>\n",
       "      <td>Perfect, even sturdier than the original!</td>\n",
       "      <td>2015-08-31</td>\n",
       "    </tr>\n",
       "    <tr>\n",
       "      <th>2</th>\n",
       "      <td>US</td>\n",
       "      <td>52764145</td>\n",
       "      <td>RQVOXO7WUOFK6</td>\n",
       "      <td>B00B7733E0</td>\n",
       "      <td>75825744</td>\n",
       "      <td>Spy Tec Z12 Motion Activated Intelligent Secur...</td>\n",
       "      <td>Camera</td>\n",
       "      <td>2</td>\n",
       "      <td>1</td>\n",
       "      <td>1</td>\n",
       "      <td>N</td>\n",
       "      <td>Y</td>\n",
       "      <td>Another Motion Detect Fail</td>\n",
       "      <td>If the words, &amp;#34;Cheap Chinese Junk&amp;#34; com...</td>\n",
       "      <td>2015-08-31</td>\n",
       "    </tr>\n",
       "    <tr>\n",
       "      <th>3</th>\n",
       "      <td>US</td>\n",
       "      <td>47348933</td>\n",
       "      <td>R1KWKSF21PO6HO</td>\n",
       "      <td>B006ZN4U34</td>\n",
       "      <td>789352955</td>\n",
       "      <td>Celestron UpClose G2 10x25 Monocular, Black (7...</td>\n",
       "      <td>Camera</td>\n",
       "      <td>5</td>\n",
       "      <td>0</td>\n",
       "      <td>0</td>\n",
       "      <td>N</td>\n",
       "      <td>Y</td>\n",
       "      <td>Exactly what I wanted and expected.</td>\n",
       "      <td>Exactly what I wanted and expected. Perfect fo...</td>\n",
       "      <td>2015-08-31</td>\n",
       "    </tr>\n",
       "    <tr>\n",
       "      <th>4</th>\n",
       "      <td>US</td>\n",
       "      <td>33680700</td>\n",
       "      <td>R38H3UO1J190GI</td>\n",
       "      <td>B00HUEBGMU</td>\n",
       "      <td>19067902</td>\n",
       "      <td>Vidpro XM-L Wired Lavalier microphone - 20' Au...</td>\n",
       "      <td>Camera</td>\n",
       "      <td>5</td>\n",
       "      <td>1</td>\n",
       "      <td>1</td>\n",
       "      <td>N</td>\n",
       "      <td>Y</td>\n",
       "      <td>Good mic at a Good Price...Not Canon Though.</td>\n",
       "      <td>I will look past the fact that they tricked me...</td>\n",
       "      <td>2015-08-31</td>\n",
       "    </tr>\n",
       "  </tbody>\n",
       "</table>\n",
       "</div>"
      ],
      "text/plain": [
       "  marketplace  customer_id       review_id  product_id  product_parent  \\\n",
       "0          US      2975964  R1NBG94582SJE2  B00I01JQJM       860486164   \n",
       "1          US     23526356  R273DCA6Y0H9V7  B00TCO0ZAA       292641483   \n",
       "2          US     52764145   RQVOXO7WUOFK6  B00B7733E0        75825744   \n",
       "3          US     47348933  R1KWKSF21PO6HO  B006ZN4U34       789352955   \n",
       "4          US     33680700  R38H3UO1J190GI  B00HUEBGMU        19067902   \n",
       "\n",
       "                                       product_title product_category  \\\n",
       "0  GoPro Rechargeable Battery 2.0 (HERO3/HERO3+ o...           Camera   \n",
       "1  Professional 58mm Center Pinch Lens Cap for CA...           Camera   \n",
       "2  Spy Tec Z12 Motion Activated Intelligent Secur...           Camera   \n",
       "3  Celestron UpClose G2 10x25 Monocular, Black (7...           Camera   \n",
       "4  Vidpro XM-L Wired Lavalier microphone - 20' Au...           Camera   \n",
       "\n",
       "   star_rating  helpful_votes  total_votes vine verified_purchase  \\\n",
       "0            5              0            0    N                 Y   \n",
       "1            5              0            0    N                 Y   \n",
       "2            2              1            1    N                 Y   \n",
       "3            5              0            0    N                 Y   \n",
       "4            5              1            1    N                 Y   \n",
       "\n",
       "                                review_headline  \\\n",
       "0                                    Five Stars   \n",
       "1                                    Love it!!!   \n",
       "2                    Another Motion Detect Fail   \n",
       "3           Exactly what I wanted and expected.   \n",
       "4  Good mic at a Good Price...Not Canon Though.   \n",
       "\n",
       "                                         review_body review_date  \n",
       "0                                                 ok  2015-08-31  \n",
       "1          Perfect, even sturdier than the original!  2015-08-31  \n",
       "2  If the words, &#34;Cheap Chinese Junk&#34; com...  2015-08-31  \n",
       "3  Exactly what I wanted and expected. Perfect fo...  2015-08-31  \n",
       "4  I will look past the fact that they tricked me...  2015-08-31  "
      ]
     },
     "execution_count": 7,
     "metadata": {},
     "output_type": "execute_result"
    }
   ],
   "source": [
    "camera_binary.head()"
   ]
  },
  {
   "cell_type": "code",
   "execution_count": 8,
   "metadata": {},
   "outputs": [],
   "source": [
    "grocery_binary =  grocery.loc[grocery['star_rating'] != 3]"
   ]
  },
  {
   "cell_type": "code",
   "execution_count": 9,
   "metadata": {},
   "outputs": [],
   "source": [
    "videogames_binary = videogames.loc[videogames['star_rating'] != 3]\n",
    "watches_binary = watches.loc[watches['star_rating'] != 3]"
   ]
  },
  {
   "cell_type": "code",
   "execution_count": 10,
   "metadata": {},
   "outputs": [
    {
     "data": {
      "text/plain": [
       "5    571173\n",
       "4    172781\n",
       "1     85126\n",
       "2     52008\n",
       "Name: star_rating, dtype: int64"
      ]
     },
     "execution_count": 10,
     "metadata": {},
     "output_type": "execute_result"
    }
   ],
   "source": [
    "watches_binary['star_rating'].value_counts()"
   ]
  },
  {
   "cell_type": "code",
   "execution_count": 11,
   "metadata": {},
   "outputs": [
    {
     "data": {
      "text/plain": [
       "(1659477, 15)"
      ]
     },
     "execution_count": 11,
     "metadata": {},
     "output_type": "execute_result"
    }
   ],
   "source": [
    "camera_binary.shape\n"
   ]
  },
  {
   "cell_type": "markdown",
   "metadata": {},
   "source": [
    "# Take out test data ~20,000 examples (for camera)"
   ]
  },
  {
   "cell_type": "code",
   "execution_count": 12,
   "metadata": {},
   "outputs": [],
   "source": [
    "from sklearn.model_selection import train_test_split"
   ]
  },
  {
   "cell_type": "code",
   "execution_count": 13,
   "metadata": {},
   "outputs": [],
   "source": [
    "camera_train, camera_test = train_test_split(camera_binary, test_size=0.012)"
   ]
  },
  {
   "cell_type": "code",
   "execution_count": 14,
   "metadata": {},
   "outputs": [],
   "source": [
    "camera_pos = camera_train[camera_train['star_rating'].isin([4, 5])]"
   ]
  },
  {
   "cell_type": "code",
   "execution_count": 15,
   "metadata": {},
   "outputs": [
    {
     "data": {
      "text/plain": [
       "(19914, 15)"
      ]
     },
     "execution_count": 15,
     "metadata": {},
     "output_type": "execute_result"
    }
   ],
   "source": [
    "camera_test.shape"
   ]
  },
  {
   "cell_type": "code",
   "execution_count": 16,
   "metadata": {},
   "outputs": [
    {
     "data": {
      "text/plain": [
       "5    1049201\n",
       "4     332476\n",
       "Name: star_rating, dtype: int64"
      ]
     },
     "execution_count": 16,
     "metadata": {},
     "output_type": "execute_result"
    }
   ],
   "source": [
    "camera_pos['star_rating'].value_counts()"
   ]
  },
  {
   "cell_type": "markdown",
   "metadata": {},
   "source": [
    "# Balance data 50,000 : 50,000"
   ]
  },
  {
   "cell_type": "code",
   "execution_count": 17,
   "metadata": {},
   "outputs": [],
   "source": [
    "#grocery_train, grocery_test = train_test_split(grocery_binary, test_size=0.2)\n",
    "#watches_train, watches_test = train_test_split(watches_binary, test_size=0.2)\n",
    "camera_pos_small = camera_pos.sample(50000)\n"
   ]
  },
  {
   "cell_type": "code",
   "execution_count": 18,
   "metadata": {},
   "outputs": [],
   "source": [
    "camera_neg = camera_train[camera_train['star_rating'].isin([1, 2])]"
   ]
  },
  {
   "cell_type": "code",
   "execution_count": 19,
   "metadata": {},
   "outputs": [],
   "source": [
    "camera_neg_small = camera_neg.sample(50000)\n"
   ]
  },
  {
   "cell_type": "code",
   "execution_count": 20,
   "metadata": {},
   "outputs": [
    {
     "data": {
      "text/plain": [
       "(50000, 15)"
      ]
     },
     "execution_count": 20,
     "metadata": {},
     "output_type": "execute_result"
    }
   ],
   "source": [
    "camera_neg_small.shape"
   ]
  },
  {
   "cell_type": "code",
   "execution_count": 21,
   "metadata": {},
   "outputs": [
    {
     "data": {
      "text/plain": [
       "1    32557\n",
       "2    17443\n",
       "Name: star_rating, dtype: int64"
      ]
     },
     "execution_count": 21,
     "metadata": {},
     "output_type": "execute_result"
    }
   ],
   "source": [
    "camera_neg_small['star_rating'].value_counts()"
   ]
  },
  {
   "cell_type": "code",
   "execution_count": 22,
   "metadata": {},
   "outputs": [
    {
     "data": {
      "text/plain": [
       "5    38020\n",
       "4    11980\n",
       "Name: star_rating, dtype: int64"
      ]
     },
     "execution_count": 22,
     "metadata": {},
     "output_type": "execute_result"
    }
   ],
   "source": [
    "camera_pos_small['star_rating'].value_counts()"
   ]
  },
  {
   "cell_type": "code",
   "execution_count": 23,
   "metadata": {},
   "outputs": [],
   "source": [
    "camera_train_small = camera_pos_small.append(camera_neg_small)"
   ]
  },
  {
   "cell_type": "code",
   "execution_count": 24,
   "metadata": {},
   "outputs": [
    {
     "data": {
      "text/plain": [
       "(100000, 15)"
      ]
     },
     "execution_count": 24,
     "metadata": {},
     "output_type": "execute_result"
    }
   ],
   "source": [
    "camera_train_small.shape"
   ]
  },
  {
   "cell_type": "code",
   "execution_count": 25,
   "metadata": {},
   "outputs": [
    {
     "data": {
      "text/plain": [
       "5    38020\n",
       "1    32557\n",
       "2    17443\n",
       "4    11980\n",
       "Name: star_rating, dtype: int64"
      ]
     },
     "execution_count": 25,
     "metadata": {},
     "output_type": "execute_result"
    }
   ],
   "source": [
    "camera_train_small['star_rating'].value_counts()"
   ]
  },
  {
   "cell_type": "code",
   "execution_count": 26,
   "metadata": {},
   "outputs": [
    {
     "name": "stderr",
     "output_type": "stream",
     "text": [
      "100%|██████████| 100000/100000 [00:06<00:00, 15630.50it/s]\n"
     ]
    }
   ],
   "source": [
    "camera_train_small['sentiment_actual']=\"default\"\n",
    "\n",
    "with tqdm(total=len(list(camera_train_small.iterrows()))) as pbar:\n",
    "\n",
    "    for index, row in camera_train_small.iterrows():\n",
    "        if row['star_rating'] > 3.0:\n",
    "            camera_train_small.at[index, 'sentiment_actual']=\"pos\"\n",
    "        else:\n",
    "            camera_train_small.at[index, 'sentiment_actual']=\"neg\"\n",
    "\n",
    "        pbar.update(1)"
   ]
  },
  {
   "cell_type": "code",
   "execution_count": 27,
   "metadata": {},
   "outputs": [
    {
     "name": "stderr",
     "output_type": "stream",
     "text": [
      "/anaconda3/lib/python3.7/site-packages/ipykernel_launcher.py:1: SettingWithCopyWarning: \n",
      "A value is trying to be set on a copy of a slice from a DataFrame.\n",
      "Try using .loc[row_indexer,col_indexer] = value instead\n",
      "\n",
      "See the caveats in the documentation: http://pandas.pydata.org/pandas-docs/stable/indexing.html#indexing-view-versus-copy\n",
      "  \"\"\"Entry point for launching an IPython kernel.\n",
      "100%|██████████| 19914/19914 [00:01<00:00, 15216.04it/s]\n"
     ]
    }
   ],
   "source": [
    "camera_test['sentiment_actual']=\"default\"\n",
    "\n",
    "with tqdm(total=len(list(camera_test.iterrows()))) as pbar:\n",
    "\n",
    "    for index, row in camera_test.iterrows():\n",
    "        if row['star_rating'] > 3.0:\n",
    "            camera_test.at[index, 'sentiment_actual']=\"pos\"\n",
    "        else:\n",
    "            camera_test.at[index, 'sentiment_actual']=\"neg\"\n",
    "\n",
    "        pbar.update(1)"
   ]
  },
  {
   "cell_type": "code",
   "execution_count": 28,
   "metadata": {},
   "outputs": [
    {
     "data": {
      "text/plain": [
       "neg    50000\n",
       "pos    50000\n",
       "Name: sentiment_actual, dtype: int64"
      ]
     },
     "execution_count": 28,
     "metadata": {},
     "output_type": "execute_result"
    }
   ],
   "source": [
    "camera_train_small['sentiment_actual'].value_counts()"
   ]
  },
  {
   "cell_type": "code",
   "execution_count": 29,
   "metadata": {},
   "outputs": [
    {
     "data": {
      "text/plain": [
       "pos    16846\n",
       "neg     3068\n",
       "Name: sentiment_actual, dtype: int64"
      ]
     },
     "execution_count": 29,
     "metadata": {},
     "output_type": "execute_result"
    }
   ],
   "source": [
    "camera_test['sentiment_actual'].value_counts()"
   ]
  },
  {
   "cell_type": "code",
   "execution_count": 30,
   "metadata": {},
   "outputs": [
    {
     "data": {
      "text/html": [
       "<div>\n",
       "<style scoped>\n",
       "    .dataframe tbody tr th:only-of-type {\n",
       "        vertical-align: middle;\n",
       "    }\n",
       "\n",
       "    .dataframe tbody tr th {\n",
       "        vertical-align: top;\n",
       "    }\n",
       "\n",
       "    .dataframe thead th {\n",
       "        text-align: right;\n",
       "    }\n",
       "</style>\n",
       "<table border=\"1\" class=\"dataframe\">\n",
       "  <thead>\n",
       "    <tr style=\"text-align: right;\">\n",
       "      <th></th>\n",
       "      <th>marketplace</th>\n",
       "      <th>customer_id</th>\n",
       "      <th>review_id</th>\n",
       "      <th>product_id</th>\n",
       "      <th>product_parent</th>\n",
       "      <th>product_title</th>\n",
       "      <th>product_category</th>\n",
       "      <th>star_rating</th>\n",
       "      <th>helpful_votes</th>\n",
       "      <th>total_votes</th>\n",
       "      <th>vine</th>\n",
       "      <th>verified_purchase</th>\n",
       "      <th>review_headline</th>\n",
       "      <th>review_body</th>\n",
       "      <th>review_date</th>\n",
       "      <th>sentiment_actual</th>\n",
       "    </tr>\n",
       "  </thead>\n",
       "  <tbody>\n",
       "    <tr>\n",
       "      <th>1085615</th>\n",
       "      <td>US</td>\n",
       "      <td>23448481</td>\n",
       "      <td>R2VC2SRI4WWXX2</td>\n",
       "      <td>B00009UT3F</td>\n",
       "      <td>41736920</td>\n",
       "      <td>Sunpak 620-080 Tripod</td>\n",
       "      <td>Camera</td>\n",
       "      <td>5</td>\n",
       "      <td>2</td>\n",
       "      <td>2</td>\n",
       "      <td>N</td>\n",
       "      <td>Y</td>\n",
       "      <td>Very good in his class &amp; price tripod.</td>\n",
       "      <td>I am not a professional photographer. My Equip...</td>\n",
       "      <td>2013-06-02</td>\n",
       "      <td>pos</td>\n",
       "    </tr>\n",
       "    <tr>\n",
       "      <th>1719983</th>\n",
       "      <td>US</td>\n",
       "      <td>52603580</td>\n",
       "      <td>R3J0MAB6BLXT8</td>\n",
       "      <td>B000EW8074</td>\n",
       "      <td>188673452</td>\n",
       "      <td>Canon EF-S 17-55mm f/2.8 IS USM Lens for Canon...</td>\n",
       "      <td>Camera</td>\n",
       "      <td>5</td>\n",
       "      <td>2</td>\n",
       "      <td>6</td>\n",
       "      <td>N</td>\n",
       "      <td>Y</td>\n",
       "      <td>WOW</td>\n",
       "      <td>I spent a lot of time reviewing different lens...</td>\n",
       "      <td>2007-08-26</td>\n",
       "      <td>pos</td>\n",
       "    </tr>\n",
       "    <tr>\n",
       "      <th>85046</th>\n",
       "      <td>US</td>\n",
       "      <td>26703433</td>\n",
       "      <td>R58IS363SSPWU</td>\n",
       "      <td>B00JJS9Y9M</td>\n",
       "      <td>231289333</td>\n",
       "      <td>-</td>\n",
       "      <td>Camera</td>\n",
       "      <td>4</td>\n",
       "      <td>0</td>\n",
       "      <td>0</td>\n",
       "      <td>N</td>\n",
       "      <td>Y</td>\n",
       "      <td>Four Stars</td>\n",
       "      <td>does the job</td>\n",
       "      <td>2015-07-15</td>\n",
       "      <td>pos</td>\n",
       "    </tr>\n",
       "    <tr>\n",
       "      <th>652525</th>\n",
       "      <td>US</td>\n",
       "      <td>19633995</td>\n",
       "      <td>R2ZISCUFU4N5SR</td>\n",
       "      <td>B00KX3WEN0</td>\n",
       "      <td>775991474</td>\n",
       "      <td>Amjimshop Professional Stereo USB Microphone A...</td>\n",
       "      <td>Camera</td>\n",
       "      <td>5</td>\n",
       "      <td>0</td>\n",
       "      <td>0</td>\n",
       "      <td>N</td>\n",
       "      <td>N</td>\n",
       "      <td>I love it</td>\n",
       "      <td>All groovy</td>\n",
       "      <td>2014-08-12</td>\n",
       "      <td>pos</td>\n",
       "    </tr>\n",
       "    <tr>\n",
       "      <th>790747</th>\n",
       "      <td>US</td>\n",
       "      <td>18028630</td>\n",
       "      <td>R39PSKBHOQPEO2</td>\n",
       "      <td>B009ZVN9IA</td>\n",
       "      <td>807651014</td>\n",
       "      <td>52mm Ultraviolet UV Filter &amp; 52mm Tulip Lens H...</td>\n",
       "      <td>Camera</td>\n",
       "      <td>5</td>\n",
       "      <td>0</td>\n",
       "      <td>0</td>\n",
       "      <td>N</td>\n",
       "      <td>Y</td>\n",
       "      <td>UV filter</td>\n",
       "      <td>Was looking for a kit to protect my camera and...</td>\n",
       "      <td>2014-04-12</td>\n",
       "      <td>pos</td>\n",
       "    </tr>\n",
       "  </tbody>\n",
       "</table>\n",
       "</div>"
      ],
      "text/plain": [
       "        marketplace  customer_id       review_id  product_id  product_parent  \\\n",
       "1085615          US     23448481  R2VC2SRI4WWXX2  B00009UT3F        41736920   \n",
       "1719983          US     52603580   R3J0MAB6BLXT8  B000EW8074       188673452   \n",
       "85046            US     26703433   R58IS363SSPWU  B00JJS9Y9M       231289333   \n",
       "652525           US     19633995  R2ZISCUFU4N5SR  B00KX3WEN0       775991474   \n",
       "790747           US     18028630  R39PSKBHOQPEO2  B009ZVN9IA       807651014   \n",
       "\n",
       "                                             product_title product_category  \\\n",
       "1085615                              Sunpak 620-080 Tripod           Camera   \n",
       "1719983  Canon EF-S 17-55mm f/2.8 IS USM Lens for Canon...           Camera   \n",
       "85046                                                    -           Camera   \n",
       "652525   Amjimshop Professional Stereo USB Microphone A...           Camera   \n",
       "790747   52mm Ultraviolet UV Filter & 52mm Tulip Lens H...           Camera   \n",
       "\n",
       "         star_rating  helpful_votes  total_votes vine verified_purchase  \\\n",
       "1085615            5              2            2    N                 Y   \n",
       "1719983            5              2            6    N                 Y   \n",
       "85046              4              0            0    N                 Y   \n",
       "652525             5              0            0    N                 N   \n",
       "790747             5              0            0    N                 Y   \n",
       "\n",
       "                                review_headline  \\\n",
       "1085615  Very good in his class & price tripod.   \n",
       "1719983                                     WOW   \n",
       "85046                                Four Stars   \n",
       "652525                                I love it   \n",
       "790747                                UV filter   \n",
       "\n",
       "                                               review_body review_date  \\\n",
       "1085615  I am not a professional photographer. My Equip...  2013-06-02   \n",
       "1719983  I spent a lot of time reviewing different lens...  2007-08-26   \n",
       "85046                                         does the job  2015-07-15   \n",
       "652525                                          All groovy  2014-08-12   \n",
       "790747   Was looking for a kit to protect my camera and...  2014-04-12   \n",
       "\n",
       "        sentiment_actual  \n",
       "1085615              pos  \n",
       "1719983              pos  \n",
       "85046                pos  \n",
       "652525               pos  \n",
       "790747               pos  "
      ]
     },
     "execution_count": 30,
     "metadata": {},
     "output_type": "execute_result"
    }
   ],
   "source": [
    "camera_train_small.head()"
   ]
  },
  {
   "cell_type": "code",
   "execution_count": 31,
   "metadata": {},
   "outputs": [],
   "source": [
    "camera_test.to_csv(\"camera_test.csv\", sep='\\t')\n",
    "camera_train_small.to_csv(\"camera_train.csv\", sep='\\t')"
   ]
  },
  {
   "cell_type": "markdown",
   "metadata": {},
   "source": [
    "# Do the same for the other 3 datasets (grocery)"
   ]
  },
  {
   "cell_type": "code",
   "execution_count": 32,
   "metadata": {},
   "outputs": [
    {
     "data": {
      "text/plain": [
       "(2237255, 15)"
      ]
     },
     "execution_count": 32,
     "metadata": {},
     "output_type": "execute_result"
    }
   ],
   "source": [
    "grocery_binary.shape"
   ]
  },
  {
   "cell_type": "code",
   "execution_count": 33,
   "metadata": {},
   "outputs": [],
   "source": [
    "grocery_train, grocery_test = train_test_split(grocery_binary, test_size=0.009)"
   ]
  },
  {
   "cell_type": "code",
   "execution_count": 34,
   "metadata": {},
   "outputs": [
    {
     "data": {
      "text/plain": [
       "(20136, 15)"
      ]
     },
     "execution_count": 34,
     "metadata": {},
     "output_type": "execute_result"
    }
   ],
   "source": [
    "grocery_test.shape"
   ]
  },
  {
   "cell_type": "code",
   "execution_count": 35,
   "metadata": {},
   "outputs": [],
   "source": [
    "grocery_pos = grocery_train[grocery_train['star_rating'].isin([4, 5])]\n",
    "grocery_neg = grocery_train[grocery_train['star_rating'].isin([1, 2])]"
   ]
  },
  {
   "cell_type": "code",
   "execution_count": 36,
   "metadata": {},
   "outputs": [
    {
     "data": {
      "text/plain": [
       "(273947, 15)"
      ]
     },
     "execution_count": 36,
     "metadata": {},
     "output_type": "execute_result"
    }
   ],
   "source": [
    "grocery_neg.shape"
   ]
  },
  {
   "cell_type": "code",
   "execution_count": 37,
   "metadata": {},
   "outputs": [],
   "source": [
    "grocery_pos_small = grocery_pos.sample(50000)\n",
    "grocery_neg_small = grocery_neg.sample(50000)"
   ]
  },
  {
   "cell_type": "code",
   "execution_count": 38,
   "metadata": {},
   "outputs": [],
   "source": [
    "grocery_train_small = grocery_pos_small.append(grocery_neg_small)"
   ]
  },
  {
   "cell_type": "code",
   "execution_count": 39,
   "metadata": {},
   "outputs": [
    {
     "data": {
      "text/plain": [
       "(100000, 15)"
      ]
     },
     "execution_count": 39,
     "metadata": {},
     "output_type": "execute_result"
    }
   ],
   "source": [
    "grocery_train_small.shape"
   ]
  },
  {
   "cell_type": "code",
   "execution_count": 40,
   "metadata": {},
   "outputs": [
    {
     "name": "stderr",
     "output_type": "stream",
     "text": [
      "100%|██████████| 100000/100000 [00:07<00:00, 13450.40it/s]\n"
     ]
    }
   ],
   "source": [
    "grocery_train_small['sentiment_actual']=\"default\"\n",
    "\n",
    "with tqdm(total=len(list(grocery_train_small.iterrows()))) as pbar:\n",
    "\n",
    "    for index, row in grocery_train_small.iterrows():\n",
    "        if row['star_rating'] == 4 or row['star_rating']==5:\n",
    "            grocery_train_small.at[index, 'sentiment_actual']=\"pos\"\n",
    "        else:\n",
    "            grocery_train_small.at[index, 'sentiment_actual']=\"neg\"\n",
    "\n",
    "        pbar.update(1)"
   ]
  },
  {
   "cell_type": "code",
   "execution_count": 42,
   "metadata": {},
   "outputs": [
    {
     "name": "stderr",
     "output_type": "stream",
     "text": [
      "/anaconda3/lib/python3.7/site-packages/ipykernel_launcher.py:1: SettingWithCopyWarning: \n",
      "A value is trying to be set on a copy of a slice from a DataFrame.\n",
      "Try using .loc[row_indexer,col_indexer] = value instead\n",
      "\n",
      "See the caveats in the documentation: http://pandas.pydata.org/pandas-docs/stable/indexing.html#indexing-view-versus-copy\n",
      "  \"\"\"Entry point for launching an IPython kernel.\n",
      "100%|██████████| 20136/20136 [00:01<00:00, 12197.95it/s]\n"
     ]
    }
   ],
   "source": [
    "grocery_test['sentiment_actual']=\"default\"\n",
    "\n",
    "with tqdm(total=len(list(grocery_test.iterrows()))) as pbar:\n",
    "\n",
    "    for index, row in grocery_test.iterrows():\n",
    "        if row['star_rating'] == 4 or row['star_rating']==5:\n",
    "            grocery_test.at[index, 'sentiment_actual']=\"pos\"\n",
    "        else:\n",
    "            grocery_test.at[index, 'sentiment_actual']=\"neg\"\n",
    "\n",
    "        pbar.update(1)"
   ]
  },
  {
   "cell_type": "code",
   "execution_count": 43,
   "metadata": {},
   "outputs": [],
   "source": [
    "grocery_test.to_csv(\"grocery_test.csv\", sep='\\t')\n",
    "grocery_train_small.to_csv(\"grocery_train.csv\", sep='\\t')"
   ]
  },
  {
   "cell_type": "markdown",
   "metadata": {},
   "source": [
    "# Watches"
   ]
  },
  {
   "cell_type": "code",
   "execution_count": 44,
   "metadata": {},
   "outputs": [
    {
     "data": {
      "text/plain": [
       "(881088, 15)"
      ]
     },
     "execution_count": 44,
     "metadata": {},
     "output_type": "execute_result"
    }
   ],
   "source": [
    "watches_binary.shape"
   ]
  },
  {
   "cell_type": "code",
   "execution_count": 45,
   "metadata": {},
   "outputs": [],
   "source": [
    "watches_train, watches_test = train_test_split(watches_binary, test_size=0.023)"
   ]
  },
  {
   "cell_type": "code",
   "execution_count": 46,
   "metadata": {},
   "outputs": [
    {
     "data": {
      "text/plain": [
       "(20266, 15)"
      ]
     },
     "execution_count": 46,
     "metadata": {},
     "output_type": "execute_result"
    }
   ],
   "source": [
    "watches_test.shape"
   ]
  },
  {
   "cell_type": "code",
   "execution_count": 47,
   "metadata": {},
   "outputs": [],
   "source": [
    "watches_pos = watches_train[watches_train['star_rating'].isin([4, 5])]\n",
    "watches_neg = watches_train[watches_train['star_rating'].isin([1, 2])]"
   ]
  },
  {
   "cell_type": "code",
   "execution_count": 48,
   "metadata": {},
   "outputs": [
    {
     "data": {
      "text/plain": [
       "(133940, 15)"
      ]
     },
     "execution_count": 48,
     "metadata": {},
     "output_type": "execute_result"
    }
   ],
   "source": [
    "watches_neg.shape"
   ]
  },
  {
   "cell_type": "code",
   "execution_count": 49,
   "metadata": {},
   "outputs": [
    {
     "data": {
      "text/plain": [
       "(100000, 15)"
      ]
     },
     "execution_count": 49,
     "metadata": {},
     "output_type": "execute_result"
    }
   ],
   "source": [
    "watches_pos_small = watches_pos.sample(50000)\n",
    "watches_neg_small = watches_neg.sample(50000)\n",
    "watches_train_small = watches_pos_small.append(watches_neg_small)\n",
    "watches_train_small.shape"
   ]
  },
  {
   "cell_type": "code",
   "execution_count": 50,
   "metadata": {},
   "outputs": [
    {
     "name": "stderr",
     "output_type": "stream",
     "text": [
      "100%|██████████| 100000/100000 [00:07<00:00, 13840.35it/s]\n"
     ]
    }
   ],
   "source": [
    "watches_train_small['sentiment_actual']=\"default\"\n",
    "\n",
    "with tqdm(total=len(list(watches_train_small.iterrows()))) as pbar:\n",
    "\n",
    "    for index, row in watches_train_small.iterrows():\n",
    "        if row['star_rating'] > 3.0:\n",
    "            watches_train_small.at[index, 'sentiment_actual']=\"pos\"\n",
    "        else:\n",
    "            watches_train_small.at[index, 'sentiment_actual']=\"neg\"\n",
    "\n",
    "        pbar.update(1)"
   ]
  },
  {
   "cell_type": "code",
   "execution_count": 51,
   "metadata": {},
   "outputs": [
    {
     "name": "stderr",
     "output_type": "stream",
     "text": [
      "/anaconda3/lib/python3.7/site-packages/ipykernel_launcher.py:1: SettingWithCopyWarning: \n",
      "A value is trying to be set on a copy of a slice from a DataFrame.\n",
      "Try using .loc[row_indexer,col_indexer] = value instead\n",
      "\n",
      "See the caveats in the documentation: http://pandas.pydata.org/pandas-docs/stable/indexing.html#indexing-view-versus-copy\n",
      "  \"\"\"Entry point for launching an IPython kernel.\n",
      "100%|██████████| 20266/20266 [00:01<00:00, 13227.58it/s]\n"
     ]
    }
   ],
   "source": [
    "watches_test['sentiment_actual']=\"default\"\n",
    "\n",
    "with tqdm(total=len(list(watches_test.iterrows()))) as pbar:\n",
    "\n",
    "    for index, row in watches_test.iterrows():\n",
    "        if row['star_rating'] > 3.0:\n",
    "            watches_test.at[index, 'sentiment_actual']=\"pos\"\n",
    "        else:\n",
    "            watches_test.at[index, 'sentiment_actual']=\"neg\"\n",
    "\n",
    "        pbar.update(1)"
   ]
  },
  {
   "cell_type": "code",
   "execution_count": 52,
   "metadata": {},
   "outputs": [],
   "source": [
    "watches_test.to_csv(\"watches_test.csv\", sep='\\t')\n",
    "watches_train_small.to_csv(\"watches_train.csv\", sep='\\t')"
   ]
  },
  {
   "cell_type": "markdown",
   "metadata": {},
   "source": [
    "# Videogames"
   ]
  },
  {
   "cell_type": "code",
   "execution_count": 53,
   "metadata": {},
   "outputs": [
    {
     "data": {
      "text/plain": [
       "(1626817, 15)"
      ]
     },
     "execution_count": 53,
     "metadata": {},
     "output_type": "execute_result"
    }
   ],
   "source": [
    "videogames_binary.shape"
   ]
  },
  {
   "cell_type": "code",
   "execution_count": 54,
   "metadata": {},
   "outputs": [],
   "source": [
    "videogames_train, videogames_test = train_test_split(videogames_binary, test_size=0.012)"
   ]
  },
  {
   "cell_type": "code",
   "execution_count": 55,
   "metadata": {},
   "outputs": [
    {
     "data": {
      "text/plain": [
       "(19522, 15)"
      ]
     },
     "execution_count": 55,
     "metadata": {},
     "output_type": "execute_result"
    }
   ],
   "source": [
    "videogames_test.shape"
   ]
  },
  {
   "cell_type": "code",
   "execution_count": 56,
   "metadata": {},
   "outputs": [],
   "source": [
    "videogames_pos = videogames_train[videogames_train['star_rating'].isin([4, 5])]\n",
    "videogames_neg = videogames_train[videogames_train['star_rating'].isin([1, 2])]"
   ]
  },
  {
   "cell_type": "code",
   "execution_count": 57,
   "metadata": {},
   "outputs": [
    {
     "data": {
      "text/plain": [
       "(282683, 15)"
      ]
     },
     "execution_count": 57,
     "metadata": {},
     "output_type": "execute_result"
    }
   ],
   "source": [
    "videogames_neg.shape"
   ]
  },
  {
   "cell_type": "code",
   "execution_count": 58,
   "metadata": {},
   "outputs": [
    {
     "data": {
      "text/plain": [
       "(100000, 15)"
      ]
     },
     "execution_count": 58,
     "metadata": {},
     "output_type": "execute_result"
    }
   ],
   "source": [
    "videogames_pos_small = videogames_pos.sample(50000)\n",
    "videogames_neg_small = videogames_neg.sample(50000)\n",
    "videogames_train_small = videogames_pos_small.append(videogames_neg_small)\n",
    "videogames_train_small.shape"
   ]
  },
  {
   "cell_type": "code",
   "execution_count": 59,
   "metadata": {},
   "outputs": [
    {
     "name": "stderr",
     "output_type": "stream",
     "text": [
      "100%|██████████| 100000/100000 [00:06<00:00, 14478.62it/s]\n"
     ]
    }
   ],
   "source": [
    "videogames_train_small['sentiment_actual']=\"default\"\n",
    "\n",
    "with tqdm(total=len(list(videogames_train_small.iterrows()))) as pbar:\n",
    "\n",
    "    for index, row in videogames_train_small.iterrows():\n",
    "        if row['star_rating'] > 3.0:\n",
    "            videogames_train_small.at[index, 'sentiment_actual']=\"pos\"\n",
    "        else:\n",
    "            videogames_train_small.at[index, 'sentiment_actual']=\"neg\"\n",
    "\n",
    "        pbar.update(1)"
   ]
  },
  {
   "cell_type": "code",
   "execution_count": 60,
   "metadata": {},
   "outputs": [
    {
     "name": "stderr",
     "output_type": "stream",
     "text": [
      "/anaconda3/lib/python3.7/site-packages/ipykernel_launcher.py:1: SettingWithCopyWarning: \n",
      "A value is trying to be set on a copy of a slice from a DataFrame.\n",
      "Try using .loc[row_indexer,col_indexer] = value instead\n",
      "\n",
      "See the caveats in the documentation: http://pandas.pydata.org/pandas-docs/stable/indexing.html#indexing-view-versus-copy\n",
      "  \"\"\"Entry point for launching an IPython kernel.\n",
      "100%|██████████| 19522/19522 [00:01<00:00, 13411.26it/s]\n"
     ]
    }
   ],
   "source": [
    "videogames_test['sentiment_actual']=\"default\"\n",
    "\n",
    "with tqdm(total=len(list(videogames_test.iterrows()))) as pbar:\n",
    "\n",
    "    for index, row in videogames_test.iterrows():\n",
    "        if row['star_rating'] > 3.0:\n",
    "            videogames_test.at[index, 'sentiment_actual']=\"pos\"\n",
    "        else:\n",
    "            videogames_test.at[index, 'sentiment_actual']=\"neg\"\n",
    "\n",
    "        pbar.update(1)"
   ]
  },
  {
   "cell_type": "code",
   "execution_count": 61,
   "metadata": {},
   "outputs": [],
   "source": [
    "videogames_test.to_csv(\"videogames_test.csv\", sep='\\t')\n",
    "videogames_train_small.to_csv(\"videogames_train.csv\", sep='\\t')"
   ]
  },
  {
   "cell_type": "code",
   "execution_count": null,
   "metadata": {
    "collapsed": true
   },
   "outputs": [],
   "source": []
  }
 ],
 "metadata": {
  "kernelspec": {
   "display_name": "Python 3",
   "language": "python",
   "name": "python3"
  },
  "language_info": {
   "codemirror_mode": {
    "name": "ipython",
    "version": 3
   },
   "file_extension": ".py",
   "mimetype": "text/x-python",
   "name": "python",
   "nbconvert_exporter": "python",
   "pygments_lexer": "ipython3",
   "version": "3.7.0"
  }
 },
 "nbformat": 4,
 "nbformat_minor": 2
}
