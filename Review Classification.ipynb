{
 "cells": [
  {
   "cell_type": "markdown",
   "metadata": {},
   "source": [
    "# Vectorization"
   ]
  },
  {
   "cell_type": "code",
   "execution_count": 1,
   "metadata": {},
   "outputs": [
    {
     "name": "stderr",
     "output_type": "stream",
     "text": [
      "/anaconda3/lib/python3.7/site-packages/sklearn/ensemble/weight_boosting.py:29: DeprecationWarning: numpy.core.umath_tests is an internal NumPy module and should not be imported. It will be removed in a future NumPy release.\n",
      "  from numpy.core.umath_tests import inner1d\n"
     ]
    }
   ],
   "source": [
    "import warnings\n",
    "warnings.filterwarnings(\"ignore\")                     #Ignoring unnecessory warnings\n",
    "from tqdm import tqdm\n",
    "import numpy as np                                  \n",
    "import pandas as pd                                 \n",
    "from sklearn.feature_extraction.text import CountVectorizer          #For Bag of words\n",
    "from sklearn.feature_extraction.text import TfidfTransformer\n",
    "import matplotlib.pyplot as plt\n",
    "from sklearn.naive_bayes import MultinomialNB\n",
    "from sklearn.linear_model import LogisticRegression\n",
    "from sklearn.svm import SVC\n",
    "from sklearn.ensemble import GradientBoostingClassifier\n",
    "from sklearn.metrics import confusion_matrix\n",
    "import itertools\n",
    "from sklearn.metrics import accuracy_score, precision_recall_fscore_support"
   ]
  },
  {
   "cell_type": "code",
   "execution_count": 2,
   "metadata": {},
   "outputs": [
    {
     "data": {
      "text/html": [
       "<div>\n",
       "<style scoped>\n",
       "    .dataframe tbody tr th:only-of-type {\n",
       "        vertical-align: middle;\n",
       "    }\n",
       "\n",
       "    .dataframe tbody tr th {\n",
       "        vertical-align: top;\n",
       "    }\n",
       "\n",
       "    .dataframe thead th {\n",
       "        text-align: right;\n",
       "    }\n",
       "</style>\n",
       "<table border=\"1\" class=\"dataframe\">\n",
       "  <thead>\n",
       "    <tr style=\"text-align: right;\">\n",
       "      <th></th>\n",
       "      <th>Unnamed: 0</th>\n",
       "      <th>product_category</th>\n",
       "      <th>review_body</th>\n",
       "      <th>sentiment_actual</th>\n",
       "      <th>processed</th>\n",
       "    </tr>\n",
       "  </thead>\n",
       "  <tbody>\n",
       "    <tr>\n",
       "      <th>0</th>\n",
       "      <td>0</td>\n",
       "      <td>Camera</td>\n",
       "      <td>Works well with my Nikon D610. The range is a ...</td>\n",
       "      <td>pos</td>\n",
       "      <td>work well nikon d610 rang littl short though p...</td>\n",
       "    </tr>\n",
       "    <tr>\n",
       "      <th>1</th>\n",
       "      <td>1</td>\n",
       "      <td>Camera</td>\n",
       "      <td>Wow, construction of this bag is second to non...</td>\n",
       "      <td>pos</td>\n",
       "      <td>wow construct bag second none plenti storag la...</td>\n",
       "    </tr>\n",
       "    <tr>\n",
       "      <th>2</th>\n",
       "      <td>2</td>\n",
       "      <td>Camera</td>\n",
       "      <td>i should have put system in a long time ago.  ...</td>\n",
       "      <td>pos</td>\n",
       "      <td>put system long time ago pleas result instal p...</td>\n",
       "    </tr>\n",
       "    <tr>\n",
       "      <th>3</th>\n",
       "      <td>3</td>\n",
       "      <td>Camera</td>\n",
       "      <td>So, I'm new to the arca swiss world. And my bo...</td>\n",
       "      <td>pos</td>\n",
       "      <td>so i'm new arca swiss world boss introduc real...</td>\n",
       "    </tr>\n",
       "    <tr>\n",
       "      <th>4</th>\n",
       "      <td>4</td>\n",
       "      <td>Camera</td>\n",
       "      <td>Great camera, now if I can learn all its finer...</td>\n",
       "      <td>pos</td>\n",
       "      <td>great camera learn finer point turn one grands...</td>\n",
       "    </tr>\n",
       "  </tbody>\n",
       "</table>\n",
       "</div>"
      ],
      "text/plain": [
       "   Unnamed: 0 product_category  \\\n",
       "0           0           Camera   \n",
       "1           1           Camera   \n",
       "2           2           Camera   \n",
       "3           3           Camera   \n",
       "4           4           Camera   \n",
       "\n",
       "                                         review_body sentiment_actual  \\\n",
       "0  Works well with my Nikon D610. The range is a ...              pos   \n",
       "1  Wow, construction of this bag is second to non...              pos   \n",
       "2  i should have put system in a long time ago.  ...              pos   \n",
       "3  So, I'm new to the arca swiss world. And my bo...              pos   \n",
       "4  Great camera, now if I can learn all its finer...              pos   \n",
       "\n",
       "                                           processed  \n",
       "0  work well nikon d610 rang littl short though p...  \n",
       "1  wow construct bag second none plenti storag la...  \n",
       "2  put system long time ago pleas result instal p...  \n",
       "3  so i'm new arca swiss world boss introduc real...  \n",
       "4  great camera learn finer point turn one grands...  "
      ]
     },
     "execution_count": 2,
     "metadata": {},
     "output_type": "execute_result"
    }
   ],
   "source": [
    "full_train = pd.read_csv('./preprocess/processed_train/full_train_data.csv',sep = '\\t')\n",
    "full_train.head()"
   ]
  },
  {
   "cell_type": "code",
   "execution_count": 3,
   "metadata": {},
   "outputs": [
    {
     "data": {
      "text/html": [
       "<div>\n",
       "<style scoped>\n",
       "    .dataframe tbody tr th:only-of-type {\n",
       "        vertical-align: middle;\n",
       "    }\n",
       "\n",
       "    .dataframe tbody tr th {\n",
       "        vertical-align: top;\n",
       "    }\n",
       "\n",
       "    .dataframe thead th {\n",
       "        text-align: right;\n",
       "    }\n",
       "</style>\n",
       "<table border=\"1\" class=\"dataframe\">\n",
       "  <thead>\n",
       "    <tr style=\"text-align: right;\">\n",
       "      <th></th>\n",
       "      <th>Unnamed: 0</th>\n",
       "      <th>product_category</th>\n",
       "      <th>review_body</th>\n",
       "      <th>sentiment_actual</th>\n",
       "      <th>processed</th>\n",
       "    </tr>\n",
       "  </thead>\n",
       "  <tbody>\n",
       "    <tr>\n",
       "      <th>0</th>\n",
       "      <td>0</td>\n",
       "      <td>Camera</td>\n",
       "      <td>I've had this Fuji 2800 camera for about 1 mon...</td>\n",
       "      <td>pos</td>\n",
       "      <td>i'v fuji 2800 camera 1 month simpli love it to...</td>\n",
       "    </tr>\n",
       "    <tr>\n",
       "      <th>1</th>\n",
       "      <td>1</td>\n",
       "      <td>Camera</td>\n",
       "      <td>great camera .......&lt;br /&gt;works perfectly the ...</td>\n",
       "      <td>pos</td>\n",
       "      <td>great camera work perfect way want look awesom</td>\n",
       "    </tr>\n",
       "    <tr>\n",
       "      <th>2</th>\n",
       "      <td>2</td>\n",
       "      <td>Camera</td>\n",
       "      <td>I did quite a bit of shopping around before bu...</td>\n",
       "      <td>pos</td>\n",
       "      <td>quit bit shop around buy camera could not happ...</td>\n",
       "    </tr>\n",
       "    <tr>\n",
       "      <th>3</th>\n",
       "      <td>3</td>\n",
       "      <td>Camera</td>\n",
       "      <td>works</td>\n",
       "      <td>pos</td>\n",
       "      <td>work</td>\n",
       "    </tr>\n",
       "    <tr>\n",
       "      <th>4</th>\n",
       "      <td>4</td>\n",
       "      <td>Camera</td>\n",
       "      <td>This is a very simple clamp that works exactly...</td>\n",
       "      <td>pos</td>\n",
       "      <td>simpl clamp work exact should depend posit cla...</td>\n",
       "    </tr>\n",
       "  </tbody>\n",
       "</table>\n",
       "</div>"
      ],
      "text/plain": [
       "   Unnamed: 0 product_category  \\\n",
       "0           0           Camera   \n",
       "1           1           Camera   \n",
       "2           2           Camera   \n",
       "3           3           Camera   \n",
       "4           4           Camera   \n",
       "\n",
       "                                         review_body sentiment_actual  \\\n",
       "0  I've had this Fuji 2800 camera for about 1 mon...              pos   \n",
       "1  great camera .......<br />works perfectly the ...              pos   \n",
       "2  I did quite a bit of shopping around before bu...              pos   \n",
       "3                                              works              pos   \n",
       "4  This is a very simple clamp that works exactly...              pos   \n",
       "\n",
       "                                           processed  \n",
       "0  i'v fuji 2800 camera 1 month simpli love it to...  \n",
       "1     great camera work perfect way want look awesom  \n",
       "2  quit bit shop around buy camera could not happ...  \n",
       "3                                               work  \n",
       "4  simpl clamp work exact should depend posit cla...  "
      ]
     },
     "execution_count": 3,
     "metadata": {},
     "output_type": "execute_result"
    }
   ],
   "source": [
    "full_test = pd.read_csv('./preprocess/processed_test/full_test_data.csv',sep = '\\t')\n",
    "full_test.head()"
   ]
  },
  {
   "cell_type": "markdown",
   "metadata": {},
   "source": [
    "## Full train/test label and feature"
   ]
  },
  {
   "cell_type": "markdown",
   "metadata": {},
   "source": [
    "### Labels for train and test"
   ]
  },
  {
   "cell_type": "code",
   "execution_count": 4,
   "metadata": {},
   "outputs": [],
   "source": [
    "# Get labels\n",
    "full_train['sentiment_actual'] = full_train.sentiment_actual.map({'neg': 0, 'pos': 1})\n",
    "full_train_label = full_train['sentiment_actual']\n",
    "\n",
    "full_test['sentiment_actual'] = full_test.sentiment_actual.map({'neg': 0, 'pos': 1})\n",
    "full_test_label = full_test['sentiment_actual']"
   ]
  },
  {
   "cell_type": "code",
   "execution_count": 5,
   "metadata": {},
   "outputs": [
    {
     "data": {
      "text/html": [
       "<div>\n",
       "<style scoped>\n",
       "    .dataframe tbody tr th:only-of-type {\n",
       "        vertical-align: middle;\n",
       "    }\n",
       "\n",
       "    .dataframe tbody tr th {\n",
       "        vertical-align: top;\n",
       "    }\n",
       "\n",
       "    .dataframe thead th {\n",
       "        text-align: right;\n",
       "    }\n",
       "</style>\n",
       "<table border=\"1\" class=\"dataframe\">\n",
       "  <thead>\n",
       "    <tr style=\"text-align: right;\">\n",
       "      <th></th>\n",
       "      <th>Unnamed: 0</th>\n",
       "      <th>product_category</th>\n",
       "      <th>review_body</th>\n",
       "      <th>sentiment_actual</th>\n",
       "      <th>processed</th>\n",
       "    </tr>\n",
       "  </thead>\n",
       "  <tbody>\n",
       "    <tr>\n",
       "      <th>0</th>\n",
       "      <td>0</td>\n",
       "      <td>Camera</td>\n",
       "      <td>Works well with my Nikon D610. The range is a ...</td>\n",
       "      <td>1</td>\n",
       "      <td>work well nikon d610 rang littl short though p...</td>\n",
       "    </tr>\n",
       "    <tr>\n",
       "      <th>1</th>\n",
       "      <td>1</td>\n",
       "      <td>Camera</td>\n",
       "      <td>Wow, construction of this bag is second to non...</td>\n",
       "      <td>1</td>\n",
       "      <td>wow construct bag second none plenti storag la...</td>\n",
       "    </tr>\n",
       "    <tr>\n",
       "      <th>2</th>\n",
       "      <td>2</td>\n",
       "      <td>Camera</td>\n",
       "      <td>i should have put system in a long time ago.  ...</td>\n",
       "      <td>1</td>\n",
       "      <td>put system long time ago pleas result instal p...</td>\n",
       "    </tr>\n",
       "    <tr>\n",
       "      <th>3</th>\n",
       "      <td>3</td>\n",
       "      <td>Camera</td>\n",
       "      <td>So, I'm new to the arca swiss world. And my bo...</td>\n",
       "      <td>1</td>\n",
       "      <td>so i'm new arca swiss world boss introduc real...</td>\n",
       "    </tr>\n",
       "    <tr>\n",
       "      <th>4</th>\n",
       "      <td>4</td>\n",
       "      <td>Camera</td>\n",
       "      <td>Great camera, now if I can learn all its finer...</td>\n",
       "      <td>1</td>\n",
       "      <td>great camera learn finer point turn one grands...</td>\n",
       "    </tr>\n",
       "  </tbody>\n",
       "</table>\n",
       "</div>"
      ],
      "text/plain": [
       "   Unnamed: 0 product_category  \\\n",
       "0           0           Camera   \n",
       "1           1           Camera   \n",
       "2           2           Camera   \n",
       "3           3           Camera   \n",
       "4           4           Camera   \n",
       "\n",
       "                                         review_body  sentiment_actual  \\\n",
       "0  Works well with my Nikon D610. The range is a ...                 1   \n",
       "1  Wow, construction of this bag is second to non...                 1   \n",
       "2  i should have put system in a long time ago.  ...                 1   \n",
       "3  So, I'm new to the arca swiss world. And my bo...                 1   \n",
       "4  Great camera, now if I can learn all its finer...                 1   \n",
       "\n",
       "                                           processed  \n",
       "0  work well nikon d610 rang littl short though p...  \n",
       "1  wow construct bag second none plenti storag la...  \n",
       "2  put system long time ago pleas result instal p...  \n",
       "3  so i'm new arca swiss world boss introduc real...  \n",
       "4  great camera learn finer point turn one grands...  "
      ]
     },
     "execution_count": 5,
     "metadata": {},
     "output_type": "execute_result"
    }
   ],
   "source": [
    "camera_train = full_train.loc[full_train['product_category'] == \"Camera\"]\n",
    "camera_test = full_test.loc[full_test['product_category'] == \"Camera\"]\n",
    "camera_train.head()"
   ]
  },
  {
   "cell_type": "code",
   "execution_count": 6,
   "metadata": {},
   "outputs": [],
   "source": [
    "# Labels\n",
    "camera_train_label = camera_train['sentiment_actual']\n",
    "camera_test_label = camera_test['sentiment_actual']"
   ]
  },
  {
   "cell_type": "code",
   "execution_count": 7,
   "metadata": {},
   "outputs": [
    {
     "data": {
      "text/html": [
       "<div>\n",
       "<style scoped>\n",
       "    .dataframe tbody tr th:only-of-type {\n",
       "        vertical-align: middle;\n",
       "    }\n",
       "\n",
       "    .dataframe tbody tr th {\n",
       "        vertical-align: top;\n",
       "    }\n",
       "\n",
       "    .dataframe thead th {\n",
       "        text-align: right;\n",
       "    }\n",
       "</style>\n",
       "<table border=\"1\" class=\"dataframe\">\n",
       "  <thead>\n",
       "    <tr style=\"text-align: right;\">\n",
       "      <th></th>\n",
       "      <th>Unnamed: 0</th>\n",
       "      <th>product_category</th>\n",
       "      <th>review_body</th>\n",
       "      <th>sentiment_actual</th>\n",
       "      <th>processed</th>\n",
       "    </tr>\n",
       "  </thead>\n",
       "  <tbody>\n",
       "    <tr>\n",
       "      <th>100000</th>\n",
       "      <td>100000</td>\n",
       "      <td>Grocery</td>\n",
       "      <td>If cooked al dente, doesn't come out gummy.  H...</td>\n",
       "      <td>1</td>\n",
       "      <td>cook al dent not come gummi fresh tast stand l...</td>\n",
       "    </tr>\n",
       "    <tr>\n",
       "      <th>100001</th>\n",
       "      <td>100001</td>\n",
       "      <td>Grocery</td>\n",
       "      <td>Fun to have the pull tabs.  A friend who went ...</td>\n",
       "      <td>1</td>\n",
       "      <td>fun pull tab friend went australia recommend t...</td>\n",
       "    </tr>\n",
       "    <tr>\n",
       "      <th>100002</th>\n",
       "      <td>100002</td>\n",
       "      <td>Grocery</td>\n",
       "      <td>I have bought this product before and love it....</td>\n",
       "      <td>1</td>\n",
       "      <td>bought product love it use tea everi day due s...</td>\n",
       "    </tr>\n",
       "    <tr>\n",
       "      <th>100003</th>\n",
       "      <td>100003</td>\n",
       "      <td>Grocery</td>\n",
       "      <td>Been buying this for a couple years. Really li...</td>\n",
       "      <td>1</td>\n",
       "      <td>buy coupl year realli like pure flavor without...</td>\n",
       "    </tr>\n",
       "    <tr>\n",
       "      <th>100004</th>\n",
       "      <td>100004</td>\n",
       "      <td>Grocery</td>\n",
       "      <td>I purchaesd this item for myself. I love the t...</td>\n",
       "      <td>1</td>\n",
       "      <td>purchaesd item myself love tast creami textur ...</td>\n",
       "    </tr>\n",
       "  </tbody>\n",
       "</table>\n",
       "</div>"
      ],
      "text/plain": [
       "        Unnamed: 0 product_category  \\\n",
       "100000      100000          Grocery   \n",
       "100001      100001          Grocery   \n",
       "100002      100002          Grocery   \n",
       "100003      100003          Grocery   \n",
       "100004      100004          Grocery   \n",
       "\n",
       "                                              review_body  sentiment_actual  \\\n",
       "100000  If cooked al dente, doesn't come out gummy.  H...                 1   \n",
       "100001  Fun to have the pull tabs.  A friend who went ...                 1   \n",
       "100002  I have bought this product before and love it....                 1   \n",
       "100003  Been buying this for a couple years. Really li...                 1   \n",
       "100004  I purchaesd this item for myself. I love the t...                 1   \n",
       "\n",
       "                                                processed  \n",
       "100000  cook al dent not come gummi fresh tast stand l...  \n",
       "100001  fun pull tab friend went australia recommend t...  \n",
       "100002  bought product love it use tea everi day due s...  \n",
       "100003  buy coupl year realli like pure flavor without...  \n",
       "100004  purchaesd item myself love tast creami textur ...  "
      ]
     },
     "execution_count": 7,
     "metadata": {},
     "output_type": "execute_result"
    }
   ],
   "source": [
    "grocery_train = full_train.loc[full_train['product_category'] == \"Grocery\"]\n",
    "grocery_test = full_test.loc[full_test['product_category'] == \"Grocery\"]\n",
    "grocery_train.head()"
   ]
  },
  {
   "cell_type": "code",
   "execution_count": 8,
   "metadata": {},
   "outputs": [],
   "source": [
    "# Labels\n",
    "grocery_train_label = grocery_train['sentiment_actual']\n",
    "grocery_test_label = grocery_test['sentiment_actual']"
   ]
  },
  {
   "cell_type": "code",
   "execution_count": 9,
   "metadata": {},
   "outputs": [
    {
     "data": {
      "text/html": [
       "<div>\n",
       "<style scoped>\n",
       "    .dataframe tbody tr th:only-of-type {\n",
       "        vertical-align: middle;\n",
       "    }\n",
       "\n",
       "    .dataframe tbody tr th {\n",
       "        vertical-align: top;\n",
       "    }\n",
       "\n",
       "    .dataframe thead th {\n",
       "        text-align: right;\n",
       "    }\n",
       "</style>\n",
       "<table border=\"1\" class=\"dataframe\">\n",
       "  <thead>\n",
       "    <tr style=\"text-align: right;\">\n",
       "      <th></th>\n",
       "      <th>Unnamed: 0</th>\n",
       "      <th>product_category</th>\n",
       "      <th>review_body</th>\n",
       "      <th>sentiment_actual</th>\n",
       "      <th>processed</th>\n",
       "    </tr>\n",
       "  </thead>\n",
       "  <tbody>\n",
       "    <tr>\n",
       "      <th>200000</th>\n",
       "      <td>200000</td>\n",
       "      <td>Watches</td>\n",
       "      <td>This watch is great i am leaving for bct going...</td>\n",
       "      <td>1</td>\n",
       "      <td>watch great leav bct go armi need watch bought...</td>\n",
       "    </tr>\n",
       "    <tr>\n",
       "      <th>200001</th>\n",
       "      <td>200001</td>\n",
       "      <td>Watches</td>\n",
       "      <td>I got this for my son for Christmas.  It was i...</td>\n",
       "      <td>1</td>\n",
       "      <td>got son christma great shape look great work w...</td>\n",
       "    </tr>\n",
       "    <tr>\n",
       "      <th>200002</th>\n",
       "      <td>200002</td>\n",
       "      <td>Watches</td>\n",
       "      <td>I bought it for my wife and the watch really l...</td>\n",
       "      <td>1</td>\n",
       "      <td>bought wife watch realli look much better pict...</td>\n",
       "    </tr>\n",
       "    <tr>\n",
       "      <th>200003</th>\n",
       "      <td>200003</td>\n",
       "      <td>Watches</td>\n",
       "      <td>was bought for a birthday present - was exactl...</td>\n",
       "      <td>1</td>\n",
       "      <td>bought birthday present  exact want deliveri p...</td>\n",
       "    </tr>\n",
       "    <tr>\n",
       "      <th>200004</th>\n",
       "      <td>200004</td>\n",
       "      <td>Watches</td>\n",
       "      <td>Great watch!</td>\n",
       "      <td>1</td>\n",
       "      <td>great watch</td>\n",
       "    </tr>\n",
       "  </tbody>\n",
       "</table>\n",
       "</div>"
      ],
      "text/plain": [
       "        Unnamed: 0 product_category  \\\n",
       "200000      200000          Watches   \n",
       "200001      200001          Watches   \n",
       "200002      200002          Watches   \n",
       "200003      200003          Watches   \n",
       "200004      200004          Watches   \n",
       "\n",
       "                                              review_body  sentiment_actual  \\\n",
       "200000  This watch is great i am leaving for bct going...                 1   \n",
       "200001  I got this for my son for Christmas.  It was i...                 1   \n",
       "200002  I bought it for my wife and the watch really l...                 1   \n",
       "200003  was bought for a birthday present - was exactl...                 1   \n",
       "200004                                       Great watch!                 1   \n",
       "\n",
       "                                                processed  \n",
       "200000  watch great leav bct go armi need watch bought...  \n",
       "200001  got son christma great shape look great work w...  \n",
       "200002  bought wife watch realli look much better pict...  \n",
       "200003  bought birthday present  exact want deliveri p...  \n",
       "200004                                        great watch  "
      ]
     },
     "execution_count": 9,
     "metadata": {},
     "output_type": "execute_result"
    }
   ],
   "source": [
    "watches_train = full_train.loc[full_train['product_category'] == \"Watches\"]\n",
    "watches_test = full_test.loc[full_test['product_category'] == \"Watches\"]\n",
    "watches_train.head()"
   ]
  },
  {
   "cell_type": "code",
   "execution_count": 10,
   "metadata": {},
   "outputs": [],
   "source": [
    "# Labels\n",
    "watches_train_label = watches_train['sentiment_actual']\n",
    "watches_test_label = watches_test['sentiment_actual']"
   ]
  },
  {
   "cell_type": "code",
   "execution_count": 11,
   "metadata": {},
   "outputs": [
    {
     "data": {
      "text/html": [
       "<div>\n",
       "<style scoped>\n",
       "    .dataframe tbody tr th:only-of-type {\n",
       "        vertical-align: middle;\n",
       "    }\n",
       "\n",
       "    .dataframe tbody tr th {\n",
       "        vertical-align: top;\n",
       "    }\n",
       "\n",
       "    .dataframe thead th {\n",
       "        text-align: right;\n",
       "    }\n",
       "</style>\n",
       "<table border=\"1\" class=\"dataframe\">\n",
       "  <thead>\n",
       "    <tr style=\"text-align: right;\">\n",
       "      <th></th>\n",
       "      <th>Unnamed: 0</th>\n",
       "      <th>product_category</th>\n",
       "      <th>review_body</th>\n",
       "      <th>sentiment_actual</th>\n",
       "      <th>processed</th>\n",
       "    </tr>\n",
       "  </thead>\n",
       "  <tbody>\n",
       "    <tr>\n",
       "      <th>300000</th>\n",
       "      <td>300000</td>\n",
       "      <td>Video Games</td>\n",
       "      <td>Item was delivered as specified and in same qu...</td>\n",
       "      <td>1</td>\n",
       "      <td>item deliv specifi qualiti list onlin</td>\n",
       "    </tr>\n",
       "    <tr>\n",
       "      <th>300001</th>\n",
       "      <td>300001</td>\n",
       "      <td>Video Games</td>\n",
       "      <td>My son loved this game, it was just what he wa...</td>\n",
       "      <td>1</td>\n",
       "      <td>son love game want christma happi excit reciev...</td>\n",
       "    </tr>\n",
       "    <tr>\n",
       "      <th>300002</th>\n",
       "      <td>300002</td>\n",
       "      <td>Video Games</td>\n",
       "      <td>Case had adhesive residue on it, but was easil...</td>\n",
       "      <td>1</td>\n",
       "      <td>case adhes residu it easili remov happi came c...</td>\n",
       "    </tr>\n",
       "    <tr>\n",
       "      <th>300003</th>\n",
       "      <td>300003</td>\n",
       "      <td>Video Games</td>\n",
       "      <td>I have got my file and found that I've got an ...</td>\n",
       "      <td>1</td>\n",
       "      <td>got file found i'v got esitm 14000 kill game k...</td>\n",
       "    </tr>\n",
       "    <tr>\n",
       "      <th>300004</th>\n",
       "      <td>300004</td>\n",
       "      <td>Video Games</td>\n",
       "      <td>Comfortable, Attractive, Accurate, totally cus...</td>\n",
       "      <td>1</td>\n",
       "      <td>comfort attract accur total customiz dpi chang...</td>\n",
       "    </tr>\n",
       "  </tbody>\n",
       "</table>\n",
       "</div>"
      ],
      "text/plain": [
       "        Unnamed: 0 product_category  \\\n",
       "300000      300000      Video Games   \n",
       "300001      300001      Video Games   \n",
       "300002      300002      Video Games   \n",
       "300003      300003      Video Games   \n",
       "300004      300004      Video Games   \n",
       "\n",
       "                                              review_body  sentiment_actual  \\\n",
       "300000  Item was delivered as specified and in same qu...                 1   \n",
       "300001  My son loved this game, it was just what he wa...                 1   \n",
       "300002  Case had adhesive residue on it, but was easil...                 1   \n",
       "300003  I have got my file and found that I've got an ...                 1   \n",
       "300004  Comfortable, Attractive, Accurate, totally cus...                 1   \n",
       "\n",
       "                                                processed  \n",
       "300000              item deliv specifi qualiti list onlin  \n",
       "300001  son love game want christma happi excit reciev...  \n",
       "300002  case adhes residu it easili remov happi came c...  \n",
       "300003  got file found i'v got esitm 14000 kill game k...  \n",
       "300004  comfort attract accur total customiz dpi chang...  "
      ]
     },
     "execution_count": 11,
     "metadata": {},
     "output_type": "execute_result"
    }
   ],
   "source": [
    "videogames_train = full_train.loc[full_train['product_category'] == \"Video Games\"]\n",
    "videogames_test = full_test.loc[full_test['product_category'] == \"Video Games\"]\n",
    "videogames_train.head()"
   ]
  },
  {
   "cell_type": "code",
   "execution_count": 12,
   "metadata": {},
   "outputs": [],
   "source": [
    "# Labels\n",
    "videogames_train_label = videogames_train['sentiment_actual']\n",
    "videogames_test_label = videogames_test['sentiment_actual']"
   ]
  },
  {
   "cell_type": "markdown",
   "metadata": {},
   "source": [
    "### Features for train and test\n",
    "Vectorize using bag of words"
   ]
  },
  {
   "cell_type": "code",
   "execution_count": 13,
   "metadata": {},
   "outputs": [],
   "source": [
    "# Get processed texts\n",
    "train_texts = full_train['processed'].astype('U')\n",
    "test_texts = full_test['processed'].astype('U')\n",
    "\n",
    "camera_train_texts = camera_train['processed'].astype('U')\n",
    "camera_test_texts = camera_test['processed'].astype('U')\n",
    "\n",
    "grocery_train_texts = grocery_train['processed'].astype('U')\n",
    "grocery_test_texts = grocery_test['processed'].astype('U')\n",
    "\n",
    "watches_train_texts = watches_train['processed'].astype('U')\n",
    "watches_test_texts = watches_test['processed'].astype('U')\n",
    "\n",
    "videogames_train_texts = videogames_train['processed'].astype('U')\n",
    "videogames_test_texts = videogames_test['processed'].astype('U')\n",
    "\n",
    "# count vectorize\n",
    "count_vect = CountVectorizer()\n",
    "\n",
    "train_counts = count_vect.fit_transform(train_texts)\n",
    "test_counts = count_vect.transform(test_texts)\n",
    "\n",
    "camera_train_counts = count_vect.transform(camera_train_texts)\n",
    "camera_test_counts = count_vect.transform(camera_test_texts)\n",
    "\n",
    "grocery_train_counts = count_vect.transform(grocery_train_texts)\n",
    "grocery_test_counts = count_vect.transform(grocery_test_texts)\n",
    "\n",
    "watches_train_counts = count_vect.transform(watches_train_texts)\n",
    "watches_test_counts = count_vect.transform(watches_test_texts)\n",
    "\n",
    "videogames_train_counts = count_vect.transform(videogames_train_texts)\n",
    "videogames_test_counts = count_vect.transform(videogames_test_texts)\n",
    "\n",
    "# Transform with tfidf\n",
    "transformer = TfidfTransformer()\n",
    "\n",
    "transformer = transformer.fit(train_counts)\n",
    "transformer = transformer.fit(test_counts)\n",
    "\n",
    "transformer = transformer.fit(camera_train_counts)\n",
    "transformer = transformer.fit(camera_test_counts)\n",
    "\n",
    "transformer = transformer.fit(grocery_train_counts)\n",
    "transformer = transformer.fit(grocery_test_counts)\n",
    "\n",
    "transformer = transformer.fit(watches_train_counts)\n",
    "transformer = transformer.fit(watches_test_counts)\n",
    "\n",
    "transformer = transformer.fit(videogames_train_counts)\n",
    "transformer = transformer.fit(videogames_test_counts)\n",
    "\n",
    "# Get features\n",
    "train_features = transformer.transform(train_counts)\n",
    "test_features = transformer.transform(test_counts)\n",
    "\n",
    "camera_train_features = transformer.transform(camera_train_counts)\n",
    "camera_test_features = transformer.transform(camera_test_counts)\n",
    "\n",
    "grocery_train_features = transformer.transform(grocery_train_counts)\n",
    "grocery_test_features = transformer.transform(grocery_test_counts)\n",
    "\n",
    "watches_train_features = transformer.transform(watches_train_counts)\n",
    "watches_test_features = transformer.transform(watches_test_counts)\n",
    "\n",
    "videogames_train_features = transformer.transform(videogames_train_counts)\n",
    "videogames_test_features = transformer.transform(videogames_test_counts)"
   ]
  },
  {
   "cell_type": "code",
   "execution_count": 14,
   "metadata": {},
   "outputs": [
    {
     "name": "stdout",
     "output_type": "stream",
     "text": [
      "400000\n",
      "400000\n",
      "79838\n",
      "79838\n"
     ]
    }
   ],
   "source": [
    "print(train_features.shape[0])\n",
    "print(full_train_label.shape[0])\n",
    "print(test_features.shape[0])\n",
    "print(full_test_label.shape[0])"
   ]
  },
  {
   "cell_type": "code",
   "execution_count": 15,
   "metadata": {},
   "outputs": [
    {
     "name": "stdout",
     "output_type": "stream",
     "text": [
      "100000\n",
      "100000\n",
      "100000\n",
      "100000\n",
      "19914\n",
      "20136\n",
      "20266\n",
      "19522\n"
     ]
    }
   ],
   "source": [
    "print(camera_train_features.shape[0])\n",
    "print(grocery_train_features.shape[0])\n",
    "print(watches_train_features.shape[0])\n",
    "print(videogames_train_features.shape[0])\n",
    "\n",
    "print(camera_test_features.shape[0])\n",
    "print(grocery_test_features.shape[0])\n",
    "print(watches_test_features.shape[0])\n",
    "print(videogames_test_features.shape[0])"
   ]
  },
  {
   "cell_type": "markdown",
   "metadata": {},
   "source": [
    "## Binary Classification"
   ]
  },
  {
   "cell_type": "code",
   "execution_count": 16,
   "metadata": {},
   "outputs": [],
   "source": [
    "def eval(name, y_gold, y_pred, verbose=1, setting='macro'):\n",
    "    '''Yield metrics accuracy, precision, recall and f1-score'''\n",
    "    eval_measures = precision_recall_fscore_support(y_gold, y_pred, average=setting)\n",
    "    \n",
    "    if verbose==1:\n",
    "        print(\"{} acc: {:4f} prec: {:4f} rec: {:4f} f1: {:4f}\".format(\n",
    "        name, accuracy_score(y_gold, y_pred), eval_measures[0], eval_measures[1], eval_measures[2]))       \n",
    "    return eval_measures"
   ]
  },
  {
   "cell_type": "code",
   "execution_count": 17,
   "metadata": {},
   "outputs": [],
   "source": [
    "# For plotting confusion matrix\n",
    "def plot_confusion_matrix(cm, classes,\n",
    "                          normalize=False,\n",
    "                          title='Confusion matrix',\n",
    "                          cmap=plt.cm.Blues):\n",
    "\n",
    "    if normalize:\n",
    "        cm = cm.astype('float') / cm.sum(axis=1)[:, np.newaxis]\n",
    "\n",
    "    plt.imshow(cm, interpolation='nearest', cmap=cmap)\n",
    "    plt.title(title)\n",
    "    plt.colorbar()\n",
    "    tick_marks = np.arange(len(classes))\n",
    "    plt.xticks(tick_marks, classes, rotation=45)\n",
    "    plt.yticks(tick_marks, classes)\n",
    "\n",
    "    fmt = '.2f' if normalize else 'd'\n",
    "    thresh = cm.max() / 2.\n",
    "    for i, j in itertools.product(range(cm.shape[0]), range(cm.shape[1])):\n",
    "        plt.text(j, i, format(cm[i, j], fmt),\n",
    "                 horizontalalignment=\"center\",\n",
    "                 color=\"white\" if cm[i, j] > thresh else \"black\")\n",
    "\n",
    "    plt.tight_layout()\n",
    "    plt.ylabel('Predicted label')\n",
    "    plt.xlabel('True label')"
   ]
  },
  {
   "cell_type": "markdown",
   "metadata": {},
   "source": [
    "### Naive bayes"
   ]
  },
  {
   "cell_type": "code",
   "execution_count": 18,
   "metadata": {},
   "outputs": [],
   "source": [
    "naivebayes = MultinomialNB()\n",
    "naivebayes.fit(train_features, full_train_label)\n",
    "predict_nb = naivebayes.predict(test_features)"
   ]
  },
  {
   "cell_type": "code",
   "execution_count": 19,
   "metadata": {},
   "outputs": [
    {
     "data": {
      "image/png": "[encoded data removed]",
      "text/plain": [
       "<Figure size 432x288 with 2 Axes>"
      ]
     },
     "metadata": {
      "needs_background": "light"
     },
     "output_type": "display_data"
    }
   ],
   "source": [
    "cm_nb = confusion_matrix(full_test_label,predict_nb)\n",
    "plot_confusion_matrix(cm_nb, classes=naivebayes.classes_.tolist(),\n",
    "                      title='Naive Bayes(Full train, full test)')\n",
    "# plt.show()\n",
    "plt.savefig('./plots/full_full_nb.png')"
   ]
  },
  {
   "cell_type": "code",
   "execution_count": 20,
   "metadata": {
    "scrolled": false
   },
   "outputs": [
    {
     "name": "stdout",
     "output_type": "stream",
     "text": [
      "Naive Bayes acc: 0.843195 prec: 0.739142 rec: 0.847773 f1: 0.769607\n"
     ]
    }
   ],
   "source": [
    "full_full_eval_nb = eval(\"Naive Bayes\", full_test_label, predict_nb)"
   ]
  },
  {
   "cell_type": "markdown",
   "metadata": {},
   "source": [
    "#### Test on camera"
   ]
  },
  {
   "cell_type": "code",
   "execution_count": 21,
   "metadata": {},
   "outputs": [],
   "source": [
    "camera_predict_nb = naivebayes.predict(camera_test_features)"
   ]
  },
  {
   "cell_type": "code",
   "execution_count": 22,
   "metadata": {},
   "outputs": [
    {
     "data": {
      "image/png": "[encoded data removed]",
      "text/plain": [
       "<Figure size 432x288 with 2 Axes>"
      ]
     },
     "metadata": {
      "needs_background": "light"
     },
     "output_type": "display_data"
    }
   ],
   "source": [
    "cm_nb = confusion_matrix(camera_test_label,camera_predict_nb)\n",
    "plot_confusion_matrix(cm_nb, classes=naivebayes.classes_.tolist(),\n",
    "                      title='Naive Bayes(Full train, camera test)')\n",
    "plt.savefig('./plots/full_camera_nb.png')"
   ]
  },
  {
   "cell_type": "code",
   "execution_count": 23,
   "metadata": {},
   "outputs": [
    {
     "name": "stdout",
     "output_type": "stream",
     "text": [
      "Naive Bayes acc: 0.824445 prec: 0.722229 rec: 0.850301 f1: 0.750330\n"
     ]
    }
   ],
   "source": [
    "full_camera_eval_nb = eval(\"Naive Bayes\", camera_test_label, camera_predict_nb)"
   ]
  },
  {
   "cell_type": "markdown",
   "metadata": {},
   "source": [
    "#### Test on grocery"
   ]
  },
  {
   "cell_type": "code",
   "execution_count": 24,
   "metadata": {},
   "outputs": [],
   "source": [
    "grocery_predict_nb = naivebayes.predict(grocery_test_features)"
   ]
  },
  {
   "cell_type": "code",
   "execution_count": 25,
   "metadata": {},
   "outputs": [
    {
     "data": {
      "image/png": "[encoded data removed]",
      "text/plain": [
       "<Figure size 432x288 with 2 Axes>"
      ]
     },
     "metadata": {
      "needs_background": "light"
     },
     "output_type": "display_data"
    }
   ],
   "source": [
    "cm_nb = confusion_matrix(grocery_test_label,grocery_predict_nb)\n",
    "plot_confusion_matrix(cm_nb, classes=naivebayes.classes_.tolist(),\n",
    "                      title='Naive Bayes(Full train, grocery test)')\n",
    "plt.savefig('./plots/full_grocery_nb.png')"
   ]
  },
  {
   "cell_type": "code",
   "execution_count": 26,
   "metadata": {},
   "outputs": [
    {
     "name": "stdout",
     "output_type": "stream",
     "text": [
      "Naive Bayes acc: 0.849623 prec: 0.728842 rec: 0.802242 f1: 0.754797\n"
     ]
    }
   ],
   "source": [
    "full_grocery_eval_nb = eval(\"Naive Bayes\", grocery_test_label, grocery_predict_nb)"
   ]
  },
  {
   "cell_type": "markdown",
   "metadata": {},
   "source": [
    "#### Test on watches"
   ]
  },
  {
   "cell_type": "code",
   "execution_count": 27,
   "metadata": {},
   "outputs": [],
   "source": [
    "watches_predict_nb = naivebayes.predict(watches_test_features)"
   ]
  },
  {
   "cell_type": "code",
   "execution_count": 28,
   "metadata": {},
   "outputs": [
    {
     "data": {
      "image/png": "[encoded data removed]",
      "text/plain": [
       "<Figure size 432x288 with 2 Axes>"
      ]
     },
     "metadata": {
      "needs_background": "light"
     },
     "output_type": "display_data"
    }
   ],
   "source": [
    "cm_nb = confusion_matrix(watches_test_label,watches_predict_nb)\n",
    "plot_confusion_matrix(cm_nb, classes=naivebayes.classes_.tolist(),\n",
    "                      title='Naive Bayes(Full train, watches test)')\n",
    "plt.savefig('./plots/full_watches_nb.png')"
   ]
  },
  {
   "cell_type": "code",
   "execution_count": 29,
   "metadata": {},
   "outputs": [
    {
     "name": "stdout",
     "output_type": "stream",
     "text": [
      "Naive Bayes acc: 0.883006 prec: 0.781439 rec: 0.880704 f1: 0.815736\n"
     ]
    }
   ],
   "source": [
    "full_watches_eval_nb = eval(\"Naive Bayes\", watches_test_label, watches_predict_nb)"
   ]
  },
  {
   "cell_type": "markdown",
   "metadata": {},
   "source": [
    "#### Test on videogames"
   ]
  },
  {
   "cell_type": "code",
   "execution_count": 30,
   "metadata": {},
   "outputs": [],
   "source": [
    "videogames_predict_nb = naivebayes.predict(videogames_test_features)"
   ]
  },
  {
   "cell_type": "code",
   "execution_count": 31,
   "metadata": {},
   "outputs": [
    {
     "data": {
      "image/png": "[encoded data removed]",
      "text/plain": [
       "<Figure size 432x288 with 2 Axes>"
      ]
     },
     "metadata": {
      "needs_background": "light"
     },
     "output_type": "display_data"
    }
   ],
   "source": [
    "cm_nb = confusion_matrix(videogames_test_label,videogames_predict_nb)\n",
    "plot_confusion_matrix(cm_nb, classes=naivebayes.classes_.tolist(),\n",
    "                      title='Naive Bayes(Full train, videogames test)')\n",
    "plt.savefig('./plots/full_videogames_nb.png')"
   ]
  },
  {
   "cell_type": "code",
   "execution_count": 32,
   "metadata": {},
   "outputs": [
    {
     "name": "stdout",
     "output_type": "stream",
     "text": [
      "Naive Bayes acc: 0.814363 prec: 0.733595 rec: 0.852337 f1: 0.756699\n"
     ]
    }
   ],
   "source": [
    "full_videogames_eval_nb = eval(\"Naive Bayes\", videogames_test_label, videogames_predict_nb)"
   ]
  },
  {
   "cell_type": "markdown",
   "metadata": {},
   "source": [
    "### Logistic regression"
   ]
  },
  {
   "cell_type": "code",
   "execution_count": 33,
   "metadata": {},
   "outputs": [],
   "source": [
    "logregression = LogisticRegression()\n",
    "logregression.fit(train_features, full_train_label)\n",
    "predict_lr = logregression.predict(test_features)"
   ]
  },
  {
   "cell_type": "code",
   "execution_count": 34,
   "metadata": {},
   "outputs": [
    {
     "data": {
      "image/png": "[encoded data removed]",
      "text/plain": [
       "<Figure size 432x288 with 2 Axes>"
      ]
     },
     "metadata": {
      "needs_background": "light"
     },
     "output_type": "display_data"
    }
   ],
   "source": [
    "cm_lr = confusion_matrix(full_test_label,predict_lr)\n",
    "plot_confusion_matrix(cm_lr, classes=logregression.classes_.tolist(),\n",
    "                      title='Logistic Regression(Full train, full test)')\n",
    "plt.savefig('./plots/full_full_lr.png')"
   ]
  },
  {
   "cell_type": "code",
   "execution_count": 35,
   "metadata": {},
   "outputs": [
    {
     "name": "stdout",
     "output_type": "stream",
     "text": [
      "Logistic Regression acc: 0.894173 prec: 0.799259 rec: 0.887985 f1: 0.832031\n"
     ]
    }
   ],
   "source": [
    "full_full_eval_lr = eval(\"Logistic Regression\", full_test_label, predict_lr)"
   ]
  },
  {
   "cell_type": "markdown",
   "metadata": {},
   "source": [
    "#### Test on camera"
   ]
  },
  {
   "cell_type": "code",
   "execution_count": 36,
   "metadata": {},
   "outputs": [],
   "source": [
    "camera_predict_lr = logregression.predict(camera_test_features)"
   ]
  },
  {
   "cell_type": "code",
   "execution_count": 37,
   "metadata": {},
   "outputs": [
    {
     "data": {
      "image/png": "[encoded data removed]",
      "text/plain": [
       "<Figure size 432x288 with 2 Axes>"
      ]
     },
     "metadata": {
      "needs_background": "light"
     },
     "output_type": "display_data"
    }
   ],
   "source": [
    "cm_lr = confusion_matrix(camera_test_label,camera_predict_lr)\n",
    "plot_confusion_matrix(cm_lr, classes=logregression.classes_.tolist(),\n",
    "                      title='Logistic regression(Full train, camera test)')\n",
    "plt.savefig('./plots/full_camera_lr.png')"
   ]
  },
  {
   "cell_type": "code",
   "execution_count": 38,
   "metadata": {
    "scrolled": true
   },
   "outputs": [
    {
     "name": "stdout",
     "output_type": "stream",
     "text": [
      "Logistic Regerssion acc: 0.900723 prec: 0.804459 rec: 0.903736 f1: 0.840398\n"
     ]
    }
   ],
   "source": [
    "full_camera_eval_lr = eval(\"Logistic Regerssion\", camera_test_label, camera_predict_lr)"
   ]
  },
  {
   "cell_type": "markdown",
   "metadata": {},
   "source": [
    "#### Test on grocery"
   ]
  },
  {
   "cell_type": "code",
   "execution_count": 39,
   "metadata": {},
   "outputs": [],
   "source": [
    "grocery_predict_lr = logregression.predict(grocery_test_features)"
   ]
  },
  {
   "cell_type": "code",
   "execution_count": 40,
   "metadata": {},
   "outputs": [
    {
     "data": {
      "image/png": "[encoded data removed]",
      "text/plain": [
       "<Figure size 432x288 with 2 Axes>"
      ]
     },
     "metadata": {
      "needs_background": "light"
     },
     "output_type": "display_data"
    }
   ],
   "source": [
    "cm_lr = confusion_matrix(grocery_test_label,grocery_predict_lr)\n",
    "plot_confusion_matrix(cm_lr, classes=logregression.classes_.tolist(),\n",
    "                      title='Logistic regression(Full train, grocery test)')\n",
    "plt.savefig('./plots/full_grocery_lr.png')"
   ]
  },
  {
   "cell_type": "code",
   "execution_count": 41,
   "metadata": {},
   "outputs": [
    {
     "name": "stdout",
     "output_type": "stream",
     "text": [
      "Logistic Regerssion acc: 0.873411 prec: 0.762061 rec: 0.837472 f1: 0.790291\n"
     ]
    }
   ],
   "source": [
    "full_grocery_eval_lr = eval(\"Logistic Regerssion\", grocery_test_label, grocery_predict_lr)"
   ]
  },
  {
   "cell_type": "markdown",
   "metadata": {},
   "source": [
    "#### Test on watches"
   ]
  },
  {
   "cell_type": "code",
   "execution_count": 42,
   "metadata": {},
   "outputs": [],
   "source": [
    "watches_predict_lr = logregression.predict(watches_test_features)"
   ]
  },
  {
   "cell_type": "code",
   "execution_count": 43,
   "metadata": {},
   "outputs": [
    {
     "data": {
      "image/png": "[encoded data removed]",
      "text/plain": [
       "<Figure size 432x288 with 2 Axes>"
      ]
     },
     "metadata": {
      "needs_background": "light"
     },
     "output_type": "display_data"
    }
   ],
   "source": [
    "cm_lr = confusion_matrix(watches_test_label,watches_predict_lr)\n",
    "plot_confusion_matrix(cm_lr, classes=logregression.classes_.tolist(),\n",
    "                      title='Logistic regression(Full train, watches test)')\n",
    "plt.savefig('./plots/full_watches_lr.png')"
   ]
  },
  {
   "cell_type": "code",
   "execution_count": 44,
   "metadata": {},
   "outputs": [
    {
     "name": "stdout",
     "output_type": "stream",
     "text": [
      "Logistic Regerssion acc: 0.912563 prec: 0.822837 rec: 0.912758 f1: 0.857267\n"
     ]
    }
   ],
   "source": [
    "full_watches_eval_lr = eval(\"Logistic Regerssion\", watches_test_label, watches_predict_lr)"
   ]
  },
  {
   "cell_type": "markdown",
   "metadata": {},
   "source": [
    "#### Test on video games"
   ]
  },
  {
   "cell_type": "code",
   "execution_count": 45,
   "metadata": {},
   "outputs": [],
   "source": [
    "videogames_predict_lr = logregression.predict(videogames_test_features)"
   ]
  },
  {
   "cell_type": "code",
   "execution_count": 46,
   "metadata": {},
   "outputs": [
    {
     "data": {
      "image/png": "[encoded data removed]",
      "text/plain": [
       "<Figure size 432x288 with 2 Axes>"
      ]
     },
     "metadata": {
      "needs_background": "light"
     },
     "output_type": "display_data"
    }
   ],
   "source": [
    "cm_lr = confusion_matrix(videogames_test_label,videogames_predict_lr)\n",
    "plot_confusion_matrix(cm_lr, classes=logregression.classes_.tolist(),\n",
    "                      title='Logistic regression(Full train, videogames test)')\n",
    "plt.savefig('./plots/full_videogames_lr.png')"
   ]
  },
  {
   "cell_type": "code",
   "execution_count": 47,
   "metadata": {},
   "outputs": [
    {
     "name": "stdout",
     "output_type": "stream",
     "text": [
      "Logistic Regerssion acc: 0.889817 prec: 0.806438 rec: 0.895542 f1: 0.838190\n"
     ]
    }
   ],
   "source": [
    "full_videogames_eval_lr = eval(\"Logistic Regerssion\", videogames_test_label, videogames_predict_lr)"
   ]
  },
  {
   "cell_type": "markdown",
   "metadata": {},
   "source": [
    "## Individual class"
   ]
  },
  {
   "cell_type": "markdown",
   "metadata": {},
   "source": [
    "### Camera"
   ]
  },
  {
   "cell_type": "markdown",
   "metadata": {},
   "source": [
    "#### Naive Bayes"
   ]
  },
  {
   "cell_type": "code",
   "execution_count": 48,
   "metadata": {},
   "outputs": [],
   "source": [
    "# Naive Bayes\n",
    "naivebayes = MultinomialNB()\n",
    "naivebayes.fit(camera_train_features, camera_train_label)\n",
    "camera_predict_nb = naivebayes.predict(camera_test_features)"
   ]
  },
  {
   "cell_type": "code",
   "execution_count": 49,
   "metadata": {},
   "outputs": [
    {
     "data": {
      "image/png": "[encoded data removed]",
      "text/plain": [
       "<Figure size 432x288 with 2 Axes>"
      ]
     },
     "metadata": {
      "needs_background": "light"
     },
     "output_type": "display_data"
    }
   ],
   "source": [
    "cm_nb = confusion_matrix(camera_test_label,camera_predict_nb)\n",
    "plot_confusion_matrix(cm_nb, classes=naivebayes.classes_.tolist(),\n",
    "                      title='Naive Bayes(Camera train, Camera test)')\n",
    "plt.savefig('./plots/camera_camera_nb.png')"
   ]
  },
  {
   "cell_type": "code",
   "execution_count": 50,
   "metadata": {},
   "outputs": [
    {
     "name": "stdout",
     "output_type": "stream",
     "text": [
      "Naive Bayes acc: 0.831274 prec: 0.726902 rec: 0.850982 f1: 0.756448\n"
     ]
    }
   ],
   "source": [
    "camera_camera_eval_nb = eval(\"Naive Bayes\", camera_test_label, camera_predict_nb)"
   ]
  },
  {
   "cell_type": "markdown",
   "metadata": {},
   "source": [
    "#### Logistic Regression"
   ]
  },
  {
   "cell_type": "code",
   "execution_count": 51,
   "metadata": {},
   "outputs": [],
   "source": [
    "# Logistic regression\n",
    "logregression = LogisticRegression()\n",
    "logregression.fit(camera_train_features, camera_train_label)\n",
    "camera_predict_lr = logregression.predict(camera_test_features)"
   ]
  },
  {
   "cell_type": "code",
   "execution_count": 52,
   "metadata": {},
   "outputs": [
    {
     "data": {
      "image/png": "[encoded data removed]",
      "text/plain": [
       "<Figure size 432x288 with 2 Axes>"
      ]
     },
     "metadata": {
      "needs_background": "light"
     },
     "output_type": "display_data"
    }
   ],
   "source": [
    "cm_lr = confusion_matrix(camera_test_label,camera_predict_lr)\n",
    "plot_confusion_matrix(cm_lr, classes=logregression.classes_.tolist(),\n",
    "                      title='Logistic Regression(Camera train, camera test)')\n",
    "plt.savefig('./plots/camera_camera_lr.png')"
   ]
  },
  {
   "cell_type": "code",
   "execution_count": 53,
   "metadata": {},
   "outputs": [
    {
     "name": "stdout",
     "output_type": "stream",
     "text": [
      "Logistic Regerssion acc: 0.903786 prec: 0.808767 rec: 0.903998 f1: 0.844002\n"
     ]
    }
   ],
   "source": [
    "camera_camera_eval_lr = eval(\"Logistic Regerssion\", camera_test_label, camera_predict_lr)"
   ]
  },
  {
   "cell_type": "markdown",
   "metadata": {},
   "source": [
    "### Grocery"
   ]
  },
  {
   "cell_type": "markdown",
   "metadata": {},
   "source": [
    "#### Naive Bayes"
   ]
  },
  {
   "cell_type": "code",
   "execution_count": 54,
   "metadata": {},
   "outputs": [],
   "source": [
    "# Naive Bayes\n",
    "naivebayes = MultinomialNB()\n",
    "naivebayes.fit(grocery_train_features, grocery_train_label)\n",
    "grocery_predict_nb = naivebayes.predict(grocery_test_features)"
   ]
  },
  {
   "cell_type": "code",
   "execution_count": 55,
   "metadata": {},
   "outputs": [
    {
     "data": {
      "image/png": "[encoded data removed]",
      "text/plain": [
       "<Figure size 432x288 with 2 Axes>"
      ]
     },
     "metadata": {
      "needs_background": "light"
     },
     "output_type": "display_data"
    }
   ],
   "source": [
    "cm_nb = confusion_matrix(grocery_test_label,grocery_predict_nb)\n",
    "plot_confusion_matrix(cm_nb, classes=naivebayes.classes_.tolist(),\n",
    "                      title='Naive Bayes(Grocery train, grocery test)')\n",
    "plt.savefig('./plots/grocery_grocery_nb.png')"
   ]
  },
  {
   "cell_type": "code",
   "execution_count": 56,
   "metadata": {},
   "outputs": [
    {
     "name": "stdout",
     "output_type": "stream",
     "text": [
      "Naive Bayes acc: 0.817789 prec: 0.704141 rec: 0.810686 f1: 0.730426\n"
     ]
    }
   ],
   "source": [
    "grocery_grocery_eval_nb = eval(\"Naive Bayes\", grocery_test_label, grocery_predict_nb)"
   ]
  },
  {
   "cell_type": "markdown",
   "metadata": {},
   "source": [
    "#### Logistic Regression"
   ]
  },
  {
   "cell_type": "code",
   "execution_count": 57,
   "metadata": {},
   "outputs": [],
   "source": [
    "# Logistic regression\n",
    "logregression = LogisticRegression()\n",
    "logregression.fit(grocery_train_features, grocery_train_label)\n",
    "grocery_predict_lr = logregression.predict(grocery_test_features)"
   ]
  },
  {
   "cell_type": "code",
   "execution_count": 58,
   "metadata": {},
   "outputs": [
    {
     "data": {
      "image/png": "[encoded data removed]",
      "text/plain": [
       "<Figure size 432x288 with 2 Axes>"
      ]
     },
     "metadata": {
      "needs_background": "light"
     },
     "output_type": "display_data"
    }
   ],
   "source": [
    "cm_lr = confusion_matrix(grocery_test_label,grocery_predict_lr)\n",
    "plot_confusion_matrix(cm_lr, classes=logregression.classes_.tolist(),\n",
    "                      title='Logistic Regression(Grocery train, grocery test)')\n",
    "plt.savefig('./plots/grocery_grocery_lr.png')"
   ]
  },
  {
   "cell_type": "code",
   "execution_count": 59,
   "metadata": {},
   "outputs": [
    {
     "name": "stdout",
     "output_type": "stream",
     "text": [
      "Logistic Regerssion acc: 0.875149 prec: 0.764756 rec: 0.842025 f1: 0.793577\n"
     ]
    }
   ],
   "source": [
    "grocery_grocery_eval_lr = eval(\"Logistic Regerssion\", grocery_test_label, grocery_predict_lr)"
   ]
  },
  {
   "cell_type": "markdown",
   "metadata": {},
   "source": [
    "### Watches"
   ]
  },
  {
   "cell_type": "markdown",
   "metadata": {},
   "source": [
    "#### Naive Bayes"
   ]
  },
  {
   "cell_type": "code",
   "execution_count": 60,
   "metadata": {},
   "outputs": [],
   "source": [
    "# Naive Bayes\n",
    "naivebayes = MultinomialNB()\n",
    "naivebayes.fit(watches_train_features, watches_train_label)\n",
    "watches_predict_nb = naivebayes.predict(watches_test_features)"
   ]
  },
  {
   "cell_type": "code",
   "execution_count": 61,
   "metadata": {},
   "outputs": [
    {
     "data": {
      "image/png": "[encoded data removed]",
      "text/plain": [
       "<Figure size 432x288 with 2 Axes>"
      ]
     },
     "metadata": {
      "needs_background": "light"
     },
     "output_type": "display_data"
    }
   ],
   "source": [
    "cm_nb = confusion_matrix(watches_test_label,watches_predict_nb)\n",
    "plot_confusion_matrix(cm_nb, classes=naivebayes.classes_.tolist(),\n",
    "                      title='Naive Bayes(Watches train, watches test)')\n",
    "plt.savefig('./plots/watches_watches_nb.png')"
   ]
  },
  {
   "cell_type": "code",
   "execution_count": 62,
   "metadata": {},
   "outputs": [
    {
     "name": "stdout",
     "output_type": "stream",
     "text": [
      "Naive Bayes acc: 0.862084 prec: 0.759196 rec: 0.878595 f1: 0.793893\n"
     ]
    }
   ],
   "source": [
    "watches_watches_eval_nb = eval(\"Naive Bayes\", watches_test_label, watches_predict_nb)"
   ]
  },
  {
   "cell_type": "markdown",
   "metadata": {},
   "source": [
    "#### Logistic Regression"
   ]
  },
  {
   "cell_type": "code",
   "execution_count": 63,
   "metadata": {},
   "outputs": [],
   "source": [
    "# Logistic regression\n",
    "logregression = LogisticRegression()\n",
    "logregression.fit(watches_train_features, watches_train_label)\n",
    "watches_predict_lr = logregression.predict(watches_test_features)"
   ]
  },
  {
   "cell_type": "code",
   "execution_count": 64,
   "metadata": {},
   "outputs": [
    {
     "data": {
      "image/png": "[encoded data removed]",
      "text/plain": [
       "<Figure size 432x288 with 2 Axes>"
      ]
     },
     "metadata": {
      "needs_background": "light"
     },
     "output_type": "display_data"
    }
   ],
   "source": [
    "cm_lr = confusion_matrix(watches_test_label,watches_predict_lr)\n",
    "plot_confusion_matrix(cm_lr, classes=logregression.classes_.tolist(),\n",
    "                      title='Logistic Regression(Watches train, watches test)')\n",
    "plt.savefig('./plots/watches_watches_lr.png')"
   ]
  },
  {
   "cell_type": "code",
   "execution_count": 65,
   "metadata": {},
   "outputs": [
    {
     "name": "stdout",
     "output_type": "stream",
     "text": [
      "Logistic Regerssion acc: 0.911576 prec: 0.821293 rec: 0.913179 f1: 0.856174\n"
     ]
    }
   ],
   "source": [
    "watches_watches_eval_lr = eval(\"Logistic Regerssion\", watches_test_label, watches_predict_lr)"
   ]
  },
  {
   "cell_type": "markdown",
   "metadata": {},
   "source": [
    "### Video games"
   ]
  },
  {
   "cell_type": "markdown",
   "metadata": {},
   "source": [
    "#### Naive Bayes"
   ]
  },
  {
   "cell_type": "code",
   "execution_count": 66,
   "metadata": {},
   "outputs": [],
   "source": [
    "# Naive Bayes\n",
    "naivebayes = MultinomialNB()\n",
    "naivebayes.fit(videogames_train_features, videogames_train_label)\n",
    "videogames_predict_nb = naivebayes.predict(videogames_test_features)"
   ]
  },
  {
   "cell_type": "code",
   "execution_count": 67,
   "metadata": {},
   "outputs": [
    {
     "data": {
      "image/png": "[encoded data removed]",
      "text/plain": [
       "<Figure size 432x288 with 2 Axes>"
      ]
     },
     "metadata": {
      "needs_background": "light"
     },
     "output_type": "display_data"
    }
   ],
   "source": [
    "cm_nb = confusion_matrix(videogames_test_label,videogames_predict_nb)\n",
    "plot_confusion_matrix(cm_nb, classes=naivebayes.classes_.tolist(),\n",
    "                      title='Naive Bayes(Videogames train, videogames test)')\n",
    "plt.savefig('./plots/videogames_videogames_nb.png')"
   ]
  },
  {
   "cell_type": "code",
   "execution_count": 68,
   "metadata": {},
   "outputs": [
    {
     "name": "stdout",
     "output_type": "stream",
     "text": [
      "Naive Bayes acc: 0.784704 prec: 0.715577 rec: 0.840607 f1: 0.729628\n"
     ]
    }
   ],
   "source": [
    "videogames_videogames_eval_nb = eval(\"Naive Bayes\", videogames_test_label, videogames_predict_nb)"
   ]
  },
  {
   "cell_type": "markdown",
   "metadata": {},
   "source": [
    "#### Logistic Regression"
   ]
  },
  {
   "cell_type": "code",
   "execution_count": 69,
   "metadata": {},
   "outputs": [],
   "source": [
    "# Logistic regression\n",
    "logregression = LogisticRegression()\n",
    "logregression.fit(videogames_train_features, videogames_train_label)\n",
    "videogames_predict_lr = logregression.predict(videogames_test_features)"
   ]
  },
  {
   "cell_type": "code",
   "execution_count": 70,
   "metadata": {},
   "outputs": [
    {
     "data": {
      "image/png": "[encoded data removed]",
      "text/plain": [
       "<Figure size 432x288 with 2 Axes>"
      ]
     },
     "metadata": {
      "needs_background": "light"
     },
     "output_type": "display_data"
    }
   ],
   "source": [
    "cm_lr = confusion_matrix(videogames_predict_lr,videogames_test_label)\n",
    "plot_confusion_matrix(cm_lr, classes=logregression.classes_.tolist(),\n",
    "                      title='Logistic Regression(Videogames train,videogames test)')\n",
    "plt.savefig('./plots/videogames_videogames_lr.png')"
   ]
  },
  {
   "cell_type": "code",
   "execution_count": 71,
   "metadata": {},
   "outputs": [
    {
     "name": "stdout",
     "output_type": "stream",
     "text": [
      "Logistic Regerssion acc: 0.891866 prec: 0.808963 rec: 0.894563 f1: 0.840108\n"
     ]
    }
   ],
   "source": [
    "videogames_videogames_eval_lr = eval(\"Logistic Regerssion\", videogames_test_label, videogames_predict_lr)"
   ]
  }
 ],
 "metadata": {
  "kernelspec": {
   "display_name": "Python 3",
   "language": "python",
   "name": "python3"
  },
  "language_info": {
   "codemirror_mode": {
    "name": "ipython",
    "version": 3
   },
   "file_extension": ".py",
   "mimetype": "text/x-python",
   "name": "python",
   "nbconvert_exporter": "python",
   "pygments_lexer": "ipython3",
   "version": "3.7.0"
  }
 },
 "nbformat": 4,
 "nbformat_minor": 2
}
