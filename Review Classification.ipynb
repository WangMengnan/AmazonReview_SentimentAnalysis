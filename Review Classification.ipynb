{
 "cells": [
  {
   "cell_type": "markdown",
   "metadata": {},
   "source": [
    "# Vectorization"
   ]
  },
  {
   "cell_type": "code",
   "execution_count": 1,
   "metadata": {},
   "outputs": [
    {
     "name": "stderr",
     "output_type": "stream",
     "text": [
      "/anaconda3/lib/python3.7/site-packages/sklearn/ensemble/weight_boosting.py:29: DeprecationWarning: numpy.core.umath_tests is an internal NumPy module and should not be imported. It will be removed in a future NumPy release.\n",
      "  from numpy.core.umath_tests import inner1d\n"
     ]
    }
   ],
   "source": [
    "import warnings\n",
    "warnings.filterwarnings(\"ignore\")                     #Ignoring unnecessory warnings\n",
    "from tqdm import tqdm\n",
    "import numpy as np                                  #for large and multi-dimensional arrays\n",
    "import pandas as pd                                 #for data manipulation and analysis\n",
    "from sklearn.feature_extraction.text import CountVectorizer          #For Bag of words\n",
    "from sklearn.feature_extraction.text import TfidfTransformer\n",
    "import matplotlib.pyplot as plt\n",
    "from sklearn.naive_bayes import MultinomialNB\n",
    "from sklearn.linear_model import LogisticRegression\n",
    "from sklearn.svm import SVC\n",
    "from sklearn.ensemble import GradientBoostingClassifier\n",
    "from sklearn.metrics import confusion_matrix\n",
    "import itertools"
   ]
  },
  {
   "cell_type": "code",
   "execution_count": 2,
   "metadata": {},
   "outputs": [
    {
     "data": {
      "text/html": [
       "<div>\n",
       "<style scoped>\n",
       "    .dataframe tbody tr th:only-of-type {\n",
       "        vertical-align: middle;\n",
       "    }\n",
       "\n",
       "    .dataframe tbody tr th {\n",
       "        vertical-align: top;\n",
       "    }\n",
       "\n",
       "    .dataframe thead th {\n",
       "        text-align: right;\n",
       "    }\n",
       "</style>\n",
       "<table border=\"1\" class=\"dataframe\">\n",
       "  <thead>\n",
       "    <tr style=\"text-align: right;\">\n",
       "      <th></th>\n",
       "      <th>Unnamed: 0</th>\n",
       "      <th>product_category</th>\n",
       "      <th>review_body</th>\n",
       "      <th>sentiment_actual</th>\n",
       "      <th>processed</th>\n",
       "    </tr>\n",
       "  </thead>\n",
       "  <tbody>\n",
       "    <tr>\n",
       "      <th>0</th>\n",
       "      <td>0</td>\n",
       "      <td>Camera</td>\n",
       "      <td>Works well with my Nikon D610. The range is a ...</td>\n",
       "      <td>pos</td>\n",
       "      <td>work well nikon d610 rang littl short though p...</td>\n",
       "    </tr>\n",
       "    <tr>\n",
       "      <th>1</th>\n",
       "      <td>1</td>\n",
       "      <td>Camera</td>\n",
       "      <td>Wow, construction of this bag is second to non...</td>\n",
       "      <td>pos</td>\n",
       "      <td>wow construct bag second none plenti storag la...</td>\n",
       "    </tr>\n",
       "    <tr>\n",
       "      <th>2</th>\n",
       "      <td>2</td>\n",
       "      <td>Camera</td>\n",
       "      <td>i should have put system in a long time ago.  ...</td>\n",
       "      <td>pos</td>\n",
       "      <td>put system long time ago pleas result instal p...</td>\n",
       "    </tr>\n",
       "    <tr>\n",
       "      <th>3</th>\n",
       "      <td>3</td>\n",
       "      <td>Camera</td>\n",
       "      <td>So, I'm new to the arca swiss world. And my bo...</td>\n",
       "      <td>pos</td>\n",
       "      <td>so i'm new arca swiss world boss introduc real...</td>\n",
       "    </tr>\n",
       "    <tr>\n",
       "      <th>4</th>\n",
       "      <td>4</td>\n",
       "      <td>Camera</td>\n",
       "      <td>Great camera, now if I can learn all its finer...</td>\n",
       "      <td>pos</td>\n",
       "      <td>great camera learn finer point turn one grands...</td>\n",
       "    </tr>\n",
       "  </tbody>\n",
       "</table>\n",
       "</div>"
      ],
      "text/plain": [
       "   Unnamed: 0 product_category  \\\n",
       "0           0           Camera   \n",
       "1           1           Camera   \n",
       "2           2           Camera   \n",
       "3           3           Camera   \n",
       "4           4           Camera   \n",
       "\n",
       "                                         review_body sentiment_actual  \\\n",
       "0  Works well with my Nikon D610. The range is a ...              pos   \n",
       "1  Wow, construction of this bag is second to non...              pos   \n",
       "2  i should have put system in a long time ago.  ...              pos   \n",
       "3  So, I'm new to the arca swiss world. And my bo...              pos   \n",
       "4  Great camera, now if I can learn all its finer...              pos   \n",
       "\n",
       "                                           processed  \n",
       "0  work well nikon d610 rang littl short though p...  \n",
       "1  wow construct bag second none plenti storag la...  \n",
       "2  put system long time ago pleas result instal p...  \n",
       "3  so i'm new arca swiss world boss introduc real...  \n",
       "4  great camera learn finer point turn one grands...  "
      ]
     },
     "execution_count": 2,
     "metadata": {},
     "output_type": "execute_result"
    }
   ],
   "source": [
    "# camera_train = pd.read_csv('./preprocess/processed_train/camera_train.csv',sep = '\\t')\n",
    "# grocery_train = pd.read_csv('./preprocess/processed_train/grocery_train.csv',sep = '\\t')\n",
    "# watches_train = pd.read_csv('./preprocess/processed_train/watches_train.csv',sep = '\\t')\n",
    "# videogames_train = pd.read_csv('./preprocess/processed_train/videogames_train.csv',sep = '\\t')\n",
    "full_train = pd.read_csv('./preprocess/processed_train/full_train_data.csv',sep = '\\t')\n",
    "full_train.head()"
   ]
  },
  {
   "cell_type": "code",
   "execution_count": 3,
   "metadata": {},
   "outputs": [
    {
     "data": {
      "text/html": [
       "<div>\n",
       "<style scoped>\n",
       "    .dataframe tbody tr th:only-of-type {\n",
       "        vertical-align: middle;\n",
       "    }\n",
       "\n",
       "    .dataframe tbody tr th {\n",
       "        vertical-align: top;\n",
       "    }\n",
       "\n",
       "    .dataframe thead th {\n",
       "        text-align: right;\n",
       "    }\n",
       "</style>\n",
       "<table border=\"1\" class=\"dataframe\">\n",
       "  <thead>\n",
       "    <tr style=\"text-align: right;\">\n",
       "      <th></th>\n",
       "      <th>Unnamed: 0</th>\n",
       "      <th>product_category</th>\n",
       "      <th>review_body</th>\n",
       "      <th>sentiment_actual</th>\n",
       "      <th>processed</th>\n",
       "    </tr>\n",
       "  </thead>\n",
       "  <tbody>\n",
       "    <tr>\n",
       "      <th>0</th>\n",
       "      <td>0</td>\n",
       "      <td>Camera</td>\n",
       "      <td>I've had this Fuji 2800 camera for about 1 mon...</td>\n",
       "      <td>pos</td>\n",
       "      <td>i'v fuji 2800 camera 1 month simpli love it to...</td>\n",
       "    </tr>\n",
       "    <tr>\n",
       "      <th>1</th>\n",
       "      <td>1</td>\n",
       "      <td>Camera</td>\n",
       "      <td>great camera .......&lt;br /&gt;works perfectly the ...</td>\n",
       "      <td>pos</td>\n",
       "      <td>great camera work perfect way want look awesom</td>\n",
       "    </tr>\n",
       "    <tr>\n",
       "      <th>2</th>\n",
       "      <td>2</td>\n",
       "      <td>Camera</td>\n",
       "      <td>I did quite a bit of shopping around before bu...</td>\n",
       "      <td>pos</td>\n",
       "      <td>quit bit shop around buy camera could not happ...</td>\n",
       "    </tr>\n",
       "    <tr>\n",
       "      <th>3</th>\n",
       "      <td>3</td>\n",
       "      <td>Camera</td>\n",
       "      <td>works</td>\n",
       "      <td>pos</td>\n",
       "      <td>work</td>\n",
       "    </tr>\n",
       "    <tr>\n",
       "      <th>4</th>\n",
       "      <td>4</td>\n",
       "      <td>Camera</td>\n",
       "      <td>This is a very simple clamp that works exactly...</td>\n",
       "      <td>pos</td>\n",
       "      <td>simpl clamp work exact should depend posit cla...</td>\n",
       "    </tr>\n",
       "  </tbody>\n",
       "</table>\n",
       "</div>"
      ],
      "text/plain": [
       "   Unnamed: 0 product_category  \\\n",
       "0           0           Camera   \n",
       "1           1           Camera   \n",
       "2           2           Camera   \n",
       "3           3           Camera   \n",
       "4           4           Camera   \n",
       "\n",
       "                                         review_body sentiment_actual  \\\n",
       "0  I've had this Fuji 2800 camera for about 1 mon...              pos   \n",
       "1  great camera .......<br />works perfectly the ...              pos   \n",
       "2  I did quite a bit of shopping around before bu...              pos   \n",
       "3                                              works              pos   \n",
       "4  This is a very simple clamp that works exactly...              pos   \n",
       "\n",
       "                                           processed  \n",
       "0  i'v fuji 2800 camera 1 month simpli love it to...  \n",
       "1     great camera work perfect way want look awesom  \n",
       "2  quit bit shop around buy camera could not happ...  \n",
       "3                                               work  \n",
       "4  simpl clamp work exact should depend posit cla...  "
      ]
     },
     "execution_count": 3,
     "metadata": {},
     "output_type": "execute_result"
    }
   ],
   "source": [
    "# camera_test = pd.read_csv('./preprocess/processed_test/camera_test.csv',sep = '\\t')\n",
    "# grocery_test = pd.read_csv('./preprocess/processed_test/grocery_test.csv',sep = '\\t')\n",
    "# watches_test = pd.read_csv('./preprocess/processed_test/watches_test.csv',sep = '\\t')\n",
    "# videogames_test = pd.read_csv('./preprocess/processed_test/videogames_test.csv',sep = '\\t')\n",
    "full_test = pd.read_csv('./preprocess/processed_test/full_test_data.csv',sep = '\\t')\n",
    "full_test.head()"
   ]
  },
  {
   "cell_type": "markdown",
   "metadata": {},
   "source": [
    "## Full train/test label and feature"
   ]
  },
  {
   "cell_type": "code",
   "execution_count": 4,
   "metadata": {},
   "outputs": [],
   "source": [
    "# Get labels\n",
    "full_train['sentiment_actual'] = full_train.sentiment_actual.map({'neg': 0, 'pos': 1})\n",
    "full_train_label = full_train['sentiment_actual']\n",
    "\n",
    "\n",
    "full_test['sentiment_actual'] = full_test.sentiment_actual.map({'neg': 0, 'pos': 1})\n",
    "full_test_label = full_test['sentiment_actual']\n"
   ]
  },
  {
   "cell_type": "code",
   "execution_count": 5,
   "metadata": {},
   "outputs": [],
   "source": [
    "train_texts = full_train['processed'].astype('U')\n",
    "test_texts = full_test['processed'].astype('U')\n",
    "\n",
    "count_vect = CountVectorizer()  \n",
    "train_counts = count_vect.fit_transform(train_texts)\n",
    "test_counts = count_vect.transform(test_texts)\n",
    "\n",
    "transformer = TfidfTransformer()\n",
    "\n",
    "transformer = transformer.fit(train_counts)\n",
    "transformer = transformer.fit(test_counts)\n",
    "\n",
    "train_features = transformer.transform(train_counts)\n",
    "test_features = transformer.transform(test_counts)"
   ]
  },
  {
   "cell_type": "code",
   "execution_count": 6,
   "metadata": {},
   "outputs": [
    {
     "name": "stdout",
     "output_type": "stream",
     "text": [
      "400000\n",
      "400000\n",
      "79838\n",
      "79838\n"
     ]
    }
   ],
   "source": [
    "print(train_features.shape[0])\n",
    "print(full_train_label.shape[0])\n",
    "print(test_features.shape[0])\n",
    "print(full_test_label.shape[0])"
   ]
  },
  {
   "cell_type": "markdown",
   "metadata": {},
   "source": [
    "## Binary Classification"
   ]
  },
  {
   "cell_type": "code",
   "execution_count": 7,
   "metadata": {},
   "outputs": [],
   "source": [
    "def plot_confusion_matrix(cm, classes,\n",
    "                          normalize=False,\n",
    "                          title='Confusion matrix',\n",
    "                          cmap=plt.cm.Blues):\n",
    "\n",
    "    if normalize:\n",
    "        cm = cm.astype('float') / cm.sum(axis=1)[:, np.newaxis]\n",
    "\n",
    "    plt.imshow(cm, interpolation='nearest', cmap=cmap)\n",
    "    plt.title(title)\n",
    "    plt.colorbar()\n",
    "    tick_marks = np.arange(len(classes))\n",
    "    plt.xticks(tick_marks, classes, rotation=45)\n",
    "    plt.yticks(tick_marks, classes)\n",
    "\n",
    "    fmt = '.2f' if normalize else 'd'\n",
    "    thresh = cm.max() / 2.\n",
    "    for i, j in itertools.product(range(cm.shape[0]), range(cm.shape[1])):\n",
    "        plt.text(j, i, format(cm[i, j], fmt),\n",
    "                 horizontalalignment=\"center\",\n",
    "                 color=\"white\" if cm[i, j] > thresh else \"black\")\n",
    "\n",
    "    plt.tight_layout()\n",
    "    plt.ylabel('Predicted label')\n",
    "    plt.xlabel('True label')"
   ]
  },
  {
   "cell_type": "markdown",
   "metadata": {},
   "source": [
    "### Naive bayes"
   ]
  },
  {
   "cell_type": "code",
   "execution_count": 8,
   "metadata": {},
   "outputs": [
    {
     "data": {
      "text/plain": [
       "MultinomialNB(alpha=1.0, class_prior=None, fit_prior=True)"
      ]
     },
     "execution_count": 8,
     "metadata": {},
     "output_type": "execute_result"
    }
   ],
   "source": [
    "naivebayes = MultinomialNB()\n",
    "naivebayes.fit(train_features, full_train_label)"
   ]
  },
  {
   "cell_type": "code",
   "execution_count": 9,
   "metadata": {},
   "outputs": [],
   "source": [
    "predict_nb = naivebayes.predict(test_features)"
   ]
  },
  {
   "cell_type": "code",
   "execution_count": 10,
   "metadata": {},
   "outputs": [
    {
     "data": {
      "image/png": "[encoded data removed]",
      "text/plain": [
       "<Figure size 432x288 with 2 Axes>"
      ]
     },
     "metadata": {
      "needs_background": "light"
     },
     "output_type": "display_data"
    }
   ],
   "source": [
    "cm_nb = confusion_matrix(predict_nb, full_test_label)\n",
    "plot_confusion_matrix(cm_nb, classes=naivebayes.classes_.tolist(),\n",
    "                      title='Confusion matrix Naive Bayes')\n",
    "plt.show()"
   ]
  },
  {
   "cell_type": "code",
   "execution_count": 11,
   "metadata": {},
   "outputs": [
    {
     "name": "stdout",
     "output_type": "stream",
     "text": [
      "0.8457501440416844\n"
     ]
    }
   ],
   "source": [
    "print(np.mean(predict_nb == full_test_label)) "
   ]
  },
  {
   "cell_type": "markdown",
   "metadata": {},
   "source": [
    "### Logistic regression"
   ]
  },
  {
   "cell_type": "code",
   "execution_count": 12,
   "metadata": {},
   "outputs": [],
   "source": [
    "logregression = LogisticRegression()\n",
    "logregression.fit(train_features, full_train_label)\n",
    "predict_lr = logregression.predict(test_features)"
   ]
  },
  {
   "cell_type": "code",
   "execution_count": 13,
   "metadata": {},
   "outputs": [
    {
     "data": {
      "image/png": "[encoded data removed]",
      "text/plain": [
       "<Figure size 432x288 with 2 Axes>"
      ]
     },
     "metadata": {
      "needs_background": "light"
     },
     "output_type": "display_data"
    }
   ],
   "source": [
    "cm_lr = confusion_matrix(predict_lr, full_test_label)\n",
    "plot_confusion_matrix(cm_lr, classes=logregression.classes_.tolist(),\n",
    "                      title='Confusion matrix Logistic Regression')\n",
    "plt.show()"
   ]
  },
  {
   "cell_type": "code",
   "execution_count": 14,
   "metadata": {},
   "outputs": [
    {
     "name": "stdout",
     "output_type": "stream",
     "text": [
      "0.8942483529146522\n"
     ]
    }
   ],
   "source": [
    "print(np.mean(predict_lr == full_test_label)) "
   ]
  },
  {
   "cell_type": "markdown",
   "metadata": {},
   "source": [
    "## Individual class"
   ]
  },
  {
   "cell_type": "code",
   "execution_count": null,
   "metadata": {},
   "outputs": [],
   "source": []
  }
 ],
 "metadata": {
  "kernelspec": {
   "display_name": "Python 3",
   "language": "python",
   "name": "python3"
  },
  "language_info": {
   "codemirror_mode": {
    "name": "ipython",
    "version": 3
   },
   "file_extension": ".py",
   "mimetype": "text/x-python",
   "name": "python",
   "nbconvert_exporter": "python",
   "pygments_lexer": "ipython3",
   "version": "3.7.0"
  }
 },
 "nbformat": 4,
 "nbformat_minor": 2
}
