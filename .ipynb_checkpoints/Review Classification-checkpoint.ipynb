{
 "cells": [
  {
   "cell_type": "markdown",
   "metadata": {},
   "source": [
    "# Vectorization"
   ]
  },
  {
   "cell_type": "code",
   "execution_count": 1,
   "metadata": {},
   "outputs": [
    {
     "name": "stderr",
     "output_type": "stream",
     "text": [
      "/anaconda3/lib/python3.7/site-packages/sklearn/ensemble/weight_boosting.py:29: DeprecationWarning: numpy.core.umath_tests is an internal NumPy module and should not be imported. It will be removed in a future NumPy release.\n",
      "  from numpy.core.umath_tests import inner1d\n"
     ]
    }
   ],
   "source": [
    "import warnings\n",
    "warnings.filterwarnings(\"ignore\")                     #Ignoring unnecessory warnings\n",
    "from tqdm import tqdm\n",
    "import numpy as np                                  \n",
    "import pandas as pd                                 \n",
    "from sklearn.feature_extraction.text import CountVectorizer          #For Bag of words\n",
    "from sklearn.feature_extraction.text import TfidfTransformer\n",
    "import matplotlib.pyplot as plt\n",
    "from sklearn.naive_bayes import MultinomialNB\n",
    "from sklearn.linear_model import LogisticRegression\n",
    "from sklearn.svm import SVC\n",
    "from sklearn.ensemble import GradientBoostingClassifier\n",
    "from sklearn.metrics import confusion_matrix\n",
    "import itertools\n",
    "from sklearn.metrics import accuracy_score, precision_recall_fscore_support"
   ]
  },
  {
   "cell_type": "code",
   "execution_count": 2,
   "metadata": {},
   "outputs": [
    {
     "data": {
      "text/html": [
       "<div>\n",
       "<style scoped>\n",
       "    .dataframe tbody tr th:only-of-type {\n",
       "        vertical-align: middle;\n",
       "    }\n",
       "\n",
       "    .dataframe tbody tr th {\n",
       "        vertical-align: top;\n",
       "    }\n",
       "\n",
       "    .dataframe thead th {\n",
       "        text-align: right;\n",
       "    }\n",
       "</style>\n",
       "<table border=\"1\" class=\"dataframe\">\n",
       "  <thead>\n",
       "    <tr style=\"text-align: right;\">\n",
       "      <th></th>\n",
       "      <th>Unnamed: 0</th>\n",
       "      <th>product_category</th>\n",
       "      <th>review_headline</th>\n",
       "      <th>review_body</th>\n",
       "      <th>sentiment_actual</th>\n",
       "      <th>processed</th>\n",
       "      <th>processed_light</th>\n",
       "    </tr>\n",
       "  </thead>\n",
       "  <tbody>\n",
       "    <tr>\n",
       "      <th>0</th>\n",
       "      <td>0</td>\n",
       "      <td>Camera</td>\n",
       "      <td>Very good in his class &amp; price tripod.</td>\n",
       "      <td>I am not a professional photographer. My Equip...</td>\n",
       "      <td>pos</td>\n",
       "      <td>not profession photograph equip canon sx20 pai...</td>\n",
       "      <td>not professional photographer equipment canon ...</td>\n",
       "    </tr>\n",
       "    <tr>\n",
       "      <th>1</th>\n",
       "      <td>1</td>\n",
       "      <td>Camera</td>\n",
       "      <td>WOW</td>\n",
       "      <td>I spent a lot of time reviewing different lens...</td>\n",
       "      <td>pos</td>\n",
       "      <td>spent lot time review differ lens rang skeptic...</td>\n",
       "      <td>spent lot time reviewing different lenses rang...</td>\n",
       "    </tr>\n",
       "    <tr>\n",
       "      <th>2</th>\n",
       "      <td>2</td>\n",
       "      <td>Camera</td>\n",
       "      <td>Four Stars</td>\n",
       "      <td>does the job</td>\n",
       "      <td>pos</td>\n",
       "      <td>job</td>\n",
       "      <td>job</td>\n",
       "    </tr>\n",
       "    <tr>\n",
       "      <th>3</th>\n",
       "      <td>3</td>\n",
       "      <td>Camera</td>\n",
       "      <td>I love it</td>\n",
       "      <td>All groovy</td>\n",
       "      <td>pos</td>\n",
       "      <td>groovi</td>\n",
       "      <td>groovy</td>\n",
       "    </tr>\n",
       "    <tr>\n",
       "      <th>4</th>\n",
       "      <td>4</td>\n",
       "      <td>Camera</td>\n",
       "      <td>UV filter</td>\n",
       "      <td>Was looking for a kit to protect my camera and...</td>\n",
       "      <td>pos</td>\n",
       "      <td>look kit protect camera found good realli not ...</td>\n",
       "      <td>looking kit protect camera found good really n...</td>\n",
       "    </tr>\n",
       "  </tbody>\n",
       "</table>\n",
       "</div>"
      ],
      "text/plain": [
       "   Unnamed: 0 product_category                         review_headline  \\\n",
       "0           0           Camera  Very good in his class & price tripod.   \n",
       "1           1           Camera                                     WOW   \n",
       "2           2           Camera                              Four Stars   \n",
       "3           3           Camera                               I love it   \n",
       "4           4           Camera                               UV filter   \n",
       "\n",
       "                                         review_body sentiment_actual  \\\n",
       "0  I am not a professional photographer. My Equip...              pos   \n",
       "1  I spent a lot of time reviewing different lens...              pos   \n",
       "2                                       does the job              pos   \n",
       "3                                         All groovy              pos   \n",
       "4  Was looking for a kit to protect my camera and...              pos   \n",
       "\n",
       "                                           processed  \\\n",
       "0  not profession photograph equip canon sx20 pai...   \n",
       "1  spent lot time review differ lens rang skeptic...   \n",
       "2                                                job   \n",
       "3                                             groovi   \n",
       "4  look kit protect camera found good realli not ...   \n",
       "\n",
       "                                     processed_light  \n",
       "0  not professional photographer equipment canon ...  \n",
       "1  spent lot time reviewing different lenses rang...  \n",
       "2                                                job  \n",
       "3                                             groovy  \n",
       "4  looking kit protect camera found good really n...  "
      ]
     },
     "execution_count": 2,
     "metadata": {},
     "output_type": "execute_result"
    }
   ],
   "source": [
    "full_train = pd.read_csv('./preprocess/processed_train/full_train_data.csv',sep = '\\t')\n",
    "full_train.head()"
   ]
  },
  {
   "cell_type": "code",
   "execution_count": 3,
   "metadata": {},
   "outputs": [
    {
     "data": {
      "text/html": [
       "<div>\n",
       "<style scoped>\n",
       "    .dataframe tbody tr th:only-of-type {\n",
       "        vertical-align: middle;\n",
       "    }\n",
       "\n",
       "    .dataframe tbody tr th {\n",
       "        vertical-align: top;\n",
       "    }\n",
       "\n",
       "    .dataframe thead th {\n",
       "        text-align: right;\n",
       "    }\n",
       "</style>\n",
       "<table border=\"1\" class=\"dataframe\">\n",
       "  <thead>\n",
       "    <tr style=\"text-align: right;\">\n",
       "      <th></th>\n",
       "      <th>Unnamed: 0</th>\n",
       "      <th>product_category</th>\n",
       "      <th>review_body</th>\n",
       "      <th>sentiment_actual</th>\n",
       "      <th>processed</th>\n",
       "    </tr>\n",
       "  </thead>\n",
       "  <tbody>\n",
       "    <tr>\n",
       "      <th>0</th>\n",
       "      <td>0</td>\n",
       "      <td>Camera</td>\n",
       "      <td>I've had this Fuji 2800 camera for about 1 mon...</td>\n",
       "      <td>pos</td>\n",
       "      <td>i'v fuji 2800 camera 1 month simpli love it to...</td>\n",
       "    </tr>\n",
       "    <tr>\n",
       "      <th>1</th>\n",
       "      <td>1</td>\n",
       "      <td>Camera</td>\n",
       "      <td>great camera .......&lt;br /&gt;works perfectly the ...</td>\n",
       "      <td>pos</td>\n",
       "      <td>great camera work perfect way want look awesom</td>\n",
       "    </tr>\n",
       "    <tr>\n",
       "      <th>2</th>\n",
       "      <td>2</td>\n",
       "      <td>Camera</td>\n",
       "      <td>I did quite a bit of shopping around before bu...</td>\n",
       "      <td>pos</td>\n",
       "      <td>quit bit shop around buy camera could not happ...</td>\n",
       "    </tr>\n",
       "    <tr>\n",
       "      <th>3</th>\n",
       "      <td>3</td>\n",
       "      <td>Camera</td>\n",
       "      <td>works</td>\n",
       "      <td>pos</td>\n",
       "      <td>work</td>\n",
       "    </tr>\n",
       "    <tr>\n",
       "      <th>4</th>\n",
       "      <td>4</td>\n",
       "      <td>Camera</td>\n",
       "      <td>This is a very simple clamp that works exactly...</td>\n",
       "      <td>pos</td>\n",
       "      <td>simpl clamp work exact should depend posit cla...</td>\n",
       "    </tr>\n",
       "  </tbody>\n",
       "</table>\n",
       "</div>"
      ],
      "text/plain": [
       "   Unnamed: 0 product_category  \\\n",
       "0           0           Camera   \n",
       "1           1           Camera   \n",
       "2           2           Camera   \n",
       "3           3           Camera   \n",
       "4           4           Camera   \n",
       "\n",
       "                                         review_body sentiment_actual  \\\n",
       "0  I've had this Fuji 2800 camera for about 1 mon...              pos   \n",
       "1  great camera .......<br />works perfectly the ...              pos   \n",
       "2  I did quite a bit of shopping around before bu...              pos   \n",
       "3                                              works              pos   \n",
       "4  This is a very simple clamp that works exactly...              pos   \n",
       "\n",
       "                                           processed  \n",
       "0  i'v fuji 2800 camera 1 month simpli love it to...  \n",
       "1     great camera work perfect way want look awesom  \n",
       "2  quit bit shop around buy camera could not happ...  \n",
       "3                                               work  \n",
       "4  simpl clamp work exact should depend posit cla...  "
      ]
     },
     "execution_count": 3,
     "metadata": {},
     "output_type": "execute_result"
    }
   ],
   "source": [
    "full_test = pd.read_csv('./preprocess/processed_test/full_test_data.csv',sep = '\\t')\n",
    "full_test.head()"
   ]
  },
  {
   "cell_type": "markdown",
   "metadata": {},
   "source": [
    "## Full train/test label and feature"
   ]
  },
  {
   "cell_type": "markdown",
   "metadata": {},
   "source": [
    "### Labels for train and test"
   ]
  },
  {
   "cell_type": "code",
   "execution_count": 4,
   "metadata": {},
   "outputs": [],
   "source": [
    "# Get labels\n",
    "full_train['sentiment_actual'] = full_train.sentiment_actual.map({'neg': 0, 'pos': 1})\n",
    "full_train_label = full_train['sentiment_actual']\n",
    "\n",
    "full_test['sentiment_actual'] = full_test.sentiment_actual.map({'neg': 0, 'pos': 1})\n",
    "full_test_label = full_test['sentiment_actual']"
   ]
  },
  {
   "cell_type": "code",
   "execution_count": 5,
   "metadata": {},
   "outputs": [
    {
     "data": {
      "text/html": [
       "<div>\n",
       "<style scoped>\n",
       "    .dataframe tbody tr th:only-of-type {\n",
       "        vertical-align: middle;\n",
       "    }\n",
       "\n",
       "    .dataframe tbody tr th {\n",
       "        vertical-align: top;\n",
       "    }\n",
       "\n",
       "    .dataframe thead th {\n",
       "        text-align: right;\n",
       "    }\n",
       "</style>\n",
       "<table border=\"1\" class=\"dataframe\">\n",
       "  <thead>\n",
       "    <tr style=\"text-align: right;\">\n",
       "      <th></th>\n",
       "      <th>Unnamed: 0</th>\n",
       "      <th>product_category</th>\n",
       "      <th>review_headline</th>\n",
       "      <th>review_body</th>\n",
       "      <th>sentiment_actual</th>\n",
       "      <th>processed</th>\n",
       "      <th>processed_light</th>\n",
       "    </tr>\n",
       "  </thead>\n",
       "  <tbody>\n",
       "    <tr>\n",
       "      <th>0</th>\n",
       "      <td>0</td>\n",
       "      <td>Camera</td>\n",
       "      <td>Very good in his class &amp; price tripod.</td>\n",
       "      <td>I am not a professional photographer. My Equip...</td>\n",
       "      <td>1</td>\n",
       "      <td>not profession photograph equip canon sx20 pai...</td>\n",
       "      <td>not professional photographer equipment canon ...</td>\n",
       "    </tr>\n",
       "    <tr>\n",
       "      <th>1</th>\n",
       "      <td>1</td>\n",
       "      <td>Camera</td>\n",
       "      <td>WOW</td>\n",
       "      <td>I spent a lot of time reviewing different lens...</td>\n",
       "      <td>1</td>\n",
       "      <td>spent lot time review differ lens rang skeptic...</td>\n",
       "      <td>spent lot time reviewing different lenses rang...</td>\n",
       "    </tr>\n",
       "    <tr>\n",
       "      <th>2</th>\n",
       "      <td>2</td>\n",
       "      <td>Camera</td>\n",
       "      <td>Four Stars</td>\n",
       "      <td>does the job</td>\n",
       "      <td>1</td>\n",
       "      <td>job</td>\n",
       "      <td>job</td>\n",
       "    </tr>\n",
       "    <tr>\n",
       "      <th>3</th>\n",
       "      <td>3</td>\n",
       "      <td>Camera</td>\n",
       "      <td>I love it</td>\n",
       "      <td>All groovy</td>\n",
       "      <td>1</td>\n",
       "      <td>groovi</td>\n",
       "      <td>groovy</td>\n",
       "    </tr>\n",
       "    <tr>\n",
       "      <th>4</th>\n",
       "      <td>4</td>\n",
       "      <td>Camera</td>\n",
       "      <td>UV filter</td>\n",
       "      <td>Was looking for a kit to protect my camera and...</td>\n",
       "      <td>1</td>\n",
       "      <td>look kit protect camera found good realli not ...</td>\n",
       "      <td>looking kit protect camera found good really n...</td>\n",
       "    </tr>\n",
       "  </tbody>\n",
       "</table>\n",
       "</div>"
      ],
      "text/plain": [
       "   Unnamed: 0 product_category                         review_headline  \\\n",
       "0           0           Camera  Very good in his class & price tripod.   \n",
       "1           1           Camera                                     WOW   \n",
       "2           2           Camera                              Four Stars   \n",
       "3           3           Camera                               I love it   \n",
       "4           4           Camera                               UV filter   \n",
       "\n",
       "                                         review_body  sentiment_actual  \\\n",
       "0  I am not a professional photographer. My Equip...                 1   \n",
       "1  I spent a lot of time reviewing different lens...                 1   \n",
       "2                                       does the job                 1   \n",
       "3                                         All groovy                 1   \n",
       "4  Was looking for a kit to protect my camera and...                 1   \n",
       "\n",
       "                                           processed  \\\n",
       "0  not profession photograph equip canon sx20 pai...   \n",
       "1  spent lot time review differ lens rang skeptic...   \n",
       "2                                                job   \n",
       "3                                             groovi   \n",
       "4  look kit protect camera found good realli not ...   \n",
       "\n",
       "                                     processed_light  \n",
       "0  not professional photographer equipment canon ...  \n",
       "1  spent lot time reviewing different lenses rang...  \n",
       "2                                                job  \n",
       "3                                             groovy  \n",
       "4  looking kit protect camera found good really n...  "
      ]
     },
     "execution_count": 5,
     "metadata": {},
     "output_type": "execute_result"
    }
   ],
   "source": [
    "camera_train = full_train.loc[full_train['product_category'] == \"Camera\"]\n",
    "camera_test = full_test.loc[full_test['product_category'] == \"Camera\"]\n",
    "camera_train.head()"
   ]
  },
  {
   "cell_type": "code",
   "execution_count": 6,
   "metadata": {},
   "outputs": [],
   "source": [
    "# Labels\n",
    "camera_train_label = camera_train['sentiment_actual']\n",
    "camera_test_label = camera_test['sentiment_actual']"
   ]
  },
  {
   "cell_type": "code",
   "execution_count": 7,
   "metadata": {},
   "outputs": [
    {
     "data": {
      "text/html": [
       "<div>\n",
       "<style scoped>\n",
       "    .dataframe tbody tr th:only-of-type {\n",
       "        vertical-align: middle;\n",
       "    }\n",
       "\n",
       "    .dataframe tbody tr th {\n",
       "        vertical-align: top;\n",
       "    }\n",
       "\n",
       "    .dataframe thead th {\n",
       "        text-align: right;\n",
       "    }\n",
       "</style>\n",
       "<table border=\"1\" class=\"dataframe\">\n",
       "  <thead>\n",
       "    <tr style=\"text-align: right;\">\n",
       "      <th></th>\n",
       "      <th>Unnamed: 0</th>\n",
       "      <th>product_category</th>\n",
       "      <th>review_headline</th>\n",
       "      <th>review_body</th>\n",
       "      <th>sentiment_actual</th>\n",
       "      <th>processed</th>\n",
       "      <th>processed_light</th>\n",
       "    </tr>\n",
       "  </thead>\n",
       "  <tbody>\n",
       "    <tr>\n",
       "      <th>100000</th>\n",
       "      <td>100000</td>\n",
       "      <td>Grocery</td>\n",
       "      <td>Better than most</td>\n",
       "      <td>If cooked al dente, doesn't come out gummy.  H...</td>\n",
       "      <td>1</td>\n",
       "      <td>cook al dent not come gummi fresh tast stand l...</td>\n",
       "      <td>cooked al dente not come gummy fresh taste sta...</td>\n",
       "    </tr>\n",
       "    <tr>\n",
       "      <th>100001</th>\n",
       "      <td>100001</td>\n",
       "      <td>Grocery</td>\n",
       "      <td>Good</td>\n",
       "      <td>Fun to have the pull tabs.  A friend who went ...</td>\n",
       "      <td>1</td>\n",
       "      <td>fun pull tab friend went australia recommend t...</td>\n",
       "      <td>fun pull tabs friend went australia recommende...</td>\n",
       "    </tr>\n",
       "    <tr>\n",
       "      <th>100002</th>\n",
       "      <td>100002</td>\n",
       "      <td>Grocery</td>\n",
       "      <td>Love it</td>\n",
       "      <td>I have bought this product before and love it....</td>\n",
       "      <td>1</td>\n",
       "      <td>bought product love it use tea everi day due s...</td>\n",
       "      <td>bought product love it use tea every day due s...</td>\n",
       "    </tr>\n",
       "    <tr>\n",
       "      <th>100003</th>\n",
       "      <td>100003</td>\n",
       "      <td>Grocery</td>\n",
       "      <td>Good for tea and more</td>\n",
       "      <td>Been buying this for a couple years. Really li...</td>\n",
       "      <td>1</td>\n",
       "      <td>buy coupl year realli like pure flavor without...</td>\n",
       "      <td>buying couple years really like pure flavor wi...</td>\n",
       "    </tr>\n",
       "    <tr>\n",
       "      <th>100004</th>\n",
       "      <td>100004</td>\n",
       "      <td>Grocery</td>\n",
       "      <td>excellant product</td>\n",
       "      <td>I purchaesd this item for myself. I love the t...</td>\n",
       "      <td>1</td>\n",
       "      <td>purchaesd item myself love tast creami textur ...</td>\n",
       "      <td>purchaesd item myself love taste creamy textur...</td>\n",
       "    </tr>\n",
       "  </tbody>\n",
       "</table>\n",
       "</div>"
      ],
      "text/plain": [
       "        Unnamed: 0 product_category        review_headline  \\\n",
       "100000      100000          Grocery       Better than most   \n",
       "100001      100001          Grocery                   Good   \n",
       "100002      100002          Grocery                Love it   \n",
       "100003      100003          Grocery  Good for tea and more   \n",
       "100004      100004          Grocery      excellant product   \n",
       "\n",
       "                                              review_body  sentiment_actual  \\\n",
       "100000  If cooked al dente, doesn't come out gummy.  H...                 1   \n",
       "100001  Fun to have the pull tabs.  A friend who went ...                 1   \n",
       "100002  I have bought this product before and love it....                 1   \n",
       "100003  Been buying this for a couple years. Really li...                 1   \n",
       "100004  I purchaesd this item for myself. I love the t...                 1   \n",
       "\n",
       "                                                processed  \\\n",
       "100000  cook al dent not come gummi fresh tast stand l...   \n",
       "100001  fun pull tab friend went australia recommend t...   \n",
       "100002  bought product love it use tea everi day due s...   \n",
       "100003  buy coupl year realli like pure flavor without...   \n",
       "100004  purchaesd item myself love tast creami textur ...   \n",
       "\n",
       "                                          processed_light  \n",
       "100000  cooked al dente not come gummy fresh taste sta...  \n",
       "100001  fun pull tabs friend went australia recommende...  \n",
       "100002  bought product love it use tea every day due s...  \n",
       "100003  buying couple years really like pure flavor wi...  \n",
       "100004  purchaesd item myself love taste creamy textur...  "
      ]
     },
     "execution_count": 7,
     "metadata": {},
     "output_type": "execute_result"
    }
   ],
   "source": [
    "grocery_train = full_train.loc[full_train['product_category'] == \"Grocery\"]\n",
    "grocery_test = full_test.loc[full_test['product_category'] == \"Grocery\"]\n",
    "grocery_train.head()"
   ]
  },
  {
   "cell_type": "code",
   "execution_count": 8,
   "metadata": {},
   "outputs": [],
   "source": [
    "# Labels\n",
    "grocery_train_label = grocery_train['sentiment_actual']\n",
    "grocery_test_label = grocery_test['sentiment_actual']"
   ]
  },
  {
   "cell_type": "code",
   "execution_count": 9,
   "metadata": {},
   "outputs": [
    {
     "data": {
      "text/html": [
       "<div>\n",
       "<style scoped>\n",
       "    .dataframe tbody tr th:only-of-type {\n",
       "        vertical-align: middle;\n",
       "    }\n",
       "\n",
       "    .dataframe tbody tr th {\n",
       "        vertical-align: top;\n",
       "    }\n",
       "\n",
       "    .dataframe thead th {\n",
       "        text-align: right;\n",
       "    }\n",
       "</style>\n",
       "<table border=\"1\" class=\"dataframe\">\n",
       "  <thead>\n",
       "    <tr style=\"text-align: right;\">\n",
       "      <th></th>\n",
       "      <th>Unnamed: 0</th>\n",
       "      <th>product_category</th>\n",
       "      <th>review_headline</th>\n",
       "      <th>review_body</th>\n",
       "      <th>sentiment_actual</th>\n",
       "      <th>processed</th>\n",
       "      <th>processed_light</th>\n",
       "    </tr>\n",
       "  </thead>\n",
       "  <tbody>\n",
       "    <tr>\n",
       "      <th>200000</th>\n",
       "      <td>200000</td>\n",
       "      <td>Watches</td>\n",
       "      <td>This watch looks nice and feels nice</td>\n",
       "      <td>This watch looks nice and feels nice, you get ...</td>\n",
       "      <td>1</td>\n",
       "      <td>watch look nice feel nice get money worth not ...</td>\n",
       "      <td>watch looks nice feels nice get money's worth ...</td>\n",
       "    </tr>\n",
       "    <tr>\n",
       "      <th>200001</th>\n",
       "      <td>200001</td>\n",
       "      <td>Watches</td>\n",
       "      <td>All black version is awesome!</td>\n",
       "      <td>Super fast delivery, from japan to Australia o...</td>\n",
       "      <td>1</td>\n",
       "      <td>super fast deliveri japan australia took 3 day...</td>\n",
       "      <td>super fast delivery japan australia took 3 day...</td>\n",
       "    </tr>\n",
       "    <tr>\n",
       "      <th>200002</th>\n",
       "      <td>200002</td>\n",
       "      <td>Watches</td>\n",
       "      <td>This is a very nice watch. The only problem is...</td>\n",
       "      <td>This is a very nice watch.  The only problem i...</td>\n",
       "      <td>1</td>\n",
       "      <td>nice watch problem not last long white start r...</td>\n",
       "      <td>nice watch problem not last long white starts ...</td>\n",
       "    </tr>\n",
       "    <tr>\n",
       "      <th>200003</th>\n",
       "      <td>200003</td>\n",
       "      <td>Watches</td>\n",
       "      <td>I Love It</td>\n",
       "      <td>I love my watch, although it looks heavy it is...</td>\n",
       "      <td>1</td>\n",
       "      <td>love watch although look heavi not there heavi...</td>\n",
       "      <td>love watch although looks heavy not there's he...</td>\n",
       "    </tr>\n",
       "    <tr>\n",
       "      <th>200004</th>\n",
       "      <td>200004</td>\n",
       "      <td>Watches</td>\n",
       "      <td>Nice but the date is way to small for the watch.</td>\n",
       "      <td>Its a shame this beautiful watch, has the flaw...</td>\n",
       "      <td>1</td>\n",
       "      <td>shame beauti watch flaw small date window nice...</td>\n",
       "      <td>shame beautiful watch flaw small date window n...</td>\n",
       "    </tr>\n",
       "  </tbody>\n",
       "</table>\n",
       "</div>"
      ],
      "text/plain": [
       "        Unnamed: 0 product_category  \\\n",
       "200000      200000          Watches   \n",
       "200001      200001          Watches   \n",
       "200002      200002          Watches   \n",
       "200003      200003          Watches   \n",
       "200004      200004          Watches   \n",
       "\n",
       "                                          review_headline  \\\n",
       "200000               This watch looks nice and feels nice   \n",
       "200001                      All black version is awesome!   \n",
       "200002  This is a very nice watch. The only problem is...   \n",
       "200003                                          I Love It   \n",
       "200004   Nice but the date is way to small for the watch.   \n",
       "\n",
       "                                              review_body  sentiment_actual  \\\n",
       "200000  This watch looks nice and feels nice, you get ...                 1   \n",
       "200001  Super fast delivery, from japan to Australia o...                 1   \n",
       "200002  This is a very nice watch.  The only problem i...                 1   \n",
       "200003  I love my watch, although it looks heavy it is...                 1   \n",
       "200004  Its a shame this beautiful watch, has the flaw...                 1   \n",
       "\n",
       "                                                processed  \\\n",
       "200000  watch look nice feel nice get money worth not ...   \n",
       "200001  super fast deliveri japan australia took 3 day...   \n",
       "200002  nice watch problem not last long white start r...   \n",
       "200003  love watch although look heavi not there heavi...   \n",
       "200004  shame beauti watch flaw small date window nice...   \n",
       "\n",
       "                                          processed_light  \n",
       "200000  watch looks nice feels nice get money's worth ...  \n",
       "200001  super fast delivery japan australia took 3 day...  \n",
       "200002  nice watch problem not last long white starts ...  \n",
       "200003  love watch although looks heavy not there's he...  \n",
       "200004  shame beautiful watch flaw small date window n...  "
      ]
     },
     "execution_count": 9,
     "metadata": {},
     "output_type": "execute_result"
    }
   ],
   "source": [
    "watches_train = full_train.loc[full_train['product_category'] == \"Watches\"]\n",
    "watches_test = full_test.loc[full_test['product_category'] == \"Watches\"]\n",
    "watches_train.head()"
   ]
  },
  {
   "cell_type": "code",
   "execution_count": 10,
   "metadata": {},
   "outputs": [],
   "source": [
    "# Labels\n",
    "watches_train_label = watches_train['sentiment_actual']\n",
    "watches_test_label = watches_test['sentiment_actual']"
   ]
  },
  {
   "cell_type": "code",
   "execution_count": 11,
   "metadata": {},
   "outputs": [
    {
     "data": {
      "text/html": [
       "<div>\n",
       "<style scoped>\n",
       "    .dataframe tbody tr th:only-of-type {\n",
       "        vertical-align: middle;\n",
       "    }\n",
       "\n",
       "    .dataframe tbody tr th {\n",
       "        vertical-align: top;\n",
       "    }\n",
       "\n",
       "    .dataframe thead th {\n",
       "        text-align: right;\n",
       "    }\n",
       "</style>\n",
       "<table border=\"1\" class=\"dataframe\">\n",
       "  <thead>\n",
       "    <tr style=\"text-align: right;\">\n",
       "      <th></th>\n",
       "      <th>Unnamed: 0</th>\n",
       "      <th>product_category</th>\n",
       "      <th>review_headline</th>\n",
       "      <th>review_body</th>\n",
       "      <th>sentiment_actual</th>\n",
       "      <th>processed</th>\n",
       "      <th>processed_light</th>\n",
       "    </tr>\n",
       "  </thead>\n",
       "  <tbody>\n",
       "    <tr>\n",
       "      <th>300000</th>\n",
       "      <td>300000</td>\n",
       "      <td>Video Games</td>\n",
       "      <td>Five Stars</td>\n",
       "      <td>Item was delivered as specified and in same qu...</td>\n",
       "      <td>1</td>\n",
       "      <td>item deliv specifi qualiti list onlin</td>\n",
       "      <td>item delivered specified quality listed online</td>\n",
       "    </tr>\n",
       "    <tr>\n",
       "      <th>300001</th>\n",
       "      <td>300001</td>\n",
       "      <td>Video Games</td>\n",
       "      <td>Good buy</td>\n",
       "      <td>My son loved this game, it was just what he wa...</td>\n",
       "      <td>1</td>\n",
       "      <td>son love game want christma happi excit reciev...</td>\n",
       "      <td>son loved game wanted christmas happy excited ...</td>\n",
       "    </tr>\n",
       "    <tr>\n",
       "      <th>300002</th>\n",
       "      <td>300002</td>\n",
       "      <td>Video Games</td>\n",
       "      <td>Very pleased</td>\n",
       "      <td>Case had adhesive residue on it, but was easil...</td>\n",
       "      <td>1</td>\n",
       "      <td>case adhes residu it easili remov happi came c...</td>\n",
       "      <td>case adhesive residue it easily removed happy ...</td>\n",
       "    </tr>\n",
       "    <tr>\n",
       "      <th>300003</th>\n",
       "      <td>300003</td>\n",
       "      <td>Video Games</td>\n",
       "      <td>I'am good</td>\n",
       "      <td>I have got my file and found that I've got an ...</td>\n",
       "      <td>1</td>\n",
       "      <td>got file found i'v got esitm 14000 kill game k...</td>\n",
       "      <td>got file found i've got esitmate 14000 kills g...</td>\n",
       "    </tr>\n",
       "    <tr>\n",
       "      <th>300004</th>\n",
       "      <td>300004</td>\n",
       "      <td>Video Games</td>\n",
       "      <td>great</td>\n",
       "      <td>Comfortable, Attractive, Accurate, totally cus...</td>\n",
       "      <td>1</td>\n",
       "      <td>comfort attract accur total customiz dpi chang...</td>\n",
       "      <td>comfortable attractive accurate totally custom...</td>\n",
       "    </tr>\n",
       "  </tbody>\n",
       "</table>\n",
       "</div>"
      ],
      "text/plain": [
       "        Unnamed: 0 product_category review_headline  \\\n",
       "300000      300000      Video Games      Five Stars   \n",
       "300001      300001      Video Games        Good buy   \n",
       "300002      300002      Video Games    Very pleased   \n",
       "300003      300003      Video Games       I'am good   \n",
       "300004      300004      Video Games           great   \n",
       "\n",
       "                                              review_body  sentiment_actual  \\\n",
       "300000  Item was delivered as specified and in same qu...                 1   \n",
       "300001  My son loved this game, it was just what he wa...                 1   \n",
       "300002  Case had adhesive residue on it, but was easil...                 1   \n",
       "300003  I have got my file and found that I've got an ...                 1   \n",
       "300004  Comfortable, Attractive, Accurate, totally cus...                 1   \n",
       "\n",
       "                                                processed  \\\n",
       "300000              item deliv specifi qualiti list onlin   \n",
       "300001  son love game want christma happi excit reciev...   \n",
       "300002  case adhes residu it easili remov happi came c...   \n",
       "300003  got file found i'v got esitm 14000 kill game k...   \n",
       "300004  comfort attract accur total customiz dpi chang...   \n",
       "\n",
       "                                          processed_light  \n",
       "300000     item delivered specified quality listed online  \n",
       "300001  son loved game wanted christmas happy excited ...  \n",
       "300002  case adhesive residue it easily removed happy ...  \n",
       "300003  got file found i've got esitmate 14000 kills g...  \n",
       "300004  comfortable attractive accurate totally custom...  "
      ]
     },
     "execution_count": 11,
     "metadata": {},
     "output_type": "execute_result"
    }
   ],
   "source": [
    "videogames_train = full_train.loc[full_train['product_category'] == \"Video Games\"]\n",
    "videogames_test = full_test.loc[full_test['product_category'] == \"Video Games\"]\n",
    "videogames_train.head()"
   ]
  },
  {
   "cell_type": "code",
   "execution_count": 12,
   "metadata": {},
   "outputs": [],
   "source": [
    "# Labels\n",
    "videogames_train_label = videogames_train['sentiment_actual']\n",
    "videogames_test_label = videogames_test['sentiment_actual']"
   ]
  },
  {
   "cell_type": "markdown",
   "metadata": {},
   "source": [
    "### Features for train and test\n",
    "Vectorize using bag of words"
   ]
  },
  {
   "cell_type": "code",
   "execution_count": 13,
   "metadata": {},
   "outputs": [],
   "source": [
    "# Get processed texts\n",
    "train_texts = full_train['processed'].astype('U')\n",
    "test_texts = full_test['processed'].astype('U')\n",
    "\n",
    "camera_train_texts = camera_train['processed'].astype('U')\n",
    "camera_test_texts = camera_test['processed'].astype('U')\n",
    "\n",
    "grocery_train_texts = grocery_train['processed'].astype('U')\n",
    "grocery_test_texts = grocery_test['processed'].astype('U')\n",
    "\n",
    "watches_train_texts = watches_train['processed'].astype('U')\n",
    "watches_test_texts = watches_test['processed'].astype('U')\n",
    "\n",
    "videogames_train_texts = videogames_train['processed'].astype('U')\n",
    "videogames_test_texts = videogames_test['processed'].astype('U')\n",
    "\n",
    "# count vectorize\n",
    "count_vect = CountVectorizer()\n",
    "\n",
    "train_counts = count_vect.fit_transform(train_texts)\n",
    "test_counts = count_vect.transform(test_texts)\n",
    "\n",
    "camera_train_counts = count_vect.transform(camera_train_texts)\n",
    "camera_test_counts = count_vect.transform(camera_test_texts)\n",
    "\n",
    "grocery_train_counts = count_vect.transform(grocery_train_texts)\n",
    "grocery_test_counts = count_vect.transform(grocery_test_texts)\n",
    "\n",
    "watches_train_counts = count_vect.transform(watches_train_texts)\n",
    "watches_test_counts = count_vect.transform(watches_test_texts)\n",
    "\n",
    "videogames_train_counts = count_vect.transform(videogames_train_texts)\n",
    "videogames_test_counts = count_vect.transform(videogames_test_texts)\n",
    "\n",
    "# Transform with tfidf\n",
    "transformer = TfidfTransformer()\n",
    "\n",
    "transformer = transformer.fit(train_counts)\n",
    "transformer = transformer.fit(test_counts)\n",
    "\n",
    "transformer = transformer.fit(camera_train_counts)\n",
    "transformer = transformer.fit(camera_test_counts)\n",
    "\n",
    "transformer = transformer.fit(grocery_train_counts)\n",
    "transformer = transformer.fit(grocery_test_counts)\n",
    "\n",
    "transformer = transformer.fit(watches_train_counts)\n",
    "transformer = transformer.fit(watches_test_counts)\n",
    "\n",
    "transformer = transformer.fit(videogames_train_counts)\n",
    "transformer = transformer.fit(videogames_test_counts)\n",
    "\n",
    "# Get features\n",
    "train_features = transformer.transform(train_counts)\n",
    "test_features = transformer.transform(test_counts)\n",
    "\n",
    "camera_train_features = transformer.transform(camera_train_counts)\n",
    "camera_test_features = transformer.transform(camera_test_counts)\n",
    "\n",
    "grocery_train_features = transformer.transform(grocery_train_counts)\n",
    "grocery_test_features = transformer.transform(grocery_test_counts)\n",
    "\n",
    "watches_train_features = transformer.transform(watches_train_counts)\n",
    "watches_test_features = transformer.transform(watches_test_counts)\n",
    "\n",
    "videogames_train_features = transformer.transform(videogames_train_counts)\n",
    "videogames_test_features = transformer.transform(videogames_test_counts)"
   ]
  },
  {
   "cell_type": "code",
   "execution_count": 14,
   "metadata": {},
   "outputs": [
    {
     "name": "stdout",
     "output_type": "stream",
     "text": [
      "400000\n",
      "400000\n",
      "79838\n",
      "79838\n"
     ]
    }
   ],
   "source": [
    "print(train_features.shape[0])\n",
    "print(full_train_label.shape[0])\n",
    "print(test_features.shape[0])\n",
    "print(full_test_label.shape[0])"
   ]
  },
  {
   "cell_type": "code",
   "execution_count": 15,
   "metadata": {},
   "outputs": [
    {
     "name": "stdout",
     "output_type": "stream",
     "text": [
      "100000\n",
      "100000\n",
      "100000\n",
      "100000\n",
      "19914\n",
      "20136\n",
      "20266\n",
      "19522\n"
     ]
    }
   ],
   "source": [
    "print(camera_train_features.shape[0])\n",
    "print(grocery_train_features.shape[0])\n",
    "print(watches_train_features.shape[0])\n",
    "print(videogames_train_features.shape[0])\n",
    "\n",
    "print(camera_test_features.shape[0])\n",
    "print(grocery_test_features.shape[0])\n",
    "print(watches_test_features.shape[0])\n",
    "print(videogames_test_features.shape[0])"
   ]
  },
  {
   "cell_type": "markdown",
   "metadata": {},
   "source": [
    "## Binary Classification"
   ]
  },
  {
   "cell_type": "code",
   "execution_count": 16,
   "metadata": {},
   "outputs": [],
   "source": [
    "def eval(name, y_gold, y_pred, verbose=1, setting='macro'):\n",
    "    '''Yield metrics accuracy, precision, recall and f1-score'''\n",
    "    eval_measures = precision_recall_fscore_support(y_gold, y_pred, average=setting)\n",
    "    \n",
    "    if verbose==1:\n",
    "        print(\"{} acc: {:4f} prec: {:4f} rec: {:4f} f1: {:4f}\".format(\n",
    "        name, accuracy_score(y_gold, y_pred), eval_measures[0], eval_measures[1], eval_measures[2]))       \n",
    "    return eval_measures"
   ]
  },
  {
   "cell_type": "code",
   "execution_count": 17,
   "metadata": {},
   "outputs": [],
   "source": [
    "# For plotting confusion matrix\n",
    "def plot_confusion_matrix(cm, classes,\n",
    "                          normalize=False,\n",
    "                          title='Confusion matrix',\n",
    "                          cmap=plt.cm.Blues):\n",
    "\n",
    "    if normalize:\n",
    "        cm = cm.astype('float') / cm.sum(axis=1)[:, np.newaxis]\n",
    "\n",
    "    plt.imshow(cm, interpolation='nearest', cmap=cmap)\n",
    "    plt.title(title)\n",
    "    plt.colorbar()\n",
    "    tick_marks = np.arange(len(classes))\n",
    "    plt.xticks(tick_marks, classes, rotation=45)\n",
    "    plt.yticks(tick_marks, classes)\n",
    "\n",
    "    fmt = '.2f' if normalize else 'd'\n",
    "    thresh = cm.max() / 2.\n",
    "    for i, j in itertools.product(range(cm.shape[0]), range(cm.shape[1])):\n",
    "        plt.text(j, i, format(cm[i, j], fmt),\n",
    "                 horizontalalignment=\"center\",\n",
    "                 color=\"white\" if cm[i, j] > thresh else \"black\")\n",
    "\n",
    "    plt.tight_layout()\n",
    "    plt.ylabel('Predicted label')\n",
    "    plt.xlabel('True label')"
   ]
  },
  {
   "cell_type": "markdown",
   "metadata": {},
   "source": [
    "### Naive bayes"
   ]
  },
  {
   "cell_type": "code",
   "execution_count": 18,
   "metadata": {},
   "outputs": [],
   "source": [
    "naivebayes = MultinomialNB()\n",
    "naivebayes.fit(train_features, full_train_label)\n",
    "predict_nb = naivebayes.predict(test_features)"
   ]
  },
  {
   "cell_type": "code",
   "execution_count": 19,
   "metadata": {},
   "outputs": [
    {
     "data": {
      "image/png": "[encoded data removed]",
      "text/plain": [
       "<Figure size 432x288 with 2 Axes>"
      ]
     },
     "metadata": {
      "needs_background": "light"
     },
     "output_type": "display_data"
    }
   ],
   "source": [
    "cm_nb = confusion_matrix(full_test_label,predict_nb)\n",
    "plot_confusion_matrix(cm_nb, classes=naivebayes.classes_.tolist(),\n",
    "                      title='Naive Bayes(Full train, full test)')\n",
    "# plt.show()\n",
    "plt.savefig('./plots/full_full_nb.png')"
   ]
  },
  {
   "cell_type": "code",
   "execution_count": 20,
   "metadata": {
    "scrolled": false
   },
   "outputs": [
    {
     "name": "stdout",
     "output_type": "stream",
     "text": [
      "Naive Bayes acc: 0.842995 prec: 0.739344 rec: 0.849266 f1: 0.769886\n"
     ]
    }
   ],
   "source": [
    "full_full_eval_nb = eval(\"Naive Bayes\", full_test_label, predict_nb)"
   ]
  },
  {
   "cell_type": "markdown",
   "metadata": {},
   "source": [
    "#### Test on camera"
   ]
  },
  {
   "cell_type": "code",
   "execution_count": 21,
   "metadata": {},
   "outputs": [],
   "source": [
    "camera_predict_nb = naivebayes.predict(camera_test_features)"
   ]
  },
  {
   "cell_type": "code",
   "execution_count": 22,
   "metadata": {},
   "outputs": [
    {
     "data": {
      "image/png": "[encoded data removed]",
      "text/plain": [
       "<Figure size 432x288 with 2 Axes>"
      ]
     },
     "metadata": {
      "needs_background": "light"
     },
     "output_type": "display_data"
    }
   ],
   "source": [
    "cm_nb = confusion_matrix(camera_test_label,camera_predict_nb)\n",
    "plot_confusion_matrix(cm_nb, classes=naivebayes.classes_.tolist(),\n",
    "                      title='Naive Bayes(Full train, camera test)')\n",
    "plt.savefig('./plots/full_camera_nb.png')"
   ]
  },
  {
   "cell_type": "code",
   "execution_count": 23,
   "metadata": {},
   "outputs": [
    {
     "name": "stdout",
     "output_type": "stream",
     "text": [
      "Naive Bayes acc: 0.825148 prec: 0.723967 rec: 0.854609 f1: 0.752214\n"
     ]
    }
   ],
   "source": [
    "full_camera_eval_nb = eval(\"Naive Bayes\", camera_test_label, camera_predict_nb)"
   ]
  },
  {
   "cell_type": "markdown",
   "metadata": {},
   "source": [
    "#### Test on grocery"
   ]
  },
  {
   "cell_type": "code",
   "execution_count": 24,
   "metadata": {},
   "outputs": [],
   "source": [
    "grocery_predict_nb = naivebayes.predict(grocery_test_features)"
   ]
  },
  {
   "cell_type": "code",
   "execution_count": 25,
   "metadata": {},
   "outputs": [
    {
     "data": {
      "image/png": "[encoded data removed]",
      "text/plain": [
       "<Figure size 432x288 with 2 Axes>"
      ]
     },
     "metadata": {
      "needs_background": "light"
     },
     "output_type": "display_data"
    }
   ],
   "source": [
    "cm_nb = confusion_matrix(grocery_test_label,grocery_predict_nb)\n",
    "plot_confusion_matrix(cm_nb, classes=naivebayes.classes_.tolist(),\n",
    "                      title='Naive Bayes(Full train, grocery test)')\n",
    "plt.savefig('./plots/full_grocery_nb.png')"
   ]
  },
  {
   "cell_type": "code",
   "execution_count": 26,
   "metadata": {},
   "outputs": [
    {
     "name": "stdout",
     "output_type": "stream",
     "text": [
      "Naive Bayes acc: 0.850020 prec: 0.729260 rec: 0.802216 f1: 0.755148\n"
     ]
    }
   ],
   "source": [
    "full_grocery_eval_nb = eval(\"Naive Bayes\", grocery_test_label, grocery_predict_nb)"
   ]
  },
  {
   "cell_type": "markdown",
   "metadata": {},
   "source": [
    "#### Test on watches"
   ]
  },
  {
   "cell_type": "code",
   "execution_count": 27,
   "metadata": {},
   "outputs": [],
   "source": [
    "watches_predict_nb = naivebayes.predict(watches_test_features)"
   ]
  },
  {
   "cell_type": "code",
   "execution_count": 28,
   "metadata": {},
   "outputs": [
    {
     "data": {
      "image/png": "[encoded data removed]",
      "text/plain": [
       "<Figure size 432x288 with 2 Axes>"
      ]
     },
     "metadata": {
      "needs_background": "light"
     },
     "output_type": "display_data"
    }
   ],
   "source": [
    "cm_nb = confusion_matrix(watches_test_label,watches_predict_nb)\n",
    "plot_confusion_matrix(cm_nb, classes=naivebayes.classes_.tolist(),\n",
    "                      title='Naive Bayes(Full train, watches test)')\n",
    "plt.savefig('./plots/full_watches_nb.png')"
   ]
  },
  {
   "cell_type": "code",
   "execution_count": 29,
   "metadata": {},
   "outputs": [
    {
     "name": "stdout",
     "output_type": "stream",
     "text": [
      "Naive Bayes acc: 0.881674 prec: 0.780106 rec: 0.883060 f1: 0.814971\n"
     ]
    }
   ],
   "source": [
    "full_watches_eval_nb = eval(\"Naive Bayes\", watches_test_label, watches_predict_nb)"
   ]
  },
  {
   "cell_type": "markdown",
   "metadata": {},
   "source": [
    "#### Test on videogames"
   ]
  },
  {
   "cell_type": "code",
   "execution_count": 30,
   "metadata": {},
   "outputs": [],
   "source": [
    "videogames_predict_nb = naivebayes.predict(videogames_test_features)"
   ]
  },
  {
   "cell_type": "code",
   "execution_count": 31,
   "metadata": {},
   "outputs": [
    {
     "data": {
      "image/png": "[encoded data removed]",
      "text/plain": [
       "<Figure size 432x288 with 2 Axes>"
      ]
     },
     "metadata": {
      "needs_background": "light"
     },
     "output_type": "display_data"
    }
   ],
   "source": [
    "cm_nb = confusion_matrix(videogames_test_label,videogames_predict_nb)\n",
    "plot_confusion_matrix(cm_nb, classes=naivebayes.classes_.tolist(),\n",
    "                      title='Naive Bayes(Full train, videogames test)')\n",
    "plt.savefig('./plots/full_videogames_nb.png')"
   ]
  },
  {
   "cell_type": "code",
   "execution_count": 32,
   "metadata": {},
   "outputs": [
    {
     "name": "stdout",
     "output_type": "stream",
     "text": [
      "Naive Bayes acc: 0.813800 prec: 0.733132 rec: 0.851882 f1: 0.756104\n"
     ]
    }
   ],
   "source": [
    "full_videogames_eval_nb = eval(\"Naive Bayes\", videogames_test_label, videogames_predict_nb)"
   ]
  },
  {
   "cell_type": "markdown",
   "metadata": {},
   "source": [
    "### Logistic regression"
   ]
  },
  {
   "cell_type": "code",
   "execution_count": 33,
   "metadata": {},
   "outputs": [],
   "source": [
    "logregression = LogisticRegression()\n",
    "logregression.fit(train_features, full_train_label)\n",
    "predict_lr = logregression.predict(test_features)"
   ]
  },
  {
   "cell_type": "code",
   "execution_count": 34,
   "metadata": {},
   "outputs": [
    {
     "data": {
      "image/png": "[encoded data removed]",
      "text/plain": [
       "<Figure size 432x288 with 2 Axes>"
      ]
     },
     "metadata": {
      "needs_background": "light"
     },
     "output_type": "display_data"
    }
   ],
   "source": [
    "cm_lr = confusion_matrix(full_test_label,predict_lr)\n",
    "plot_confusion_matrix(cm_lr, classes=logregression.classes_.tolist(),\n",
    "                      title='Logistic Regression(Full train, full test)')\n",
    "plt.savefig('./plots/full_full_lr.png')"
   ]
  },
  {
   "cell_type": "code",
   "execution_count": 35,
   "metadata": {},
   "outputs": [
    {
     "name": "stdout",
     "output_type": "stream",
     "text": [
      "Logistic Regression acc: 0.894774 prec: 0.800089 rec: 0.888313 f1: 0.832783\n"
     ]
    }
   ],
   "source": [
    "full_full_eval_lr = eval(\"Logistic Regression\", full_test_label, predict_lr)"
   ]
  },
  {
   "cell_type": "markdown",
   "metadata": {},
   "source": [
    "#### Test on camera"
   ]
  },
  {
   "cell_type": "code",
   "execution_count": 36,
   "metadata": {},
   "outputs": [],
   "source": [
    "camera_predict_lr = logregression.predict(camera_test_features)"
   ]
  },
  {
   "cell_type": "code",
   "execution_count": 37,
   "metadata": {},
   "outputs": [
    {
     "data": {
      "image/png": "[encoded data removed]",
      "text/plain": [
       "<Figure size 432x288 with 2 Axes>"
      ]
     },
     "metadata": {
      "needs_background": "light"
     },
     "output_type": "display_data"
    }
   ],
   "source": [
    "cm_lr = confusion_matrix(camera_test_label,camera_predict_lr)\n",
    "plot_confusion_matrix(cm_lr, classes=logregression.classes_.tolist(),\n",
    "                      title='Logistic regression(Full train, camera test)')\n",
    "plt.savefig('./plots/full_camera_lr.png')"
   ]
  },
  {
   "cell_type": "code",
   "execution_count": 38,
   "metadata": {
    "scrolled": true
   },
   "outputs": [
    {
     "name": "stdout",
     "output_type": "stream",
     "text": [
      "Logistic Regerssion acc: 0.901828 prec: 0.806006 rec: 0.904651 f1: 0.841892\n"
     ]
    }
   ],
   "source": [
    "full_camera_eval_lr = eval(\"Logistic Regerssion\", camera_test_label, camera_predict_lr)"
   ]
  },
  {
   "cell_type": "markdown",
   "metadata": {},
   "source": [
    "#### Test on grocery"
   ]
  },
  {
   "cell_type": "code",
   "execution_count": 39,
   "metadata": {},
   "outputs": [],
   "source": [
    "grocery_predict_lr = logregression.predict(grocery_test_features)"
   ]
  },
  {
   "cell_type": "code",
   "execution_count": 40,
   "metadata": {},
   "outputs": [
    {
     "data": {
      "image/png": "[encoded data removed]",
      "text/plain": [
       "<Figure size 432x288 with 2 Axes>"
      ]
     },
     "metadata": {
      "needs_background": "light"
     },
     "output_type": "display_data"
    }
   ],
   "source": [
    "cm_lr = confusion_matrix(grocery_test_label,grocery_predict_lr)\n",
    "plot_confusion_matrix(cm_lr, classes=logregression.classes_.tolist(),\n",
    "                      title='Logistic regression(Full train, grocery test)')\n",
    "plt.savefig('./plots/full_grocery_lr.png')"
   ]
  },
  {
   "cell_type": "code",
   "execution_count": 41,
   "metadata": {},
   "outputs": [
    {
     "name": "stdout",
     "output_type": "stream",
     "text": [
      "Logistic Regerssion acc: 0.873808 prec: 0.762649 rec: 0.838229 f1: 0.790949\n"
     ]
    }
   ],
   "source": [
    "full_grocery_eval_lr = eval(\"Logistic Regerssion\", grocery_test_label, grocery_predict_lr)"
   ]
  },
  {
   "cell_type": "markdown",
   "metadata": {},
   "source": [
    "#### Test on watches"
   ]
  },
  {
   "cell_type": "code",
   "execution_count": 42,
   "metadata": {},
   "outputs": [],
   "source": [
    "watches_predict_lr = logregression.predict(watches_test_features)"
   ]
  },
  {
   "cell_type": "code",
   "execution_count": 43,
   "metadata": {},
   "outputs": [
    {
     "data": {
      "image/png": "[encoded data removed]",
      "text/plain": [
       "<Figure size 432x288 with 2 Axes>"
      ]
     },
     "metadata": {
      "needs_background": "light"
     },
     "output_type": "display_data"
    }
   ],
   "source": [
    "cm_lr = confusion_matrix(watches_test_label,watches_predict_lr)\n",
    "plot_confusion_matrix(cm_lr, classes=logregression.classes_.tolist(),\n",
    "                      title='Logistic regression(Full train, watches test)')\n",
    "plt.savefig('./plots/full_watches_lr.png')"
   ]
  },
  {
   "cell_type": "code",
   "execution_count": 44,
   "metadata": {},
   "outputs": [
    {
     "name": "stdout",
     "output_type": "stream",
     "text": [
      "Logistic Regerssion acc: 0.913550 prec: 0.824309 rec: 0.914100 f1: 0.858764\n"
     ]
    }
   ],
   "source": [
    "full_watches_eval_lr = eval(\"Logistic Regerssion\", watches_test_label, watches_predict_lr)"
   ]
  },
  {
   "cell_type": "markdown",
   "metadata": {},
   "source": [
    "#### Test on video games"
   ]
  },
  {
   "cell_type": "code",
   "execution_count": 45,
   "metadata": {},
   "outputs": [],
   "source": [
    "videogames_predict_lr = logregression.predict(videogames_test_features)"
   ]
  },
  {
   "cell_type": "code",
   "execution_count": 46,
   "metadata": {},
   "outputs": [
    {
     "data": {
      "image/png": "[encoded data removed]",
      "text/plain": [
       "<Figure size 432x288 with 2 Axes>"
      ]
     },
     "metadata": {
      "needs_background": "light"
     },
     "output_type": "display_data"
    }
   ],
   "source": [
    "cm_lr = confusion_matrix(videogames_test_label,videogames_predict_lr)\n",
    "plot_confusion_matrix(cm_lr, classes=logregression.classes_.tolist(),\n",
    "                      title='Logistic regression(Full train, videogames test)')\n",
    "plt.savefig('./plots/full_videogames_lr.png')"
   ]
  },
  {
   "cell_type": "code",
   "execution_count": 47,
   "metadata": {},
   "outputs": [
    {
     "name": "stdout",
     "output_type": "stream",
     "text": [
      "Logistic Regerssion acc: 0.889714 prec: 0.806239 rec: 0.894032 f1: 0.837709\n"
     ]
    }
   ],
   "source": [
    "full_videogames_eval_lr = eval(\"Logistic Regerssion\", videogames_test_label, videogames_predict_lr)"
   ]
  },
  {
   "cell_type": "markdown",
   "metadata": {},
   "source": [
    "## Individual class"
   ]
  },
  {
   "cell_type": "markdown",
   "metadata": {},
   "source": [
    "### Camera"
   ]
  },
  {
   "cell_type": "markdown",
   "metadata": {},
   "source": [
    "#### Naive Bayes"
   ]
  },
  {
   "cell_type": "code",
   "execution_count": 48,
   "metadata": {},
   "outputs": [],
   "source": [
    "# Naive Bayes\n",
    "naivebayes = MultinomialNB()\n",
    "naivebayes.fit(camera_train_features, camera_train_label)\n",
    "camera_predict_nb = naivebayes.predict(camera_test_features)"
   ]
  },
  {
   "cell_type": "code",
   "execution_count": 49,
   "metadata": {},
   "outputs": [
    {
     "data": {
      "image/png": "[encoded data removed]",
      "text/plain": [
       "<Figure size 432x288 with 2 Axes>"
      ]
     },
     "metadata": {
      "needs_background": "light"
     },
     "output_type": "display_data"
    }
   ],
   "source": [
    "cm_nb = confusion_matrix(camera_test_label,camera_predict_nb)\n",
    "plot_confusion_matrix(cm_nb, classes=naivebayes.classes_.tolist(),\n",
    "                      title='Naive Bayes(Camera train, Camera test)')\n",
    "plt.savefig('./plots/camera_camera_nb.png')"
   ]
  },
  {
   "cell_type": "code",
   "execution_count": 50,
   "metadata": {},
   "outputs": [
    {
     "name": "stdout",
     "output_type": "stream",
     "text": [
      "Naive Bayes acc: 0.834237 prec: 0.730242 rec: 0.855593 f1: 0.760436\n"
     ]
    }
   ],
   "source": [
    "camera_camera_eval_nb = eval(\"Naive Bayes\", camera_test_label, camera_predict_nb)"
   ]
  },
  {
   "cell_type": "markdown",
   "metadata": {},
   "source": [
    "#### Logistic Regression"
   ]
  },
  {
   "cell_type": "code",
   "execution_count": 51,
   "metadata": {},
   "outputs": [],
   "source": [
    "# Logistic regression\n",
    "logregression = LogisticRegression()\n",
    "logregression.fit(camera_train_features, camera_train_label)\n",
    "camera_predict_lr = logregression.predict(camera_test_features)"
   ]
  },
  {
   "cell_type": "code",
   "execution_count": 52,
   "metadata": {},
   "outputs": [
    {
     "data": {
      "image/png": "[encoded data removed]",
      "text/plain": [
       "<Figure size 432x288 with 2 Axes>"
      ]
     },
     "metadata": {
      "needs_background": "light"
     },
     "output_type": "display_data"
    }
   ],
   "source": [
    "cm_lr = confusion_matrix(camera_test_label,camera_predict_lr)\n",
    "plot_confusion_matrix(cm_lr, classes=logregression.classes_.tolist(),\n",
    "                      title='Logistic Regression(Camera train, camera test)')\n",
    "plt.savefig('./plots/camera_camera_lr.png')"
   ]
  },
  {
   "cell_type": "code",
   "execution_count": 53,
   "metadata": {},
   "outputs": [
    {
     "name": "stdout",
     "output_type": "stream",
     "text": [
      "Logistic Regerssion acc: 0.903686 prec: 0.808628 rec: 0.905105 f1: 0.844153\n"
     ]
    }
   ],
   "source": [
    "camera_camera_eval_lr = eval(\"Logistic Regerssion\", camera_test_label, camera_predict_lr)"
   ]
  },
  {
   "cell_type": "markdown",
   "metadata": {},
   "source": [
    "### Grocery"
   ]
  },
  {
   "cell_type": "markdown",
   "metadata": {},
   "source": [
    "#### Naive Bayes"
   ]
  },
  {
   "cell_type": "code",
   "execution_count": 54,
   "metadata": {},
   "outputs": [],
   "source": [
    "# Naive Bayes\n",
    "naivebayes = MultinomialNB()\n",
    "naivebayes.fit(grocery_train_features, grocery_train_label)\n",
    "grocery_predict_nb = naivebayes.predict(grocery_test_features)"
   ]
  },
  {
   "cell_type": "code",
   "execution_count": 55,
   "metadata": {},
   "outputs": [
    {
     "data": {
      "image/png": "[encoded data removed]",
      "text/plain": [
       "<Figure size 432x288 with 2 Axes>"
      ]
     },
     "metadata": {
      "needs_background": "light"
     },
     "output_type": "display_data"
    }
   ],
   "source": [
    "cm_nb = confusion_matrix(grocery_test_label,grocery_predict_nb)\n",
    "plot_confusion_matrix(cm_nb, classes=naivebayes.classes_.tolist(),\n",
    "                      title='Naive Bayes(Grocery train, grocery test)')\n",
    "plt.savefig('./plots/grocery_grocery_nb.png')"
   ]
  },
  {
   "cell_type": "code",
   "execution_count": 56,
   "metadata": {},
   "outputs": [
    {
     "name": "stdout",
     "output_type": "stream",
     "text": [
      "Naive Bayes acc: 0.820123 prec: 0.706058 rec: 0.811806 f1: 0.732736\n"
     ]
    }
   ],
   "source": [
    "grocery_grocery_eval_nb = eval(\"Naive Bayes\", grocery_test_label, grocery_predict_nb)"
   ]
  },
  {
   "cell_type": "markdown",
   "metadata": {},
   "source": [
    "#### Logistic Regression"
   ]
  },
  {
   "cell_type": "code",
   "execution_count": 57,
   "metadata": {},
   "outputs": [],
   "source": [
    "# Logistic regression\n",
    "logregression = LogisticRegression()\n",
    "logregression.fit(grocery_train_features, grocery_train_label)\n",
    "grocery_predict_lr = logregression.predict(grocery_test_features)"
   ]
  },
  {
   "cell_type": "code",
   "execution_count": 58,
   "metadata": {},
   "outputs": [
    {
     "data": {
      "image/png": "[encoded data removed]",
      "text/plain": [
       "<Figure size 432x288 with 2 Axes>"
      ]
     },
     "metadata": {
      "needs_background": "light"
     },
     "output_type": "display_data"
    }
   ],
   "source": [
    "cm_lr = confusion_matrix(grocery_test_label,grocery_predict_lr)\n",
    "plot_confusion_matrix(cm_lr, classes=logregression.classes_.tolist(),\n",
    "                      title='Logistic Regression(Grocery train, grocery test)')\n",
    "plt.savefig('./plots/grocery_grocery_lr.png')"
   ]
  },
  {
   "cell_type": "code",
   "execution_count": 59,
   "metadata": {},
   "outputs": [
    {
     "name": "stdout",
     "output_type": "stream",
     "text": [
      "Logistic Regerssion acc: 0.875695 prec: 0.765493 rec: 0.842349 f1: 0.794246\n"
     ]
    }
   ],
   "source": [
    "grocery_grocery_eval_lr = eval(\"Logistic Regerssion\", grocery_test_label, grocery_predict_lr)"
   ]
  },
  {
   "cell_type": "markdown",
   "metadata": {},
   "source": [
    "### Watches"
   ]
  },
  {
   "cell_type": "markdown",
   "metadata": {},
   "source": [
    "#### Naive Bayes"
   ]
  },
  {
   "cell_type": "code",
   "execution_count": 60,
   "metadata": {},
   "outputs": [],
   "source": [
    "# Naive Bayes\n",
    "naivebayes = MultinomialNB()\n",
    "naivebayes.fit(watches_train_features, watches_train_label)\n",
    "watches_predict_nb = naivebayes.predict(watches_test_features)"
   ]
  },
  {
   "cell_type": "code",
   "execution_count": 61,
   "metadata": {},
   "outputs": [
    {
     "data": {
      "image/png": "[encoded data removed]",
      "text/plain": [
       "<Figure size 432x288 with 2 Axes>"
      ]
     },
     "metadata": {
      "needs_background": "light"
     },
     "output_type": "display_data"
    }
   ],
   "source": [
    "cm_nb = confusion_matrix(watches_test_label,watches_predict_nb)\n",
    "plot_confusion_matrix(cm_nb, classes=naivebayes.classes_.tolist(),\n",
    "                      title='Naive Bayes(Watches train, watches test)')\n",
    "plt.savefig('./plots/watches_watches_nb.png')"
   ]
  },
  {
   "cell_type": "code",
   "execution_count": 62,
   "metadata": {},
   "outputs": [
    {
     "name": "stdout",
     "output_type": "stream",
     "text": [
      "Naive Bayes acc: 0.863071 prec: 0.761104 rec: 0.883715 f1: 0.796264\n"
     ]
    }
   ],
   "source": [
    "watches_watches_eval_nb = eval(\"Naive Bayes\", watches_test_label, watches_predict_nb)"
   ]
  },
  {
   "cell_type": "markdown",
   "metadata": {},
   "source": [
    "#### Logistic Regression"
   ]
  },
  {
   "cell_type": "code",
   "execution_count": 63,
   "metadata": {},
   "outputs": [],
   "source": [
    "# Logistic regression\n",
    "logregression = LogisticRegression()\n",
    "logregression.fit(watches_train_features, watches_train_label)\n",
    "watches_predict_lr = logregression.predict(watches_test_features)"
   ]
  },
  {
   "cell_type": "code",
   "execution_count": 64,
   "metadata": {},
   "outputs": [
    {
     "data": {
      "image/png": "[encoded data removed]",
      "text/plain": [
       "<Figure size 432x288 with 2 Axes>"
      ]
     },
     "metadata": {
      "needs_background": "light"
     },
     "output_type": "display_data"
    }
   ],
   "source": [
    "cm_lr = confusion_matrix(watches_test_label,watches_predict_lr)\n",
    "plot_confusion_matrix(cm_lr, classes=logregression.classes_.tolist(),\n",
    "                      title='Logistic Regression(Watches train, watches test)')\n",
    "plt.savefig('./plots/watches_watches_lr.png')"
   ]
  },
  {
   "cell_type": "code",
   "execution_count": 65,
   "metadata": {},
   "outputs": [
    {
     "name": "stdout",
     "output_type": "stream",
     "text": [
      "Logistic Regerssion acc: 0.911921 prec: 0.821787 rec: 0.914014 f1: 0.856779\n"
     ]
    }
   ],
   "source": [
    "watches_watches_eval_lr = eval(\"Logistic Regerssion\", watches_test_label, watches_predict_lr)"
   ]
  },
  {
   "cell_type": "markdown",
   "metadata": {},
   "source": [
    "### Video games"
   ]
  },
  {
   "cell_type": "markdown",
   "metadata": {},
   "source": [
    "#### Naive Bayes"
   ]
  },
  {
   "cell_type": "code",
   "execution_count": 66,
   "metadata": {},
   "outputs": [],
   "source": [
    "# Naive Bayes\n",
    "naivebayes = MultinomialNB()\n",
    "naivebayes.fit(videogames_train_features, videogames_train_label)\n",
    "videogames_predict_nb = naivebayes.predict(videogames_test_features)"
   ]
  },
  {
   "cell_type": "code",
   "execution_count": 67,
   "metadata": {},
   "outputs": [
    {
     "data": {
      "image/png": "[encoded data removed]",
      "text/plain": [
       "<Figure size 432x288 with 2 Axes>"
      ]
     },
     "metadata": {
      "needs_background": "light"
     },
     "output_type": "display_data"
    }
   ],
   "source": [
    "cm_nb = confusion_matrix(videogames_test_label,videogames_predict_nb)\n",
    "plot_confusion_matrix(cm_nb, classes=naivebayes.classes_.tolist(),\n",
    "                      title='Naive Bayes(Videogames train, videogames test)')\n",
    "plt.savefig('./plots/videogames_videogames_nb.png')"
   ]
  },
  {
   "cell_type": "code",
   "execution_count": 68,
   "metadata": {},
   "outputs": [
    {
     "name": "stdout",
     "output_type": "stream",
     "text": [
      "Naive Bayes acc: 0.783885 prec: 0.715063 rec: 0.840108 f1: 0.728851\n"
     ]
    }
   ],
   "source": [
    "videogames_videogames_eval_nb = eval(\"Naive Bayes\", videogames_test_label, videogames_predict_nb)"
   ]
  },
  {
   "cell_type": "markdown",
   "metadata": {},
   "source": [
    "#### Logistic Regression"
   ]
  },
  {
   "cell_type": "code",
   "execution_count": 69,
   "metadata": {},
   "outputs": [],
   "source": [
    "# Logistic regression\n",
    "logregression = LogisticRegression()\n",
    "logregression.fit(videogames_train_features, videogames_train_label)\n",
    "videogames_predict_lr = logregression.predict(videogames_test_features)"
   ]
  },
  {
   "cell_type": "code",
   "execution_count": 70,
   "metadata": {},
   "outputs": [
    {
     "data": {
      "image/png": "[encoded data removed]",
      "text/plain": [
       "<Figure size 432x288 with 2 Axes>"
      ]
     },
     "metadata": {
      "needs_background": "light"
     },
     "output_type": "display_data"
    }
   ],
   "source": [
    "cm_lr = confusion_matrix(videogames_test_label,videogames_predict_lr)\n",
    "plot_confusion_matrix(cm_lr, classes=logregression.classes_.tolist(),\n",
    "                      title='Logistic Regression(Videogames train,videogames test)')\n",
    "plt.savefig('./plots/videogames_videogames_lr.png')"
   ]
  },
  {
   "cell_type": "code",
   "execution_count": 71,
   "metadata": {},
   "outputs": [
    {
     "name": "stdout",
     "output_type": "stream",
     "text": [
      "Logistic Regerssion acc: 0.890790 prec: 0.807568 rec: 0.893685 f1: 0.838754\n"
     ]
    }
   ],
   "source": [
    "videogames_videogames_eval_lr = eval(\"Logistic Regerssion\", videogames_test_label, videogames_predict_lr)"
   ]
  }
 ],
 "metadata": {
  "kernelspec": {
   "display_name": "Python 3",
   "language": "python",
   "name": "python3"
  },
  "language_info": {
   "codemirror_mode": {
    "name": "ipython",
    "version": 3
   },
   "file_extension": ".py",
   "mimetype": "text/x-python",
   "name": "python",
   "nbconvert_exporter": "python",
   "pygments_lexer": "ipython3",
   "version": "3.7.0"
  }
 },
 "nbformat": 4,
 "nbformat_minor": 2
}
