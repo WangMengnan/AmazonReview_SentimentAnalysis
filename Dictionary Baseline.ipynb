{
 "cells": [
  {
   "cell_type": "markdown",
   "metadata": {},
   "source": [
    "## Vader"
   ]
  },
  {
   "cell_type": "code",
   "execution_count": 1,
   "metadata": {},
   "outputs": [],
   "source": [
    "import pandas as pd"
   ]
  },
  {
   "cell_type": "code",
   "execution_count": 2,
   "metadata": {
    "scrolled": true
   },
   "outputs": [
    {
     "data": {
      "text/html": [
       "<div>\n",
       "<style scoped>\n",
       "    .dataframe tbody tr th:only-of-type {\n",
       "        vertical-align: middle;\n",
       "    }\n",
       "\n",
       "    .dataframe tbody tr th {\n",
       "        vertical-align: top;\n",
       "    }\n",
       "\n",
       "    .dataframe thead th {\n",
       "        text-align: right;\n",
       "    }\n",
       "</style>\n",
       "<table border=\"1\" class=\"dataframe\">\n",
       "  <thead>\n",
       "    <tr style=\"text-align: right;\">\n",
       "      <th></th>\n",
       "      <th>Unnamed: 0</th>\n",
       "      <th>marketplace</th>\n",
       "      <th>customer_id</th>\n",
       "      <th>review_id</th>\n",
       "      <th>product_id</th>\n",
       "      <th>product_parent</th>\n",
       "      <th>product_title</th>\n",
       "      <th>product_category</th>\n",
       "      <th>star_rating</th>\n",
       "      <th>helpful_votes</th>\n",
       "      <th>total_votes</th>\n",
       "      <th>vine</th>\n",
       "      <th>verified_purchase</th>\n",
       "      <th>review_headline</th>\n",
       "      <th>review_body</th>\n",
       "      <th>review_date</th>\n",
       "      <th>sentiment_actual</th>\n",
       "    </tr>\n",
       "  </thead>\n",
       "  <tbody>\n",
       "    <tr>\n",
       "      <th>0</th>\n",
       "      <td>198472</td>\n",
       "      <td>US</td>\n",
       "      <td>50587442</td>\n",
       "      <td>R3FTD99A5E144Y</td>\n",
       "      <td>B00F5JV4NS</td>\n",
       "      <td>129493899</td>\n",
       "      <td>FotoTech ML-L3 Wireless Shutter Release Remote...</td>\n",
       "      <td>Camera</td>\n",
       "      <td>5</td>\n",
       "      <td>0</td>\n",
       "      <td>0</td>\n",
       "      <td>N</td>\n",
       "      <td>Y</td>\n",
       "      <td>Works with a D610</td>\n",
       "      <td>Works well with my Nikon D610. The range is a ...</td>\n",
       "      <td>2015-05-08</td>\n",
       "      <td>pos</td>\n",
       "    </tr>\n",
       "    <tr>\n",
       "      <th>1</th>\n",
       "      <td>742814</td>\n",
       "      <td>US</td>\n",
       "      <td>50426675</td>\n",
       "      <td>R2W68IQSIU2G4H</td>\n",
       "      <td>B004OVE2IC</td>\n",
       "      <td>705248027</td>\n",
       "      <td>Tenba Medium Shoulder Bag for Camera - Green (...</td>\n",
       "      <td>Camera</td>\n",
       "      <td>5</td>\n",
       "      <td>0</td>\n",
       "      <td>0</td>\n",
       "      <td>N</td>\n",
       "      <td>Y</td>\n",
       "      <td>What a great bag! Tenba 637-262 Medium Shoulde...</td>\n",
       "      <td>Wow, construction of this bag is second to non...</td>\n",
       "      <td>2014-06-03</td>\n",
       "      <td>pos</td>\n",
       "    </tr>\n",
       "    <tr>\n",
       "      <th>2</th>\n",
       "      <td>154538</td>\n",
       "      <td>US</td>\n",
       "      <td>1247110</td>\n",
       "      <td>R1DP0DZE032MF6</td>\n",
       "      <td>B00MWQNGZ6</td>\n",
       "      <td>395806995</td>\n",
       "      <td>Zmodo KHI4-YARUZ4ZN 4-Channel H.264 960H DVR S...</td>\n",
       "      <td>Camera</td>\n",
       "      <td>5</td>\n",
       "      <td>2</td>\n",
       "      <td>2</td>\n",
       "      <td>N</td>\n",
       "      <td>Y</td>\n",
       "      <td>i should have put system in a long time ago ...</td>\n",
       "      <td>i should have put system in a long time ago.  ...</td>\n",
       "      <td>2015-06-04</td>\n",
       "      <td>pos</td>\n",
       "    </tr>\n",
       "    <tr>\n",
       "      <th>3</th>\n",
       "      <td>71096</td>\n",
       "      <td>US</td>\n",
       "      <td>2105923</td>\n",
       "      <td>RD3ANAUT44CXR</td>\n",
       "      <td>B00V370L5S</td>\n",
       "      <td>938192334</td>\n",
       "      <td>Foto4easy 50mm Aluminium Quick Release Plate Q...</td>\n",
       "      <td>Camera</td>\n",
       "      <td>5</td>\n",
       "      <td>1</td>\n",
       "      <td>1</td>\n",
       "      <td>N</td>\n",
       "      <td>Y</td>\n",
       "      <td>9$? Way to good to be true but it is!</td>\n",
       "      <td>So, I'm new to the arca swiss world. And my bo...</td>\n",
       "      <td>2015-07-23</td>\n",
       "      <td>pos</td>\n",
       "    </tr>\n",
       "    <tr>\n",
       "      <th>4</th>\n",
       "      <td>21857</td>\n",
       "      <td>US</td>\n",
       "      <td>36949208</td>\n",
       "      <td>R2T0BMWVI27F0O</td>\n",
       "      <td>B010MFDGXK</td>\n",
       "      <td>407860659</td>\n",
       "      <td>Nikon D3200 24.2 MP Digital SLR Camera Bundle ...</td>\n",
       "      <td>Camera</td>\n",
       "      <td>5</td>\n",
       "      <td>0</td>\n",
       "      <td>0</td>\n",
       "      <td>N</td>\n",
       "      <td>Y</td>\n",
       "      <td>Great camera, now if I can learn all its ...</td>\n",
       "      <td>Great camera, now if I can learn all its finer...</td>\n",
       "      <td>2015-08-19</td>\n",
       "      <td>pos</td>\n",
       "    </tr>\n",
       "  </tbody>\n",
       "</table>\n",
       "</div>"
      ],
      "text/plain": [
       "   Unnamed: 0 marketplace  customer_id       review_id  product_id  \\\n",
       "0      198472          US     50587442  R3FTD99A5E144Y  B00F5JV4NS   \n",
       "1      742814          US     50426675  R2W68IQSIU2G4H  B004OVE2IC   \n",
       "2      154538          US      1247110  R1DP0DZE032MF6  B00MWQNGZ6   \n",
       "3       71096          US      2105923   RD3ANAUT44CXR  B00V370L5S   \n",
       "4       21857          US     36949208  R2T0BMWVI27F0O  B010MFDGXK   \n",
       "\n",
       "   product_parent                                      product_title  \\\n",
       "0       129493899  FotoTech ML-L3 Wireless Shutter Release Remote...   \n",
       "1       705248027  Tenba Medium Shoulder Bag for Camera - Green (...   \n",
       "2       395806995  Zmodo KHI4-YARUZ4ZN 4-Channel H.264 960H DVR S...   \n",
       "3       938192334  Foto4easy 50mm Aluminium Quick Release Plate Q...   \n",
       "4       407860659  Nikon D3200 24.2 MP Digital SLR Camera Bundle ...   \n",
       "\n",
       "  product_category  star_rating  helpful_votes  total_votes vine  \\\n",
       "0           Camera            5              0            0    N   \n",
       "1           Camera            5              0            0    N   \n",
       "2           Camera            5              2            2    N   \n",
       "3           Camera            5              1            1    N   \n",
       "4           Camera            5              0            0    N   \n",
       "\n",
       "  verified_purchase                                    review_headline  \\\n",
       "0                 Y                                  Works with a D610   \n",
       "1                 Y  What a great bag! Tenba 637-262 Medium Shoulde...   \n",
       "2                 Y    i should have put system in a long time ago ...   \n",
       "3                 Y              9$? Way to good to be true but it is!   \n",
       "4                 Y       Great camera, now if I can learn all its ...   \n",
       "\n",
       "                                         review_body review_date  \\\n",
       "0  Works well with my Nikon D610. The range is a ...  2015-05-08   \n",
       "1  Wow, construction of this bag is second to non...  2014-06-03   \n",
       "2  i should have put system in a long time ago.  ...  2015-06-04   \n",
       "3  So, I'm new to the arca swiss world. And my bo...  2015-07-23   \n",
       "4  Great camera, now if I can learn all its finer...  2015-08-19   \n",
       "\n",
       "  sentiment_actual  \n",
       "0              pos  \n",
       "1              pos  \n",
       "2              pos  \n",
       "3              pos  \n",
       "4              pos  "
      ]
     },
     "execution_count": 2,
     "metadata": {},
     "output_type": "execute_result"
    }
   ],
   "source": [
    "camera=pd.read_csv('./train/camera_train.csv',sep='\\t', error_bad_lines=False)\n",
    "camera.head()"
   ]
  },
  {
   "cell_type": "code",
   "execution_count": 3,
   "metadata": {},
   "outputs": [],
   "source": [
    "grocery=pd.read_csv('./train/grocery_train.csv', sep='\\t', error_bad_lines=False)\n",
    "videogames=pd.read_csv('./train/videogames_train.csv', sep='\\t', error_bad_lines=False)\n",
    "watches=pd.read_csv('./train/watches_train.csv', sep='\\t', error_bad_lines=False)\n"
   ]
  },
  {
   "cell_type": "code",
   "execution_count": 4,
   "metadata": {},
   "outputs": [
    {
     "data": {
      "text/plain": [
       "(100000, 17)"
      ]
     },
     "execution_count": 4,
     "metadata": {},
     "output_type": "execute_result"
    }
   ],
   "source": [
    "grocery.shape"
   ]
  },
  {
   "cell_type": "code",
   "execution_count": 5,
   "metadata": {},
   "outputs": [
    {
     "name": "stdout",
     "output_type": "stream",
     "text": [
      "[nltk_data] Downloading package vader_lexicon to\n",
      "[nltk_data]     C:\\Users\\ENW001\\AppData\\Roaming\\nltk_data...\n",
      "Wow, construction of this bag is second to none! Plenty of storage, it is a large bag...can hold a Canon Rebel XT with extra lens...and accessories! Plenty of compartments, slots, even came with a micro fiber cleaning cloth...I love it and would buy another in a minute! {'neg': 0.032, 'neu': 0.792, 'pos': 0.176, 'compound': 0.851}\n"
     ]
    },
    {
     "name": "stderr",
     "output_type": "stream",
     "text": [
      "C:\\Users\\ENW001\\AppData\\Local\\Continuum\\anaconda3\\lib\\site-packages\\nltk\\twitter\\__init__.py:20: UserWarning: The twython library has not been installed. Some functionality from the twitter package will not be available.\n",
      "  warnings.warn(\"The twython library has not been installed. \"\n"
     ]
    }
   ],
   "source": [
    "#just for testing/playing around\n",
    "import nltk\n",
    "nltk.downloader.download('vader_lexicon')\n",
    "from nltk.sentiment.vader import SentimentIntensityAnalyzer\n",
    "\n",
    "sentence = camera['review_body'][1]\n",
    "\n",
    "analyser = SentimentIntensityAnalyzer()\n",
    "\n",
    "def print_sentiment_scores(s):\n",
    "    snt = analyser.polarity_scores(s)\n",
    "    print(\"{:-<40} {}\".format(s, str(snt)))\n",
    "    \n",
    "print_sentiment_scores(sentence)"
   ]
  },
  {
   "cell_type": "code",
   "execution_count": 6,
   "metadata": {},
   "outputs": [],
   "source": [
    "camera['review_body'] = camera['review_body'].astype(str)\n",
    "grocery['review_body'] = grocery['review_body'].astype(str)\n",
    "videogames['review_body'] = videogames['review_body'].astype(str)\n",
    "watches['review_body'] = watches['review_body'].astype(str)"
   ]
  },
  {
   "cell_type": "code",
   "execution_count": 7,
   "metadata": {},
   "outputs": [],
   "source": [
    "#create column for sentiment prediction\n",
    "camera['sentiment_prediction']=\"default\"\n",
    "grocery['sentiment_prediction']=\"default\"\n",
    "videogames['sentiment_prediction']=\"default\"\n",
    "watches['sentiment_prediction']=\"default\""
   ]
  },
  {
   "cell_type": "code",
   "execution_count": 8,
   "metadata": {},
   "outputs": [
    {
     "name": "stderr",
     "output_type": "stream",
     "text": [
      "100%|█████████████████████████████████████████████████████████████████████████| 100000/100000 [01:57<00:00, 851.46it/s]\n"
     ]
    },
    {
     "name": "stdout",
     "output_type": "stream",
     "text": [
      "{'positive': 71915, 'negative': 28085}\n"
     ]
    }
   ],
   "source": [
    "#run analysis and count sentiments\n",
    "from tqdm import tqdm\n",
    "\n",
    "sid = SentimentIntensityAnalyzer()\n",
    "\n",
    "summary = {\"positive\":0,\"negative\":0}\n",
    "\n",
    "with tqdm(total=len(list(camera.iterrows()))) as pbar:\n",
    "\n",
    "    for index, row in camera.iterrows():\n",
    "        ss = sid.polarity_scores(row['review_body']) \n",
    "\n",
    "        if ss[\"compound\"] >= 0.0:\n",
    "            summary[\"positive\"] +=1\n",
    "            camera.at[index, 'sentiment_prediction']=\"pos\"\n",
    "        else:\n",
    "            summary[\"negative\"] +=1\n",
    "            camera.at[index, 'sentiment_prediction']=\"neg\"\n",
    "\n",
    "        pbar.update(1)\n",
    "\n",
    "print(summary)"
   ]
  },
  {
   "cell_type": "code",
   "execution_count": 9,
   "metadata": {},
   "outputs": [
    {
     "name": "stderr",
     "output_type": "stream",
     "text": [
      "100%|████████████████████████████████████████████████████████████████████████| 100000/100000 [01:15<00:00, 1326.47it/s]\n"
     ]
    },
    {
     "name": "stdout",
     "output_type": "stream",
     "text": [
      "{'positive': 146957, 'negative': 53043}\n"
     ]
    }
   ],
   "source": [
    "#run analysis and count sentiments\n",
    "from tqdm import tqdm\n",
    "\n",
    "sid = SentimentIntensityAnalyzer()\n",
    "\n",
    "with tqdm(total=len(list(grocery.iterrows()))) as pbar:\n",
    "\n",
    "    for index, row in grocery.iterrows():\n",
    "        ss = sid.polarity_scores(row['review_body']) \n",
    "\n",
    "        if ss[\"compound\"] >= 0.0:\n",
    "            summary[\"positive\"] +=1\n",
    "            grocery.at[index, 'sentiment_prediction']=\"pos\"\n",
    "        else:\n",
    "            summary[\"negative\"] +=1\n",
    "            grocery.at[index, 'sentiment_prediction']=\"neg\"\n",
    "\n",
    "        pbar.update(1)\n",
    "\n",
    "print(summary)"
   ]
  },
  {
   "cell_type": "code",
   "execution_count": 10,
   "metadata": {},
   "outputs": [
    {
     "name": "stderr",
     "output_type": "stream",
     "text": [
      "100%|█████████████████████████████████████████████████████████████████████████| 100000/100000 [02:18<00:00, 721.78it/s]\n"
     ]
    },
    {
     "name": "stdout",
     "output_type": "stream",
     "text": [
      "{'positive': 220235, 'negative': 79765}\n"
     ]
    }
   ],
   "source": [
    "#run analysis and count sentiments\n",
    "from tqdm import tqdm\n",
    "\n",
    "sid = SentimentIntensityAnalyzer()\n",
    "\n",
    "with tqdm(total=len(list(videogames.iterrows()))) as pbar:\n",
    "\n",
    "    for index, row in videogames.iterrows():\n",
    "        ss = sid.polarity_scores(row['review_body']) \n",
    "\n",
    "        if ss[\"compound\"] >= 0.0:\n",
    "            summary[\"positive\"] +=1\n",
    "            videogames.at[index, 'sentiment_prediction']=\"pos\"\n",
    "        else:\n",
    "            summary[\"negative\"] +=1\n",
    "            videogames.at[index, 'sentiment_prediction']=\"neg\"\n",
    "\n",
    "        pbar.update(1)\n",
    "\n",
    "print(summary)"
   ]
  },
  {
   "cell_type": "code",
   "execution_count": 11,
   "metadata": {},
   "outputs": [
    {
     "name": "stderr",
     "output_type": "stream",
     "text": [
      "100%|████████████████████████████████████████████████████████████████████████| 100000/100000 [01:13<00:00, 1361.41it/s]\n"
     ]
    },
    {
     "name": "stdout",
     "output_type": "stream",
     "text": [
      "{'positive': 294180, 'negative': 105820}\n"
     ]
    }
   ],
   "source": [
    "#run analysis and count sentiments\n",
    "from tqdm import tqdm\n",
    "\n",
    "sid = SentimentIntensityAnalyzer()\n",
    "\n",
    "with tqdm(total=len(list(watches.iterrows()))) as pbar:\n",
    "\n",
    "    for index, row in watches.iterrows():\n",
    "        ss = sid.polarity_scores(row['review_body']) \n",
    "\n",
    "        if ss[\"compound\"] >= 0.0:\n",
    "            summary[\"positive\"] +=1\n",
    "            watches.at[index, 'sentiment_prediction']=\"pos\"\n",
    "        else:\n",
    "            summary[\"negative\"] +=1\n",
    "            watches.at[index, 'sentiment_prediction']=\"neg\"\n",
    "\n",
    "        pbar.update(1)\n",
    "\n",
    "print(summary)"
   ]
  },
  {
   "cell_type": "code",
   "execution_count": 12,
   "metadata": {},
   "outputs": [
    {
     "name": "stderr",
     "output_type": "stream",
     "text": [
      "100%|███████████████████████████████████████████████████████████████████████| 100000/100000 [00:07<00:00, 13729.66it/s]\n"
     ]
    }
   ],
   "source": [
    "watches['sentiment_actual']=\"default\"\n",
    "\n",
    "with tqdm(total=len(list(watches.iterrows()))) as pbar:\n",
    "\n",
    "    for index, row in watches.iterrows():\n",
    "        if row['star_rating'] > 3.0:\n",
    "            watches.at[index, 'sentiment_actual']=\"pos\"\n",
    "        else:\n",
    "            watches.at[index, 'sentiment_actual']=\"neg\"\n",
    "\n",
    "        pbar.update(1)"
   ]
  },
  {
   "cell_type": "code",
   "execution_count": 13,
   "metadata": {},
   "outputs": [
    {
     "name": "stderr",
     "output_type": "stream",
     "text": [
      "100%|███████████████████████████████████████████████████████████████████████| 100000/100000 [00:07<00:00, 14236.61it/s]\n"
     ]
    }
   ],
   "source": [
    "videogames['sentiment_actual']=\"default\"\n",
    "\n",
    "with tqdm(total=len(list(videogames.iterrows()))) as pbar:\n",
    "\n",
    "    for index, row in videogames.iterrows():\n",
    "        if row['star_rating'] > 3.0:\n",
    "            videogames.at[index, 'sentiment_actual']=\"pos\"\n",
    "        else:\n",
    "            videogames.at[index, 'sentiment_actual']=\"neg\"\n",
    "\n",
    "        pbar.update(1)"
   ]
  },
  {
   "cell_type": "code",
   "execution_count": 14,
   "metadata": {},
   "outputs": [
    {
     "name": "stderr",
     "output_type": "stream",
     "text": [
      "100%|███████████████████████████████████████████████████████████████████████| 100000/100000 [00:06<00:00, 14502.96it/s]\n"
     ]
    }
   ],
   "source": [
    "grocery['sentiment_actual']=\"default\"\n",
    "\n",
    "with tqdm(total=len(list(grocery.iterrows()))) as pbar:\n",
    "\n",
    "    for index, row in grocery.iterrows():\n",
    "        if row['star_rating'] > 3.0:\n",
    "            grocery.at[index, 'sentiment_actual']=\"pos\"\n",
    "        else:\n",
    "            grocery.at[index, 'sentiment_actual']=\"neg\"\n",
    "\n",
    "        pbar.update(1)"
   ]
  },
  {
   "cell_type": "code",
   "execution_count": 15,
   "metadata": {},
   "outputs": [
    {
     "name": "stderr",
     "output_type": "stream",
     "text": [
      "100%|███████████████████████████████████████████████████████████████████████| 100000/100000 [00:07<00:00, 13823.37it/s]\n"
     ]
    }
   ],
   "source": [
    "camera['sentiment_actual']=\"default\"\n",
    "\n",
    "with tqdm(total=len(list(camera.iterrows()))) as pbar:\n",
    "\n",
    "    for index, row in camera.iterrows():\n",
    "        if row['star_rating'] > 3.0:\n",
    "            camera.at[index, 'sentiment_actual']=\"pos\"\n",
    "        else:\n",
    "            camera.at[index, 'sentiment_actual']=\"neg\"\n",
    "\n",
    "        pbar.update(1)"
   ]
  },
  {
   "cell_type": "code",
   "execution_count": 16,
   "metadata": {},
   "outputs": [],
   "source": [
    "reviews_merged = camera.append(grocery).append(videogames).append(watches)"
   ]
  },
  {
   "cell_type": "code",
   "execution_count": 17,
   "metadata": {},
   "outputs": [
    {
     "name": "stdout",
     "output_type": "stream",
     "text": [
      "postive:  0.73545\n",
      "negative:  0.26455\n"
     ]
    }
   ],
   "source": [
    "#calculate percentages of sentiments in dataset\n",
    "print(\"postive: \", summary['positive']/len(reviews_merged.index))\n",
    "print(\"negative: \", summary['negative']/len(reviews_merged.index))"
   ]
  },
  {
   "cell_type": "code",
   "execution_count": 18,
   "metadata": {},
   "outputs": [],
   "source": [
    "from sklearn.metrics import f1_score\n",
    "from sklearn.metrics import precision_score\n",
    "from sklearn.metrics import recall_score\n"
   ]
  },
  {
   "cell_type": "code",
   "execution_count": 19,
   "metadata": {},
   "outputs": [
    {
     "data": {
      "text/plain": [
       "pos    294180\n",
       "neg    105820\n",
       "dtype: int64"
      ]
     },
     "execution_count": 19,
     "metadata": {},
     "output_type": "execute_result"
    }
   ],
   "source": [
    "pd.value_counts(reviews_merged['sentiment_prediction'].values, sort=False)"
   ]
  },
  {
   "cell_type": "code",
   "execution_count": 20,
   "metadata": {},
   "outputs": [
    {
     "name": "stdout",
     "output_type": "stream",
     "text": [
      "Micro precision:  0.71409\n",
      "Macro precision:  0.7750904239788596\n",
      "Micro recall:  0.71409\n",
      "Macro recall:  0.71409\n",
      "Micro F1:  0.71409\n",
      "Macro F1:  0.6973098565689294\n"
     ]
    }
   ],
   "source": [
    "print(\"Micro precision: \",precision_score(reviews_merged['sentiment_actual'], reviews_merged['sentiment_prediction'], average='micro'))\n",
    "print(\"Macro precision: \",precision_score(reviews_merged['sentiment_actual'], reviews_merged['sentiment_prediction'], average='macro'))\n",
    "\n",
    "print(\"Micro recall: \",recall_score(reviews_merged['sentiment_actual'], reviews_merged['sentiment_prediction'], average='micro'))\n",
    "print(\"Macro recall: \",recall_score(reviews_merged['sentiment_actual'], reviews_merged['sentiment_prediction'], average='macro'))\n",
    "\n",
    "print(\"Micro F1: \",f1_score(reviews_merged['sentiment_actual'], reviews_merged['sentiment_prediction'], average='micro'))\n",
    "print(\"Macro F1: \",f1_score(reviews_merged['sentiment_actual'], reviews_merged['sentiment_prediction'], average='macro'))"
   ]
  },
  {
   "cell_type": "code",
   "execution_count": 21,
   "metadata": {},
   "outputs": [
    {
     "data": {
      "text/plain": [
       "(95728, 104272, 10092, 189908)"
      ]
     },
     "execution_count": 21,
     "metadata": {},
     "output_type": "execute_result"
    }
   ],
   "source": [
    "from sklearn.metrics import confusion_matrix\n",
    "tn, fp, fn, tp = confusion_matrix(reviews_merged['sentiment_actual'], reviews_merged['sentiment_prediction']).ravel()\n",
    "(tn, fp, fn, tp)"
   ]
  },
  {
   "cell_type": "markdown",
   "metadata": {},
   "source": [
    "## Bing Liu"
   ]
  },
  {
   "cell_type": "code",
   "execution_count": 22,
   "metadata": {},
   "outputs": [],
   "source": [
    "#read in lists and sets again\n",
    "\n",
    "with open('./Bing Liu Lexicon/positive-words.txt',encoding = \"ISO-8859-1\") as f:\n",
    "    positive_words = f.read().splitlines()\n",
    "    \n",
    "with open('./Bing Liu Lexicon/negative-words.txt',encoding = \"ISO-8859-1\") as g:\n",
    "    negative_words = g.read().splitlines()\n",
    "    \n",
    "camera_bing=pd.read_csv('./train/camera_train.csv',sep='\\t', error_bad_lines=False)\n",
    "videogames_bing=pd.read_csv('./train/videogames_train.csv',sep='\\t', error_bad_lines=False)\n",
    "grocery_bing=pd.read_csv('./train/grocery_train.csv',sep='\\t', error_bad_lines=False)\n",
    "watches_bing=pd.read_csv('./train/watches_train.csv',sep='\\t', error_bad_lines=False)\n",
    "\n",
    "   \n",
    "camera_bing['review_body'] = camera_bing['review_body'].astype(str)\n",
    "videogames_bing['review_body'] = videogames_bing['review_body'].astype(str)\n",
    "grocery_bing['review_body'] = grocery_bing['review_body'].astype(str)\n",
    "watches_bing['review_body'] = watches_bing['review_body'].astype(str)\n",
    "\n",
    "camera_bing['sentiment_prediction']=\"default\"\n",
    "videogames_bing['sentiment_prediction']=\"default\"\n",
    "grocery_bing['sentiment_prediction']=\"default\"\n",
    "watches_bing['sentiment_prediction']=\"default\"\n",
    "\n",
    "camera_bing['sentiment_actual']=\"default\"\n",
    "videogames_bing['sentiment_actual']=\"default\"\n",
    "grocery_bing['sentiment_actual']=\"default\"\n",
    "watches_bing['sentiment_actual']=\"default\"\n",
    "\n",
    "\n"
   ]
  },
  {
   "cell_type": "code",
   "execution_count": 23,
   "metadata": {},
   "outputs": [
    {
     "name": "stderr",
     "output_type": "stream",
     "text": [
      "100%|███████████████████████████████████████████████████████████████████████| 100000/100000 [00:06<00:00, 14521.92it/s]\n"
     ]
    }
   ],
   "source": [
    "with tqdm(total=len(list(camera_bing.iterrows()))) as pbar:\n",
    "    for index, row in camera_bing.iterrows():\n",
    "        if row['star_rating'] > 3.0:\n",
    "            camera_bing.at[index, 'sentiment_actual']=\"pos\"\n",
    "        else:\n",
    "            camera_bing.at[index, 'sentiment_actual']=\"neg\"\n",
    "        \n",
    "        pbar.update(1)"
   ]
  },
  {
   "cell_type": "code",
   "execution_count": 24,
   "metadata": {},
   "outputs": [
    {
     "name": "stderr",
     "output_type": "stream",
     "text": [
      "100%|███████████████████████████████████████████████████████████████████████| 100000/100000 [00:07<00:00, 13941.76it/s]\n"
     ]
    }
   ],
   "source": [
    "with tqdm(total=len(list(videogames_bing.iterrows()))) as pbar:\n",
    "    for index, row in videogames_bing.iterrows():\n",
    "        if row['star_rating'] > 3.0:\n",
    "            videogames_bing.at[index, 'sentiment_actual']=\"pos\"\n",
    "        else:\n",
    "            videogames_bing.at[index, 'sentiment_actual']=\"neg\"\n",
    "        \n",
    "        pbar.update(1)"
   ]
  },
  {
   "cell_type": "code",
   "execution_count": 25,
   "metadata": {},
   "outputs": [
    {
     "name": "stderr",
     "output_type": "stream",
     "text": [
      "100%|███████████████████████████████████████████████████████████████████████| 100000/100000 [00:07<00:00, 13840.55it/s]\n"
     ]
    }
   ],
   "source": [
    "with tqdm(total=len(list(grocery_bing.iterrows()))) as pbar:\n",
    "    for index, row in grocery_bing.iterrows():\n",
    "        if row['star_rating'] > 3.0:\n",
    "            grocery_bing.at[index, 'sentiment_actual']=\"pos\"\n",
    "        else:\n",
    "            grocery_bing.at[index, 'sentiment_actual']=\"neg\"\n",
    "        \n",
    "        pbar.update(1)"
   ]
  },
  {
   "cell_type": "code",
   "execution_count": 26,
   "metadata": {},
   "outputs": [
    {
     "name": "stderr",
     "output_type": "stream",
     "text": [
      "100%|███████████████████████████████████████████████████████████████████████| 100000/100000 [00:07<00:00, 14190.14it/s]\n"
     ]
    }
   ],
   "source": [
    "with tqdm(total=len(list(watches_bing.iterrows()))) as pbar:\n",
    "    for index, row in watches_bing.iterrows():\n",
    "        if row['star_rating'] > 3.0:\n",
    "            watches_bing.at[index, 'sentiment_actual']=\"pos\"\n",
    "        else:\n",
    "            watches_bing.at[index, 'sentiment_actual']=\"neg\"\n",
    "        \n",
    "        pbar.update(1)"
   ]
  },
  {
   "cell_type": "code",
   "execution_count": 27,
   "metadata": {},
   "outputs": [],
   "source": [
    "reviews_merged_bing = camera_bing.append(grocery_bing).append(videogames_bing).append(watches_bing)"
   ]
  },
  {
   "cell_type": "code",
   "execution_count": 28,
   "metadata": {},
   "outputs": [
    {
     "name": "stderr",
     "output_type": "stream",
     "text": [
      "100%|████████████████████████████████████████████████████████████████████████| 400000/400000 [2:01:13<00:00, 54.99it/s]\n"
     ]
    },
    {
     "name": "stdout",
     "output_type": "stream",
     "text": [
      "{'positive': 233700, 'negative': 166300}\n"
     ]
    }
   ],
   "source": [
    "import re\n",
    "\n",
    "summary_bing = {\"positive\":0,\"negative\":0}\n",
    "\n",
    "\n",
    "total_positives = 0\n",
    "total_negatives = 0\n",
    "total_score = 0\n",
    "\n",
    "\n",
    "with tqdm(total=len(list(reviews_merged_bing.iterrows()))) as pbar:\n",
    "    for index, row in reviews_merged_bing.iterrows():\n",
    "        wordList = re.sub(\"[^\\w]\", \" \",  row['review_body']).split()\n",
    "        #print(wordList)\n",
    "        total_positives = 0\n",
    "        total_negatives = 0\n",
    "        total_score = 0\n",
    "\n",
    "        for word in positive_words:\n",
    "            positives = wordList.count(word)\n",
    "            #if(positives>0):\n",
    "            #    print(\"positive\",positives,word)\n",
    "            total_positives = total_positives+positives\n",
    "\n",
    "        for word in negative_words:\n",
    "            negatives = wordList.count(word)\n",
    "            #if(negatives>0):\n",
    "            #    print(\"negative \", negatives,word)\n",
    "            total_negatives = total_negatives+negatives    \n",
    "\n",
    "        total_score=total_positives - total_negatives\n",
    "        \n",
    "        #print(total_score)\n",
    "\n",
    "        if total_score>0:\n",
    "            reviews_merged_bing.at[index, 'sentiment_prediction']=\"pos\"\n",
    "            summary_bing[\"positive\"] +=1\n",
    "        else:\n",
    "            summary_bing[\"negative\"] +=1\n",
    "            reviews_merged_bing.at[index, 'sentiment_prediction']=\"neg\"\n",
    "        \n",
    "        pbar.update(1)\n",
    "\n",
    "print(summary_bing)"
   ]
  },
  {
   "cell_type": "code",
   "execution_count": 29,
   "metadata": {},
   "outputs": [
    {
     "name": "stdout",
     "output_type": "stream",
     "text": [
      "Micro precision:  0.71032\n",
      "Macro precision:  0.713772278297498\n",
      "Micro recall:  0.71032\n",
      "Macro recall:  0.7103200000000001\n",
      "Micro F1:  0.7103199999999998\n",
      "Macro F1:  0.7091457248439172\n"
     ]
    }
   ],
   "source": [
    "print(\"Micro precision: \",precision_score(reviews_merged_bing['sentiment_actual'], reviews_merged_bing['sentiment_prediction'], average='micro'))\n",
    "print(\"Macro precision: \",precision_score(reviews_merged_bing['sentiment_actual'], reviews_merged_bing['sentiment_prediction'], average='macro'))\n",
    "\n",
    "print(\"Micro recall: \",recall_score(reviews_merged_bing['sentiment_actual'], reviews_merged_bing['sentiment_prediction'], average='micro'))\n",
    "print(\"Macro recall: \",recall_score(reviews_merged_bing['sentiment_actual'], reviews_merged_bing['sentiment_prediction'], average='macro'))\n",
    "\n",
    "print(\"Micro F1: \",f1_score(reviews_merged_bing['sentiment_actual'], reviews_merged_bing['sentiment_prediction'], average='micro'))\n",
    "print(\"Macro F1: \",f1_score(reviews_merged_bing['sentiment_actual'], reviews_merged_bing['sentiment_prediction'], average='macro'))"
   ]
  },
  {
   "cell_type": "code",
   "execution_count": null,
   "metadata": {},
   "outputs": [],
   "source": []
  }
 ],
 "metadata": {
  "kernelspec": {
   "display_name": "Python 3",
   "language": "python",
   "name": "python3"
  },
  "language_info": {
   "codemirror_mode": {
    "name": "ipython",
    "version": 3
   },
   "file_extension": ".py",
   "mimetype": "text/x-python",
   "name": "python",
   "nbconvert_exporter": "python",
   "pygments_lexer": "ipython3",
   "version": "3.6.4"
  }
 },
 "nbformat": 4,
 "nbformat_minor": 2
}
